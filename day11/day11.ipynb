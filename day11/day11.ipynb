{
 "cells": [
  {
   "cell_type": "code",
   "execution_count": 3,
   "id": "0dfd231e",
   "metadata": {},
   "outputs": [
    {
     "data": {
      "text/plain": [
       "\"...#......\"\n",
       "\".......#..\"\n",
       "\"#.........\"\n",
       "\"..........\"\n",
       "\"......#...\"\n",
       "\".#........\"\n",
       "\".........#\"\n",
       "\"..........\"\n",
       "\".......#..\"\n",
       "\"#...#.....\"\n"
      ]
     },
     "execution_count": 3,
     "metadata": {},
     "output_type": "execute_result"
    }
   ],
   "source": [
    "i:read0`:test1.txt\n",
    "colN:count first i\n",
    "rowN:count i\n",
    "i"
   ]
  },
  {
   "cell_type": "code",
   "execution_count": 70,
   "id": "c26d5d89",
   "metadata": {},
   "outputs": [
    {
     "data": {
      "text/plain": [
       "32 56 62 66 69 72 76 136\n",
       "37 62 65 69 75 77 80 83 90 115 123\n"
      ]
     },
     "execution_count": 70,
     "metadata": {},
     "output_type": "execute_result"
    }
   ],
   "source": [
    "/ rows cols\n",
    "idx2dup:where@'(all';all)@\\:i=\".\"\n",
    "idx2dup"
   ]
  },
  {
   "cell_type": "markdown",
   "id": "3d86e6cb",
   "metadata": {},
   "source": [
    "# Part 1"
   ]
  },
  {
   "cell_type": "code",
   "execution_count": 71,
   "id": "49cca245",
   "metadata": {},
   "outputs": [
    {
     "data": {
      "text/plain": [
       "\"...........................#.......#......................#...................\n",
       "\"...................................................#..........................\n",
       "\"........#.....................................#...............................\n",
       "\"..............................................................................\n",
       "\"#...................#........................................#................\n",
       "\"...............#..............................................................\n",
       "\".........................................................#....................\n",
       "\"...............................................#.......................#......\n",
       "\".............................#......#.........................................\n",
       "\".......................#............................#.........................\n",
       "\".....#........................................................................\n",
       "\"...........#......#..................................................#........\n",
       "\"..............................................................................\n",
       "\"..............................#.........................#.....................\n",
       "\"..................................................#..........#................\n",
       "\"........#.................................#...................................\n",
       "\".........................#....................................................\n",
       "\"............#.................................................................\n",
       "\"....................#.........................................................\n",
       "\".............................................#.............#..................\n",
       "\"..............................#.....#.........................................\n",
       "\"#.........#.........................................#.............#...........\n",
       "..\n"
      ]
     },
     "execution_count": 71,
     "metadata": {},
     "output_type": "execute_result"
    }
   ],
   "source": [
    "/ duplicate rows\n",
    "di:i raze {$[x in y;2#x;x]}[;idx2dup 0] each til rowN\n",
    "/ duplicate cols\n",
    "di:di[;raze {$[x in y;2#x;x]}[;idx2dup 1] each til rowN]\n",
    "di"
   ]
  },
  {
   "cell_type": "code",
   "execution_count": 72,
   "id": "56625642",
   "metadata": {},
   "outputs": [
    {
     "name": "stdout",
     "output_type": "stream",
     "text": [
      "(27 35 58 78 123 139;51 103 145;8 46 89 115;,130;0 20 61;15 95 108 120 135;57..\n"
     ]
    },
    {
     "data": {
      "text/plain": [
       "0 27 \n",
       "0 35 \n",
       "0 58 \n",
       "0 78 \n",
       "0 123\n",
       "0 139\n",
       "1 51 \n",
       "1 103\n",
       "1 145\n",
       "2 8  \n",
       "2 46 \n",
       "2 89 \n",
       "2 115\n",
       "3 130\n",
       "4 0  \n",
       "4 20 \n",
       "4 61 \n",
       "5 15 \n",
       "5 95 \n",
       "5 108\n",
       "5 120\n",
       "5 135\n",
       "..\n"
      ]
     },
     "execution_count": 72,
     "metadata": {},
     "output_type": "execute_result"
    }
   ],
   "source": [
    "/ galaxy locations\n",
    "g:raze til[count di](,/:)'0N!where each di=\"#\"\n",
    "g"
   ]
  },
  {
   "cell_type": "code",
   "execution_count": 73,
   "id": "ee1e50b7",
   "metadata": {},
   "outputs": [
    {
     "data": {
      "text/plain": [
       "0 27  0 35 \n",
       "0 27  0 58 \n",
       "0 27  0 78 \n",
       "0 27  0 123\n",
       "0 27  0 139\n",
       "0 27  1 51 \n",
       "0 27  1 103\n",
       "0 27  1 145\n",
       "0 27  2 8  \n",
       "0 27  2 46 \n",
       "0 27  2 89 \n",
       "0 27  2 115\n",
       "0 27  3 130\n",
       "0 27  4 0  \n",
       "0 27  4 20 \n",
       "0 27  4 61 \n",
       "0 27  5 15 \n",
       "0 27  5 95 \n",
       "0 27  5 108\n",
       "0 27  5 120\n",
       "0 27  5 135\n",
       "0 27  6 57 \n",
       "..\n"
      ]
     },
     "execution_count": 73,
     "metadata": {},
     "output_type": "execute_result"
    }
   ],
   "source": [
    "/ unique unordered pairs\n",
    "gp:g lc where .[<] flip lc:l cross l:til count g\n",
    "gp"
   ]
  },
  {
   "cell_type": "code",
   "execution_count": 74,
   "id": "27c85183",
   "metadata": {},
   "outputs": [
    {
     "data": {
      "text/plain": [
       "9370588\n"
      ]
     },
     "execution_count": 74,
     "metadata": {},
     "output_type": "execute_result"
    }
   ],
   "source": [
    "/ part 1 - sum of sum of absolute coordinate differences\n",
    "sum {sum abs x-y}.'gp"
   ]
  },
  {
   "cell_type": "markdown",
   "id": "0e43f41b",
   "metadata": {},
   "source": [
    "# Part 2"
   ]
  },
  {
   "cell_type": "code",
   "execution_count": 54,
   "id": "f938e650",
   "metadata": {},
   "outputs": [
    {
     "name": "stdout",
     "output_type": "stream",
     "text": [
      "(0 3;1 7;2 0;4 6;5 1;6 9;8 7;9 0;9 4)\n"
     ]
    }
   ],
   "source": [
    "/ original galaxy locations\n",
    "g:0N!raze til[count i](,/:)'where each i=\"#\""
   ]
  },
  {
   "cell_type": "code",
   "execution_count": 55,
   "id": "c0dc8aa4",
   "metadata": {},
   "outputs": [
    {
     "data": {
      "text/plain": [
       "7 3\n",
       "8 5 2\n"
      ]
     },
     "execution_count": 55,
     "metadata": {},
     "output_type": "execute_result"
    }
   ],
   "source": [
    "/ reversed to easily expand later\n",
    "idx2dup:reverse@'where@'(all';all)@\\:i=\".\"\n",
    "idx2dup"
   ]
  },
  {
   "cell_type": "code",
   "execution_count": 56,
   "id": "f3f228d9",
   "metadata": {},
   "outputs": [
    {
     "data": {
      "text/plain": [
       "0  12\n",
       "1  25\n",
       "2  0 \n",
       "13 24\n",
       "14 1 \n",
       "15 36\n",
       "26 25\n",
       "27 0 \n",
       "27 13\n"
      ]
     },
     "execution_count": 56,
     "metadata": {},
     "output_type": "execute_result"
    }
   ],
   "source": [
    "/ expand by N\n",
    "N:10\n",
    "ge:{{.[x;(where x[;z]>y;z);+;N-1]}[;;y]/[x;idx2dup y]}/[g;0 1]\n",
    "ge"
   ]
  },
  {
   "cell_type": "code",
   "execution_count": 57,
   "id": "8880e7e1",
   "metadata": {},
   "outputs": [
    {
     "data": {
      "text/plain": [
       "1030\n"
      ]
     },
     "execution_count": 57,
     "metadata": {},
     "output_type": "execute_result"
    }
   ],
   "source": [
    "gp:ge lc where .[<] flip lc:l cross l:til count ge\n",
    "sum {sum abs x-y}.'gp"
   ]
  },
  {
   "cell_type": "code",
   "execution_count": null,
   "id": "d5c047d9",
   "metadata": {},
   "outputs": [],
   "source": [
    "/ co"
   ]
  }
 ],
 "metadata": {
  "kernelspec": {
   "display_name": "Q (kdb+)",
   "language": "q",
   "name": "qpk"
  },
  "language_info": {
   "file_extension": ".q",
   "mimetype": "text/x-q",
   "name": "q",
   "version": "4.0"
  }
 },
 "nbformat": 4,
 "nbformat_minor": 5
}
