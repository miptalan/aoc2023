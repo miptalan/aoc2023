{
 "cells": [
  {
   "cell_type": "code",
   "execution_count": 1,
   "id": "ac7f061c",
   "metadata": {},
   "outputs": [
    {
     "data": {
      "text/plain": [
       "1 0\n"
      ]
     },
     "execution_count": 1,
     "metadata": {},
     "output_type": "execute_result"
    },
    {
     "data": {
      "text/plain": [
       "\"AAA = (BBB, CCC)\"\n",
       "\"BBB = (DDD, EEE)\"\n",
       "\"CCC = (ZZZ, GGG)\"\n",
       "\"DDD = (DDD, DDD)\"\n",
       "\"EEE = (EEE, EEE)\"\n",
       "\"GGG = (GGG, GGG)\"\n",
       "\"ZZZ = (ZZZ, ZZZ)\"\n"
      ]
     },
     "execution_count": 1,
     "metadata": {},
     "output_type": "execute_result"
    }
   ],
   "source": [
    "i:read0`:test1.txt\n",
    "d:(\"LR\"!0 1)first i\n",
    "N:count d\n",
    "d\n",
    "2_i"
   ]
  },
  {
   "cell_type": "code",
   "execution_count": 2,
   "id": "8bcbfed0",
   "metadata": {},
   "outputs": [
    {
     "data": {
      "text/plain": [
       "AAA BBB CCC\n",
       "BBB DDD EEE\n",
       "CCC ZZZ GGG\n",
       "DDD DDD DDD\n",
       "EEE EEE EEE\n",
       "GGG GGG GGG\n",
       "ZZZ ZZZ ZZZ\n"
      ]
     },
     "execution_count": 2,
     "metadata": {},
     "output_type": "execute_result"
    }
   ],
   "source": [
    "`$3 cut/:except[;\" =(),\"]'[2_i]"
   ]
  },
  {
   "cell_type": "code",
   "execution_count": 3,
   "id": "23d025b0",
   "metadata": {},
   "outputs": [
    {
     "data": {
      "text/plain": [
       "`AAA `BBB`CCC\n",
       "`BBB `DDD`EEE\n",
       "`CCC `ZZZ`GGG\n",
       "`DDD `DDD`DDD\n",
       "`EEE `EEE`EEE\n",
       "`GGG `GGG`GGG\n",
       "`ZZZ `ZZZ`ZZZ\n"
      ]
     },
     "execution_count": 3,
     "metadata": {},
     "output_type": "execute_result"
    }
   ],
   "source": [
    "(`$3 cut/:except[;\" =(),\"]'[2_i])[;(0;1 2)]"
   ]
  },
  {
   "cell_type": "code",
   "execution_count": 4,
   "id": "2755f79c",
   "metadata": {},
   "outputs": [
    {
     "data": {
      "text/plain": [
       "AAA| BBB CCC\n",
       "BBB| DDD EEE\n",
       "CCC| ZZZ GGG\n",
       "DDD| DDD DDD\n",
       "EEE| EEE EEE\n",
       "GGG| GGG GGG\n",
       "ZZZ| ZZZ ZZZ\n"
      ]
     },
     "execution_count": 4,
     "metadata": {},
     "output_type": "execute_result"
    }
   ],
   "source": [
    "mfn:{(!). flip(`$3 cut/:except[;\" =(),\"]'[x])[;(0;1 2)]}\n",
    "m:mfn[2_i]\n",
    "m"
   ]
  },
  {
   "cell_type": "markdown",
   "id": "ea247623",
   "metadata": {},
   "source": [
    "# Part 1"
   ]
  },
  {
   "cell_type": "code",
   "execution_count": 5,
   "id": "c71ada37",
   "metadata": {},
   "outputs": [
    {
     "data": {
      "text/plain": [
       "2\n"
      ]
     },
     "execution_count": 5,
     "metadata": {},
     "output_type": "execute_result"
    }
   ],
   "source": [
    "f1:{if[`ZZZ=x 0;:x];(m[x 0]d x[1]mod N;1+x 1)}\n",
    "last f1/[(`AAA;0)]"
   ]
  },
  {
   "cell_type": "markdown",
   "id": "9ba11f51",
   "metadata": {},
   "source": [
    "# Part 2"
   ]
  },
  {
   "cell_type": "code",
   "execution_count": 6,
   "id": "b26673c2",
   "metadata": {},
   "outputs": [
    {
     "data": {
      "text/plain": [
       "11A| 11B XXX\n",
       "11B| XXX 11Z\n",
       "11Z| 11B XXX\n",
       "22A| 22B XXX\n",
       "22B| 22C 22C\n",
       "22C| 22Z 22Z\n",
       "22Z| 22B 22B\n",
       "XXX| XXX XXX\n"
      ]
     },
     "execution_count": 6,
     "metadata": {},
     "output_type": "execute_result"
    }
   ],
   "source": [
    "d:(\"LR\"!0 1)first i:read0`:test3.txt\n",
    "m:mfn[2_i]\n",
    "m"
   ]
  },
  {
   "cell_type": "code",
   "execution_count": 7,
   "id": "735fc705",
   "metadata": {},
   "outputs": [
    {
     "data": {
      "text/plain": [
       "`11A`22A\n"
      ]
     },
     "execution_count": 7,
     "metadata": {},
     "output_type": "execute_result"
    }
   ],
   "source": [
    "s:s where (s:key m) like \"*A\"\n",
    "s"
   ]
  },
  {
   "cell_type": "code",
   "execution_count": 8,
   "id": "a04f59fd",
   "metadata": {},
   "outputs": [
    {
     "data": {
      "text/plain": [
       "2\n"
      ]
     },
     "execution_count": 8,
     "metadata": {},
     "output_type": "execute_result"
    }
   ],
   "source": [
    "/ just replace end condition to \"ends with Z\"\n",
    "f2:{if[x[0] like \"*Z\";:x];(m[x 0]d x[1] mod N;1+x 1)}\n",
    "last f2/[(`11A;0)]"
   ]
  },
  {
   "cell_type": "code",
   "execution_count": 9,
   "id": "2deeb86d",
   "metadata": {},
   "outputs": [
    {
     "data": {
      "text/plain": [
       "2 3\n"
      ]
     },
     "execution_count": 9,
     "metadata": {},
     "output_type": "execute_result"
    }
   ],
   "source": [
    "/ individual steps to Z\n",
    "'[last;(f2/)]'[s,\\:0]"
   ]
  },
  {
   "cell_type": "code",
   "execution_count": 10,
   "id": "7c173e36",
   "metadata": {},
   "outputs": [
    {
     "data": {
      "text/plain": [
       "5\n"
      ]
     },
     "execution_count": 10,
     "metadata": {},
     "output_type": "execute_result"
    },
    {
     "data": {
      "text/plain": [
       "12\n"
      ]
     },
     "execution_count": 10,
     "metadata": {},
     "output_type": "execute_result"
    }
   ],
   "source": [
    "gcd:{if[y=0;:x];.z.s[y;x mod y]}\n",
    "gcd[35;15]\n",
    "\n",
    "lcm:{x*y div gcd[x;y]}\n",
    "lcm[4;6]"
   ]
  },
  {
   "cell_type": "code",
   "execution_count": 11,
   "id": "901a3046",
   "metadata": {},
   "outputs": [
    {
     "data": {
      "text/plain": [
       "6\n"
      ]
     },
     "execution_count": 11,
     "metadata": {},
     "output_type": "execute_result"
    }
   ],
   "source": [
    "/ chains will meet in LCM\n",
    "lcm/[1;'[last;(f2/)]'[s,\\:0]]"
   ]
  },
  {
   "cell_type": "code",
   "execution_count": 12,
   "id": "291b4167",
   "metadata": {},
   "outputs": [
    {
     "name": "stdout",
     "output_type": "stream",
     "text": [
      "20093\n"
     ]
    },
    {
     "data": {
      "text/plain": [
       "35 1472\n"
      ]
     },
     "execution_count": 12,
     "metadata": {},
     "output_type": "execute_result"
    },
    {
     "name": "stdout",
     "output_type": "stream",
     "text": [
      "22103062509257\n"
     ]
    },
    {
     "data": {
      "text/plain": [
       "189 2256\n"
      ]
     },
     "execution_count": 12,
     "metadata": {},
     "output_type": "execute_result"
    }
   ],
   "source": [
    "/ real inputs\n",
    "d:(\"LR\"!0 1)first i:read0`:input.txt\n",
    "N:count d\n",
    "m:mfn[2_i]\n",
    "s:s where(s:key m)like \"*A\"\n",
    "\n",
    "/p1\n",
    "\\ts 0N!last f1/[(`AAA;0)]\n",
    "\n",
    "/p2\n",
    "\\ts 0N!lcm/[1;'[last;(f2/)]'[s,\\:0]]"
   ]
  }
 ],
 "metadata": {
  "kernelspec": {
   "display_name": "Q (kdb+)",
   "language": "q",
   "name": "qpk"
  },
  "language_info": {
   "file_extension": ".q",
   "mimetype": "text/x-q",
   "name": "q",
   "version": "4.0"
  }
 },
 "nbformat": 4,
 "nbformat_minor": 5
}
