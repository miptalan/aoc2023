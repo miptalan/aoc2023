{
 "cells": [
  {
   "cell_type": "code",
   "execution_count": 1,
   "id": "bb909394",
   "metadata": {},
   "outputs": [
    {
     "data": {
      "text/plain": [
       "72 65 83 72i\n"
      ]
     },
     "execution_count": 1,
     "metadata": {},
     "output_type": "execute_result"
    }
   ],
   "source": [
    "`int$\"HASH\""
   ]
  },
  {
   "cell_type": "code",
   "execution_count": 40,
   "id": "9985c96a",
   "metadata": {},
   "outputs": [
    {
     "data": {
      "text/plain": [
       "200 153 172 52\n"
      ]
     },
     "execution_count": 40,
     "metadata": {},
     "output_type": "execute_result"
    }
   ],
   "source": [
    "{(17*x+y)mod 256}\\[0;`int$\"HASH\"]"
   ]
  },
  {
   "cell_type": "code",
   "execution_count": 8,
   "id": "f2373eb3",
   "metadata": {},
   "outputs": [
    {
     "data": {
      "text/plain": [
       "\"rn=1\"\n",
       "\"cm-\"\n",
       "\"qp=3\"\n",
       "\"cm=2\"\n",
       "\"qp-\"\n",
       "\"pc=4\"\n",
       "\"ot=9\"\n",
       "\"ab=5\"\n",
       "\"pc-\"\n",
       "\"pc=6\"\n",
       "\"ot=7\"\n"
      ]
     },
     "execution_count": 8,
     "metadata": {},
     "output_type": "execute_result"
    }
   ],
   "source": [
    "i:\",\"vs first read0`:test1.txt\n",
    "i"
   ]
  },
  {
   "cell_type": "code",
   "execution_count": 42,
   "id": "33f98201",
   "metadata": {},
   "outputs": [
    {
     "data": {
      "text/plain": [
       "1320\n"
      ]
     },
     "execution_count": 42,
     "metadata": {},
     "output_type": "execute_result"
    }
   ],
   "source": [
    "/ accumulate \n",
    "hfn:{{(17*x+y)mod 256}/[0;`int$x]}\n",
    "sum hfn each i"
   ]
  },
  {
   "cell_type": "markdown",
   "id": "c600bb86",
   "metadata": {},
   "source": [
    "# Part 1"
   ]
  },
  {
   "cell_type": "code",
   "execution_count": 43,
   "id": "51472761",
   "metadata": {},
   "outputs": [
    {
     "data": {
      "text/plain": [
       "494980\n"
      ]
     },
     "execution_count": 43,
     "metadata": {},
     "output_type": "execute_result"
    }
   ],
   "source": [
    "/ real input\n",
    "sum hfn each \",\"vs first read0`:input.txt"
   ]
  },
  {
   "cell_type": "markdown",
   "id": "022878f9",
   "metadata": {},
   "source": [
    "# Part 2"
   ]
  },
  {
   "cell_type": "code",
   "execution_count": 44,
   "id": "8469c7b2",
   "metadata": {},
   "outputs": [
    {
     "data": {
      "text/plain": [
       "0| ((\"rn\";1);(\"cm\";2))\n",
       "3| ((\"ot\";7);(\"ab\";5);(\"pc\";6))\n"
      ]
     },
     "execution_count": 44,
     "metadata": {},
     "output_type": "execute_result"
    }
   ],
   "source": [
    "/ keep results in dict\n",
    "d:til[256]!256#()\n",
    "d[0]:((\"rn\";1);(\"cm\";2))\n",
    "d[3]:((\"ot\";7);(\"ab\";5);(\"pc\";6))\n",
    "(where 0<count each d)#d"
   ]
  },
  {
   "cell_type": "code",
   "execution_count": 55,
   "id": "549636b1",
   "metadata": {},
   "outputs": [
    {
     "data": {
      "text/plain": [
       "1 4\n",
       "28 40 72\n"
      ]
     },
     "execution_count": 55,
     "metadata": {},
     "output_type": "execute_result"
    }
   ],
   "source": [
    "/ calculate results\n",
    "crfn:{(y[x;;1]*1+til count y x)*x+1} \n",
    "crfn[;d] each where 0<count each d"
   ]
  },
  {
   "cell_type": "code",
   "execution_count": 46,
   "id": "e82f483d",
   "metadata": {},
   "outputs": [
    {
     "data": {
      "text/plain": [
       "1\n"
      ]
     },
     "execution_count": 46,
     "metadata": {},
     "output_type": "execute_result"
    },
    {
     "data": {
      "text/plain": [
       "0N\n"
      ]
     },
     "execution_count": 46,
     "metadata": {},
     "output_type": "execute_result"
    }
   ],
   "source": [
    "first where d[0;;0] like \"cm\"\n",
    "first where d[0;;0] like \"ot\""
   ]
  },
  {
   "cell_type": "code",
   "execution_count": 50,
   "id": "5026c34f",
   "metadata": {},
   "outputs": [
    {
     "data": {
      "text/plain": [
       "0 | ((\"rn\";1);(\"cm\";2))\n",
       "1 | ()\n",
       "2 | ()\n",
       "3 | ((\"ot\";7);(\"ab\";5);(\"pc\";6))\n",
       "4 | ()\n",
       "5 | ()\n",
       "6 | ()\n",
       "7 | ()\n",
       "8 | ()\n",
       "9 | ()\n",
       "10| ()\n",
       "11| ()\n",
       "12| ()\n",
       "13| ()\n",
       "14| ()\n",
       "15| ()\n",
       "16| ()\n",
       "17| ()\n",
       "18| ()\n",
       "19| ()\n",
       "20| ()\n",
       "21| ()\n",
       "..\n"
      ]
     },
     "execution_count": 50,
     "metadata": {},
     "output_type": "execute_result"
    }
   ],
   "source": [
    "mfn:{[m;t] / accumulator dict and current token\n",
    "    /show (where 0<count each m)#m;\n",
    "    if[rem:\"-\"=last t;\n",
    "        l:-1_t;   / label from token\n",
    "        idx:hfn l;\n",
    "        cc:m idx; / current lens chain\n",
    "        m[idx]:cc where not cc[;0] like l;\n",
    "     ];\n",
    "    if[not rem;\n",
    "        lf:\"*J\"$\"=\"vs t; / label-focus pair\n",
    "        idx:hfn l:first lf;\n",
    "        lidx:first where m[idx;;0] like l; / if label present - this will be index withing chain\n",
    "        if[null lidx;\n",
    "            m[idx],:enlist lf;\n",
    "         ];\n",
    "        if[not null lidx;\n",
    "            m:.[m;(idx;lidx;1);:;last lf];\n",
    "         ];\n",
    "     ];\n",
    "    m\n",
    " };\n",
    "\n",
    "mfn/[til[256]!256#();i]"
   ]
  },
  {
   "cell_type": "code",
   "execution_count": 53,
   "id": "c5d122f3",
   "metadata": {},
   "outputs": [
    {
     "data": {
      "text/plain": [
       "145\n"
      ]
     },
     "execution_count": 53,
     "metadata": {},
     "output_type": "execute_result"
    }
   ],
   "source": [
    "sum raze crfn each where 0<count each mfn/[til[256]!256#();i]"
   ]
  },
  {
   "cell_type": "code",
   "execution_count": 56,
   "id": "9c0b80af",
   "metadata": {},
   "outputs": [
    {
     "data": {
      "text/plain": [
       "247933\n"
      ]
     },
     "execution_count": 56,
     "metadata": {},
     "output_type": "execute_result"
    }
   ],
   "source": [
    "/ real input\n",
    "sum raze crfn[;d] each where 0<count each d:mfn/[til[256]!256#();\",\"vs first read0`:input.txt]"
   ]
  },
  {
   "cell_type": "code",
   "execution_count": null,
   "id": "ecfed192",
   "metadata": {},
   "outputs": [],
   "source": []
  }
 ],
 "metadata": {
  "kernelspec": {
   "display_name": "Q (kdb+)",
   "language": "q",
   "name": "qpk"
  },
  "language_info": {
   "file_extension": ".q",
   "mimetype": "text/x-q",
   "name": "q",
   "version": "4.0"
  }
 },
 "nbformat": 4,
 "nbformat_minor": 5
}
