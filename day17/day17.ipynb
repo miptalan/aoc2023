{
 "cells": [
  {
   "cell_type": "markdown",
   "id": "42a729be",
   "metadata": {},
   "source": [
    "# numeric dirs"
   ]
  },
  {
   "cell_type": "code",
   "execution_count": null,
   "id": "40adfa96",
   "metadata": {
    "scrolled": false
   },
   "outputs": [],
   "source": [
    "dirs:(1;-1;neg n;n) / r l u d\n",
    "visited:enlist[enlist -1 1]!enlist 1b\n",
    "tl:dirs!(n;neg n;1;-1) / turn left\n",
    "tr:dirs!(neg n;n;-1;1) / turn right\n",
    "dist:til[N]!0,(N-1)#10000\n",
    "end:N-4\n",
    "\n",
    "ii:0;\n",
    "djf:{[hq]\n",
    "    show hq;\n",
    "    if[not mod[ii+:1;10000];show ii];\n",
    "    t:first hq;hq:1_hq;\n",
    "    if[end~t 1;show t 0;:()];\n",
    "    if[visited enlist t 1 2;:hq];\n",
    "    visited[enlist t 1 2]:1b;\n",
    "\n",
    "    hl:t 0;pos:t 1;dir:t 2;\n",
    "    / turn right and do 1,2,3 steps\n",
    "    nt:flip (hl+sums l:i nbrs;nbrs:pos+1 2 3*ndir;3#ndir:tr dir);\n",
    "    hq,:nt where not null l;\n",
    "    / turn left and do 1,2,3 steps\n",
    "    nt:flip (hl+sums l:i nbrs;nbrs:pos+1 2 3*ndir;3#ndir:tl dir);\n",
    "    hq,:nt where not null l;\n",
    "\n",
    "    :hq iasc hq[;0]    \n",
    " }\n",
    "/djf/[18;((0;0;n);(0;0;1))]\n",
    "djf/[{0<>count x};((0;0;n);(0;0;1))]"
   ]
  },
  {
   "cell_type": "markdown",
   "id": "d727dd21",
   "metadata": {},
   "source": [
    "# sorting"
   ]
  },
  {
   "cell_type": "code",
   "execution_count": null,
   "id": "cba9de7c",
   "metadata": {
    "scrolled": true
   },
   "outputs": [],
   "source": [
    "/ dijkstra but wth manual control over \"forward move\"\n",
    "dirs:`r`u`l`d!(0 1;-1 0;0 -1;1 0)\n",
    "visited:enlist[(-1 -1;`r)]!enlist 1b\n",
    "tl:{(neg y;x)} / turn left\n",
    "tr:{(y;neg x)} / turn right\n",
    "end:(N-1;N-1)\n",
    "\n",
    "djf:{[hq]\n",
    "    /show .Q.s1 hq;\n",
    "    if[0=.z.t mod 1000;show count hq];\n",
    "    / pop min\n",
    "    hh:hq[;0];\n",
    "    midx:hh?min hh;\n",
    "    hq:@[hq;(0;midx);:;hq (midx;0)];\n",
    "\n",
    "    t:first hq;hq:1_hq;\n",
    "    if[end~t 1;show t 0;:()];\n",
    "    if[visited t 1 2;:hq];\n",
    "    visited[t 1 2]:1b;\n",
    "\n",
    "    hl:t 0;pos:t 1;dir:t 2;\n",
    "    / turn right and do 1,2,3 steps\n",
    "    nt:flip (hl+sums l:i ./:nbrs;nbrs:pos+/:1 2 3*\\:ndir;3#dirs?ndir:tr . dirs dir);\n",
    "    hq,:nt where (not null l)&not visited nt[;1 2];\n",
    "    / turn left and do 1,2,3 steps\n",
    "    nt:flip (hl+sums l:i ./:nbrs;nbrs:pos+/:1 2 3*\\:ndir;3#dirs?ndir:tl . dirs dir);\n",
    "    hq,:nt where (not null l)&not visited nt[;1 2];\n",
    "\n",
    "    :hq\n",
    " }\n",
    "\n",
    "djf/[{0<>count x};((0;0 0;`d);(0;0 0;`r))]"
   ]
  },
  {
   "cell_type": "markdown",
   "id": "60686cc5",
   "metadata": {},
   "source": [
    "--- Day 17: Clumsy Crucible ---"
   ]
  },
  {
   "cell_type": "markdown",
   "id": "e99bab29",
   "metadata": {},
   "source": [
    "# pq with dict"
   ]
  },
  {
   "cell_type": "code",
   "execution_count": 9,
   "id": "badf5ce6",
   "metadata": {
    "scrolled": true
   },
   "outputs": [
    {
     "name": "stdout",
     "output_type": "stream",
     "text": [
      "0| 0 0 `d 0 0 `r\n",
      "\",(-1 -1;`r)!,1b\"\n",
      "0| 0 0 `r\n",
      "4| 0 1 `r\n",
      "5| 0 2 `r\n",
      "8| 0 3 `r\n",
      "\"((-1 -1;`r);(0 0;`d))!11b\"\n",
      "4| 0 1 `r\n",
      "5| 0 2 `r\n",
      "8| 0 3 `r\n",
      "3| 1 0 `d\n",
      "6| 2 0 `d\n",
      "9| 3 0 `d\n",
      "\"((-1 -1;`r);(0 0;`d);(0 0;`r))!111b\"\n"
     ]
    }
   ],
   "source": [
    "i:-48+\"j\"$r:read0`:test1.txt / ascii shift\n",
    "N:count i / square grid\n",
    "\n",
    "/ dijkstra but wth manual control over \"forward move\"\n",
    "dirs:`r`u`l`d!(0 1;-1 0;0 -1;1 0)\n",
    "visited:enlist[(-1 -1;`r)]!enlist 1b\n",
    "tl:`r`l`u`d!`d`u`r`l / turn left\n",
    "tr:`r`l`u`d!`u`d`l`r / turn right\n",
    "end:(N-1;N-1)\n",
    "\n",
    "ii:0;\n",
    "hq:enlist[0]!enlist ((0 0;`d);(0 0;`r));\n",
    "t:(0 0;`d)\n",
    "while[ii<3; /not end~t 0;\n",
    "    show hq;\n",
    "    show .Q.s1 visited;\n",
    "    / pop min\n",
    "    if[not count hq[m]:1_ mv:hq m:min key hq;hq _:m];\n",
    "    t:first mv;\n",
    "    if[not mod[ii+:1;10000];show ii];\n",
    "    \n",
    "    if[end~t 0;show m];\n",
    "    if[not visited t;\n",
    "        visited[t]:1b;\n",
    "\n",
    "        hl:m;pos:t 0;dir:t 1;\n",
    "        / turn right and do 1,2,3 steps\n",
    "        npd:flip(nbrs:pos+/:1 2 3*\\:dirs nd;3#nd:tr dir);\n",
    "        nhl:hl+sums lr:i ./:nbrs;\n",
    "        / turn left and do 1,2,3 steps\n",
    "        npd,:flip(nbrs:pos+/:1 2 3*\\:dirs nd;3#nd:tl dir);\n",
    "        nhl,:hl+sums ll:i ./:nbrs;\n",
    "        npd:npd idx:where not null lr,ll;\n",
    "        nhl:nhl idx;\n",
    "        /show .Q.s1 (npd;nhl);\n",
    "        if[count nhl;\n",
    "            hq[nhl idx],:npd idx:where nhl in key hq;\n",
    "            hq[nhl idx]:enlist each npd idx:where not nhl in key hq;\n",
    "         ];\n",
    "     ];\n",
    " ];"
   ]
  },
  {
   "cell_type": "code",
   "execution_count": 48,
   "id": "d002ebe0",
   "metadata": {},
   "outputs": [
    {
     "name": "stdout",
     "output_type": "stream",
     "text": [
      "(0;0;`d)\n",
      "(0;0;`r)\n",
      "(1;1;`r)\n",
      "(1;7;`d)\n",
      "(2;2;`r)\n",
      "(2;14;`d)\n",
      "(3;3;`r)\n",
      "(3;21;`d)\n",
      "(3;8;`d)\n",
      "(3;8;`r)\n",
      "(4;9;`d)\n",
      "(4;15;`r)\n",
      "(4;10;`d)\n",
      "(4;22;`r)\n",
      "(4;7;`l)\n",
      "(4;1;`u)\n",
      "(5;15;`d)\n",
      "(5;9;`r)\n",
      "(5;17;`d)\n",
      "(5;23;`r)\n",
      "(5;9;`r)\n",
      "(5;15;`d)\n",
      "(5;10;`r)\n",
      "(5;22;`d)\n",
      "(5;14;`d)\n",
      "(5;0;`u)\n",
      "(5;2;`r)\n",
      "(5;0;`l)\n",
      "(6;22;`d)\n",
      "(6;10;`r)\n",
      "(6;16;`d)\n",
      "(6;16;`r)\n",
      "(6;24;`d)\n",
      "6\n"
     ]
    },
    {
     "data": {
      "text/plain": []
     },
     "execution_count": 48,
     "metadata": {},
     "output_type": "execute_result"
    }
   ],
   "source": [
    "/ flatened\n",
    "raw:(-48+\"j\"$r:read0`:test2.txt),\\:3#0N / ascii shift, pad with nulls, flatten\n",
    "n:count first raw / \n",
    "N:count i:raze raw\n",
    "\n",
    "dirs:`r`l`u`d!(1;-1;neg n;n)\n",
    "visited:enlist[(-1;`r)]!enlist 1b\n",
    "tl:`r`l`u`d!`d`u`l`r / turn left\n",
    "tr:`r`l`u`d!`u`d`r`l / turn right\n",
    "dist:til[N]!0,(N-1)#10000\n",
    "end:N-4\n",
    "\n",
    "djf:{[hq]\n",
    "    /show .Q.s1 hq;\n",
    "    /show .Q.s1 visited;\n",
    "    t:0N!first hq;hq:1_hq;\n",
    "    if[end~t 1;show t 0;:()];\n",
    "    if[visited t 1 2;:hq];\n",
    "    visited[t 1 2]:1b;\n",
    "\n",
    "    hl:t 0;pos:t 1;dir:t 2;\n",
    "    / turn right and do 1,2,3 steps\n",
    "    nt:flip (hl+sums l:i nbrs;nbrs:pos+1 2 3*ndir;3#dirs?ndir:dirs tr dir);\n",
    "    hq,:nt where not null l;\n",
    "    / turn left and do 1,2,3 steps\n",
    "    nt:flip (hl+sums l:i nbrs;nbrs:pos+1 2 3*ndir;3#dirs?ndir:dirs tl dir);\n",
    "    hq,:nt where not null l;\n",
    "\n",
    "    :hq iasc hq[;0]    \n",
    " }\n",
    "djf/[{0<>count x};((0;0;`d);(0;0;`r))]"
   ]
  },
  {
   "cell_type": "code",
   "execution_count": 47,
   "id": "ad2b5e2c",
   "metadata": {
    "scrolled": true
   },
   "outputs": [
    {
     "name": "stdout",
     "output_type": "stream",
     "text": [
      "0 7\n",
      "0 1\n",
      "1 1\n",
      "7 7\n",
      "2 1\n",
      "14 7\n",
      "3 1\n",
      "21 7\n",
      "8 7\n",
      "8 1\n",
      "9 7\n",
      "15 1\n",
      "22 1\n",
      "7 -1\n",
      "1 -7\n",
      "8 7\n",
      "9 1\n",
      "23 1\n",
      "9 1\n",
      "15 7\n",
      "10 1\n",
      "22 7\n",
      "15 7\n",
      "10 1\n",
      "16 7\n",
      "16 1\n",
      "24 1\n",
      "6\n"
     ]
    }
   ],
   "source": [
    "/ dijkstra but wth manual control over \"forward move\"\n",
    "/ flattened\n",
    "raw:(-48+\"j\"$r:read0`:test2.txt),\\:3#0N / ascii shift, pad with nulls, flatten\n",
    "n:count first raw / \n",
    "N:count i:raze raw\n",
    "\n",
    "dirs:(1;-1;neg n;n) / r l u d\n",
    "tr:dirs!(n;neg n;1;-1) / turn right\n",
    "tl:dirs!(neg n;n;-1;1) / turn left\n",
    "visited:(4*N)#0b\n",
    "end:N-4\n",
    "\n",
    "ii:0;\n",
    "hq:enlist[0]!enlist (0;n;0;1);\n",
    "t:(-1;1)\n",
    "while[not end=t 0;\n",
    "    /show .Q.s1 hq;\n",
    "    /show visited;\n",
    "    / pop min\n",
    "    if[not count hq[m]:2_ mv:hq m:min key hq;hq _:m];\n",
    "    t:0N!2#mv;\n",
    "    if[not mod[ii+:1;10000];show ii];\n",
    "    \n",
    "    if[end=t 0;show m];\n",
    "    if[not visited tidx:sum@'[(::;dirs?);t];\n",
    "        visited[tidx]:1b;\n",
    "\n",
    "        hl:m;pos:t 0;dir:t 1;\n",
    "        / turn right and do 1,2,3 steps\n",
    "        nhl:hl+sums l:i nbrs:pos+1 2 3*nd:tr dir;\n",
    "        if[0<cidx:count idx:where not null l;\n",
    "            res:flip (nbrs idx;cidx#nd);\n",
    "            hq[nhl kidx],:res kidx:where nhl in key hq; / existing key -> join\n",
    "            hq,:raze each res group nhl except nhl kidx; / new key -> assign\n",
    "         ];\n",
    "        / turn left and do 1,2,3 steps\n",
    "        nhl:hl+sums l:i nbrs:pos+1 2 3*nd:tl dir;\n",
    "        if[0<cidx:count idx:where not null l;\n",
    "            res:flip (nbrs idx;cidx#nd);\n",
    "            hq[nhl kidx],:res kidx:where nhl in key hq; / existing key -> join\n",
    "            hq,:raze each res group nhl except nhl kidx; / new key -> assign\n",
    "         ];\n",
    "     ];\n",
    " ];"
   ]
  },
  {
   "cell_type": "code",
   "execution_count": null,
   "id": "ad5b1ab0",
   "metadata": {},
   "outputs": [],
   "source": []
  },
  {
   "cell_type": "code",
   "execution_count": null,
   "id": "6eae5cf7",
   "metadata": {},
   "outputs": [],
   "source": []
  }
 ],
 "metadata": {
  "kernelspec": {
   "display_name": "Q (kdb+)",
   "language": "q",
   "name": "qpk"
  },
  "language_info": {
   "file_extension": ".q",
   "mimetype": "text/x-q",
   "name": "q",
   "version": "4.0"
  }
 },
 "nbformat": 4,
 "nbformat_minor": 5
}
