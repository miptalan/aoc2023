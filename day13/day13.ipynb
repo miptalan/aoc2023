{
 "cells": [
  {
   "cell_type": "code",
   "execution_count": 102,
   "id": "ec3b0130",
   "metadata": {},
   "outputs": [
    {
     "data": {
      "text/plain": [
       "16\n"
      ]
     },
     "execution_count": 102,
     "metadata": {},
     "output_type": "execute_result"
    }
   ],
   "source": [
    "i:enlist[\"\"],read0`:test1.txt\n",
    "count i"
   ]
  },
  {
   "cell_type": "code",
   "execution_count": 103,
   "id": "d55e8894",
   "metadata": {},
   "outputs": [
    {
     "name": "stdout",
     "output_type": "stream",
     "text": [
      "1000000010000000b\n"
     ]
    },
    {
     "data": {
      "text/plain": [
       "\"#.##..##.\"\n",
       "\"..#.##.#.\"\n",
       "\"##......#\"\n",
       "\"##......#\"\n",
       "\"..#.##.#.\"\n",
       "\"..##..##.\"\n",
       "\"#.#.##.#.\"\n"
      ]
     },
     "execution_count": 103,
     "metadata": {},
     "output_type": "execute_result"
    }
   ],
   "source": [
    "patterns:1_'where[0N!i~\\:\"\"] cut i\n",
    "first patterns"
   ]
  },
  {
   "cell_type": "code",
   "execution_count": 104,
   "id": "d61c601e",
   "metadata": {},
   "outputs": [
    {
     "data": {
      "text/plain": [
       "9\n"
      ]
     },
     "execution_count": 104,
     "metadata": {},
     "output_type": "execute_result"
    },
    {
     "data": {
      "text/plain": [
       "0       1      \n",
       "1 0     2 3    \n",
       "2 1 0   3 4 5  \n",
       "3 2 1 0 4 5 6 7\n",
       "4 3 2 1 5 6 7 8\n",
       "5 4 3   6 7 8  \n",
       "6 5     7 8    \n",
       "7       8      \n"
      ]
     },
     "execution_count": 104,
     "metadata": {},
     "output_type": "execute_result"
    }
   ],
   "source": [
    "/ columns\n",
    "pc:first patterns \n",
    "count first pc\n",
    "idx:(ifn:{x+(neg 1+m;m:til x&y-x)})[;cpc] each 1_til cpc:count first pc\n",
    "idx"
   ]
  },
  {
   "cell_type": "code",
   "execution_count": 105,
   "id": "6fd152e6",
   "metadata": {},
   "outputs": [
    {
     "data": {
      "text/plain": [
       "\"#.##..#\"                               \"..##...\"                              \n",
       "\"..##...\" \"#.##..#\"                     \"##..###\" \"#....#.\"                    \n",
       "\"##..###\" \"..##...\" \"#.##..#\"           \"#....#.\" \".#..#.#\" \".#..#.#\"          \n",
       "\"#....#.\" \"##..###\" \"..##...\" \"#.##..#\" \".#..#.#\" \".#..#.#\" \"#....#.\" \"##..###\"\n",
       "\".#..#.#\" \"#....#.\" \"##..###\" \"..##...\" \".#..#.#\" \"#....#.\" \"##..###\" \"..##...\"\n",
       "\".#..#.#\" \".#..#.#\" \"#....#.\"           \"#....#.\" \"##..###\" \"..##...\"          \n",
       "\"#....#.\" \".#..#.#\"                     \"##..###\" \"..##...\"                    \n",
       "\"##..###\"                               \"..##...\"                              \n"
      ]
     },
     "execution_count": 105,
     "metadata": {},
     "output_type": "execute_result"
    }
   ],
   "source": [
    "flip[pc] idx"
   ]
  },
  {
   "cell_type": "code",
   "execution_count": 106,
   "id": "dbc8ecf5",
   "metadata": {},
   "outputs": [
    {
     "data": {
      "text/plain": [
       "5\n"
      ]
     },
     "execution_count": 106,
     "metadata": {},
     "output_type": "execute_result"
    }
   ],
   "source": [
    "sum 1+where {raze[x]~raze y}.'flip[pc] idx"
   ]
  },
  {
   "cell_type": "code",
   "execution_count": 107,
   "id": "9b78828d",
   "metadata": {},
   "outputs": [
    {
     "data": {
      "text/plain": [
       "7\n"
      ]
     },
     "execution_count": 107,
     "metadata": {},
     "output_type": "execute_result"
    },
    {
     "data": {
      "text/plain": [
       "0     1    \n",
       "1 0   2 3  \n",
       "2 1 0 3 4 5\n",
       "3 2 1 4 5 6\n",
       "4 3   5 6  \n",
       "5     6    \n"
      ]
     },
     "execution_count": 107,
     "metadata": {},
     "output_type": "execute_result"
    }
   ],
   "source": [
    "/ rows\n",
    "pr:last patterns\n",
    "count pr\n",
    "idx:ifn[;cpr] each 1_til cpr:count pr\n",
    "idx"
   ]
  },
  {
   "cell_type": "code",
   "execution_count": 108,
   "id": "98972b39",
   "metadata": {},
   "outputs": [
    {
     "data": {
      "text/plain": [
       "\"#...##..#\"                         \"#....#..#\"                        \n",
       "\"#....#..#\" \"#...##..#\"             \"..##..###\" \"#####.##.\"            \n",
       "\"..##..###\" \"#....#..#\" \"#...##..#\" \"#####.##.\" \"#####.##.\" \"..##..###\"\n",
       "\"#####.##.\" \"..##..###\" \"#....#..#\" \"#####.##.\" \"..##..###\" \"#....#..#\"\n",
       "\"#####.##.\" \"#####.##.\"             \"..##..###\" \"#....#..#\"            \n",
       "\"..##..###\"                         \"#....#..#\"                        \n"
      ]
     },
     "execution_count": 108,
     "metadata": {},
     "output_type": "execute_result"
    }
   ],
   "source": [
    "pr idx"
   ]
  },
  {
   "cell_type": "code",
   "execution_count": 109,
   "id": "02d35039",
   "metadata": {},
   "outputs": [
    {
     "data": {
      "text/plain": [
       "400\n"
      ]
     },
     "execution_count": 109,
     "metadata": {},
     "output_type": "execute_result"
    }
   ],
   "source": [
    "100*sum 1+where {raze[x]~raze y}.'pr idx"
   ]
  },
  {
   "cell_type": "code",
   "execution_count": 110,
   "id": "58fd2c0f",
   "metadata": {},
   "outputs": [
    {
     "data": {
      "text/plain": [
       "405\n"
      ]
     },
     "execution_count": 110,
     "metadata": {},
     "output_type": "execute_result"
    }
   ],
   "source": [
    "/ part 1\n",
    "ifn:{x+(neg 1+m;m:til x&y-x)}\n",
    "efn:{raze[x]~raze y}\n",
    "summarize:{[p]\n",
    "    ic:ifn[;cpc] each 1_til cpc:count first p;\n",
    "    res:sum 1+where efn .'flip[p] ic;\n",
    "    ir:ifn[;cpr] each 1_til cpr:count p;\n",
    "    res+100*sum 1+where efn .'p ir\n",
    " }\n",
    "sum summarize each patterns"
   ]
  },
  {
   "cell_type": "code",
   "execution_count": 111,
   "id": "a831123b",
   "metadata": {},
   "outputs": [
    {
     "data": {
      "text/plain": [
       "400\n"
      ]
     },
     "execution_count": 111,
     "metadata": {},
     "output_type": "execute_result"
    }
   ],
   "source": [
    "/ part 2 - exactly 1 smudge\n",
    "efn:{1=sum not raze[x]=raze y}\n",
    "sum summarize each patterns"
   ]
  },
  {
   "cell_type": "code",
   "execution_count": null,
   "id": "10e4014f",
   "metadata": {},
   "outputs": [],
   "source": []
  }
 ],
 "metadata": {
  "kernelspec": {
   "display_name": "Q (kdb+)",
   "language": "q",
   "name": "qpk"
  },
  "language_info": {
   "file_extension": ".q",
   "mimetype": "text/x-q",
   "name": "q",
   "version": "4.0"
  }
 },
 "nbformat": 4,
 "nbformat_minor": 5
}
