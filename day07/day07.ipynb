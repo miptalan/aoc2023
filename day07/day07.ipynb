{
 "cells": [
  {
   "cell_type": "code",
   "execution_count": 97,
   "id": "4a73f57b",
   "metadata": {},
   "outputs": [
    {
     "data": {
      "text/plain": [
       "hand    bid\n",
       "-----------\n",
       "\"32T3K\" 765\n",
       "\"T55J5\" 684\n",
       "\"KK677\" 28 \n",
       "\"KTJJT\" 220\n",
       "\"QQQJA\" 483\n"
      ]
     },
     "execution_count": 97,
     "metadata": {},
     "output_type": "execute_result"
    }
   ],
   "source": [
    "/ use csv reader \n",
    "inp:flip `hand`bid!(\"*J\";\" \")0:`:test1.txt\n",
    "inp"
   ]
  },
  {
   "cell_type": "markdown",
   "id": "3712d9fb",
   "metadata": {},
   "source": [
    "# Part 1"
   ]
  },
  {
   "cell_type": "code",
   "execution_count": 98,
   "id": "59993e69",
   "metadata": {},
   "outputs": [
    {
     "data": {
      "text/plain": [
       "12 11 10 9 8\n"
      ]
     },
     "execution_count": 98,
     "metadata": {},
     "output_type": "execute_result"
    }
   ],
   "source": [
    "/ card values - allows natural sorting\n",
    "cv:reverse \"AKQJT98765432\"\n",
    "cv?\"AKQJT\""
   ]
  },
  {
   "cell_type": "code",
   "execution_count": 99,
   "id": "93512589",
   "metadata": {},
   "outputs": [
    {
     "data": {
      "text/plain": [
       "1b\n"
      ]
     },
     "execution_count": 99,
     "metadata": {},
     "output_type": "execute_result"
    }
   ],
   "source": [
    "/ natural sorting is available!\n",
    "strengths~desc strengths:(enlist 5;4 1;3 2;3 1 1;2 2 1;2 1 1 1;1 1 1 1 1)"
   ]
  },
  {
   "cell_type": "code",
   "execution_count": 100,
   "id": "08a7cedf",
   "metadata": {},
   "outputs": [
    {
     "name": "stdout",
     "output_type": "stream",
     "text": [
      "(9 8 3 3 3;12 10 10 10 9)\n"
     ]
    },
    {
     "data": {
      "text/plain": [
       "12 10 10 10 9\n",
       "9  8  3  3  3\n"
      ]
     },
     "execution_count": 100,
     "metadata": {},
     "output_type": "execute_result"
    }
   ],
   "source": [
    "/ T55J5 and QQQJA are both three of a kind. QQQJA has a stronger first card, so it gets rank 5 and T55J5 gets rank 4.\n",
    "desc 0N!(desc cv?\"T55J5\";desc cv?\"QQQJA\")"
   ]
  },
  {
   "cell_type": "code",
   "execution_count": 101,
   "id": "c353c87f",
   "metadata": {},
   "outputs": [
    {
     "data": {
      "text/plain": [
       "hand    bid nh            strength\n",
       "----------------------------------\n",
       "\"32T3K\" 765 1  0  8  1 11 2 1 1 1 \n",
       "\"KTJJT\" 220 11 8  9  9 8  2 2 1   \n",
       "\"KK677\" 28  11 11 4  5 5  2 2 1   \n",
       "\"T55J5\" 684 8  3  3  9 3  3 1 1   \n",
       "\"QQQJA\" 483 10 10 10 9 12 3 1 1   \n"
      ]
     },
     "execution_count": 101,
     "metadata": {},
     "output_type": "execute_result"
    }
   ],
   "source": [
    "res1:`strength`nh xasc update strength:{desc value count each group x}'[nh] from update nh:{cv?x}'[hand] from inp\n",
    "res1"
   ]
  },
  {
   "cell_type": "code",
   "execution_count": 102,
   "id": "b7a2fa56",
   "metadata": {},
   "outputs": [
    {
     "data": {
      "text/plain": [
       "6440\n"
      ]
     },
     "execution_count": 102,
     "metadata": {},
     "output_type": "execute_result"
    }
   ],
   "source": [
    "/ part 1\n",
    "exec sum bid*i+1 from res1"
   ]
  },
  {
   "cell_type": "markdown",
   "id": "1342155f",
   "metadata": {},
   "source": [
    "# Part 2"
   ]
  },
  {
   "cell_type": "code",
   "execution_count": 103,
   "id": "cb7ff138",
   "metadata": {},
   "outputs": [
    {
     "data": {
      "text/plain": [
       "12 11 10 0 9\n"
      ]
     },
     "execution_count": 103,
     "metadata": {},
     "output_type": "execute_result"
    }
   ],
   "source": [
    "cv2:reverse \"AKQT98765432J\"\n",
    "cv2?\"AKQJT\""
   ]
  },
  {
   "cell_type": "code",
   "execution_count": 107,
   "id": "146455d5",
   "metadata": {},
   "outputs": [
    {
     "data": {
      "text/plain": [
       "4 1\n"
      ]
     },
     "execution_count": 107,
     "metadata": {},
     "output_type": "execute_result"
    },
    {
     "data": {
      "text/plain": [
       ",5\n"
      ]
     },
     "execution_count": 107,
     "metadata": {},
     "output_type": "execute_result"
    }
   ],
   "source": [
    "fstr:{\n",
    "    d:desc count each group cv2?x;\n",
    "    if[1=count d;:value d];\n",
    "    @[value (key[d] except 0)#d;0;+;0^d 0]\n",
    " };\n",
    "fstr\"QJJQ2\"\n",
    "fstr\"JJJJJ\""
   ]
  },
  {
   "cell_type": "code",
   "execution_count": 108,
   "id": "5c173cdc",
   "metadata": {},
   "outputs": [
    {
     "data": {
      "text/plain": [
       "hand    bid nh            strength\n",
       "----------------------------------\n",
       "\"32T3K\" 765 2  1  9  2 11 2 1 1 1 \n",
       "\"KK677\" 28  11 11 5  6 6  2 2 1   \n",
       "\"T55J5\" 684 9  4  4  0 4  4 1     \n",
       "\"QQQJA\" 483 10 10 10 0 12 4 1     \n",
       "\"KTJJT\" 220 11 9  0  0 9  4 1     \n"
      ]
     },
     "execution_count": 108,
     "metadata": {},
     "output_type": "execute_result"
    }
   ],
   "source": [
    "res2:`strength`nh xasc update nh:{cv2?x}'[hand],strength:fstr'[hand] from inp\n",
    "res2"
   ]
  },
  {
   "cell_type": "code",
   "execution_count": 106,
   "id": "8699285a",
   "metadata": {},
   "outputs": [
    {
     "data": {
      "text/plain": [
       "5905\n"
      ]
     },
     "execution_count": 106,
     "metadata": {},
     "output_type": "execute_result"
    }
   ],
   "source": [
    "/ part 2\n",
    "exec sum bid*i+1 from res2"
   ]
  }
 ],
 "metadata": {
  "kernelspec": {
   "display_name": "Q (kdb+)",
   "language": "q",
   "name": "qpk"
  },
  "language_info": {
   "file_extension": ".q",
   "mimetype": "text/x-q",
   "name": "q",
   "version": "4.0"
  }
 },
 "nbformat": 4,
 "nbformat_minor": 5
}
