{
 "cells": [
  {
   "cell_type": "code",
   "execution_count": 50,
   "id": "922153d2",
   "metadata": {},
   "outputs": [
    {
     "data": {
      "text/plain": [
       "\"..??#???##??#??\"    4 2 2      \n",
       "\".#?????????.?.\"     9 1        \n",
       "\".????#..??#?\"       4 2        \n",
       "\"??#.#???#?\"         2 1 1      \n",
       "\"?#??.???#?#?????\"   4 1 1 2 3  \n",
       "\".???#???#?#?????\"   2 3 3 1 2  \n",
       "\"???.????.#??###?\"   2 3 6      \n",
       "\"????#?#?#?.??#\"     1 6 1      \n",
       "\".??????.?##.\"       1 3        \n",
       "\"?????.?#??.#????#?\" 1 1 1 3 2 4\n",
       "\"?????##?##.\"        1 4 2      \n",
       "\"?#??.?????.#\"       2 1 2 1    \n",
       "\"?#??.??##????????\"  4 2 3      \n",
       "\"?#????????##?.\"     1 1 2 3    \n",
       "\"??#?????.???.\"      2 1        \n",
       "\".?????#??#?#?#??..\" 2 9        \n",
       "\"???..#.?.?#?????#\"  2 1 3 1 1  \n",
       "\"????#????#??#???.\"  1 3 2 4    \n",
       "\"##?#..??????\"       4 3        \n",
       "\"#???#?.?.?#??\"      6 1 1      \n",
       "\"??#????#.?.\"        2 2        \n",
       "\"????????#???\"       2 1 6      \n",
       "..\n"
      ]
     },
     "execution_count": 50,
     "metadata": {},
     "output_type": "execute_result"
    }
   ],
   "source": [
    "ri:(::;get)@'/:\" \"vs/:read0`:input.txt\n",
    "ri"
   ]
  },
  {
   "cell_type": "code",
   "execution_count": 51,
   "id": "bf3e85e4",
   "metadata": {},
   "outputs": [
    {
     "data": {
      "text/plain": [
       "\"..??#???##??#??\"\n",
       "4 2 2\n"
      ]
     },
     "execution_count": 51,
     "metadata": {},
     "output_type": "execute_result"
    }
   ],
   "source": [
    "first ri"
   ]
  },
  {
   "cell_type": "code",
   "execution_count": 60,
   "id": "55f791b9",
   "metadata": {},
   "outputs": [
    {
     "data": {
      "text/plain": [
       "1\n"
      ]
     },
     "execution_count": 60,
     "metadata": {},
     "output_type": "execute_result"
    },
    {
     "data": {
      "text/plain": [
       "2\n"
      ]
     },
     "execution_count": 60,
     "metadata": {},
     "output_type": "execute_result"
    }
   ],
   "source": [
    "/ memoize\n",
    "cache:()!()\n",
    "fn:{[cr;gl;p;g;res] / condition record, group lengths, position in record, group index, length of current \n",
    "    k:`$.Q.s1(p;g;res);\n",
    "    if[k in key cache;:cache k];\n",
    "    \n",
    "    if[p=count cr; / at end\n",
    "        :$[(res=0)&g=count gl;:1;\n",
    "            (g=count[gl]-1)&res=gl g;:1;\n",
    "            :0]\n",
    "     ];\n",
    "\n",
    "    ans:0;\n",
    "    / branch ?\n",
    "    if[cr[p] in \".?\";\n",
    "        if[res=0;ans+:fn[cr;gl;p+1;g;0]]; \n",
    "        if[(res>0)&(g<count gl)&res=gl g;ans+:fn[cr;gl;p+1;g+1;0]]; \n",
    "     ];\n",
    "    if[cr[p] in \"#?\";ans+:fn[cr;gl;p+1;g;res+1]];\n",
    "\n",
    "    cache[k]:ans;\n",
    "    :ans \n",
    " }\n",
    "\n",
    "fn[\"##\";enlist 2;0;0;0]\n",
    "\n",
    "cache:()!()\n",
    "fn[\"???\";enlist 2;0;0;0]"
   ]
  },
  {
   "cell_type": "code",
   "execution_count": null,
   "id": "ac8cbbd3",
   "metadata": {},
   "outputs": [],
   "source": [
    "/p1\n",
    "sum {`cache set ()!();fn[x;y;0;0;0]} ./:ri"
   ]
  },
  {
   "cell_type": "code",
   "execution_count": 63,
   "id": "ec3cb0e3",
   "metadata": {},
   "outputs": [
    {
     "data": {
      "text/plain": [
       "\"..??#???##??#???..??#???##??#???..??#???##??#???..??#???##??#???..??#???##??..\n"
      ]
     },
     "execution_count": 63,
     "metadata": {},
     "output_type": "execute_result"
    },
    {
     "data": {
      "text/plain": [
       "4 2 2 4 2 2 4 2 2 4 2 2 4 2 2\n"
      ]
     },
     "execution_count": 63,
     "metadata": {},
     "output_type": "execute_result"
    }
   ],
   "source": [
    "\"?\"sv 5#enlist first ri 0\n",
    "raze 5#enlist last ri 0"
   ]
  },
  {
   "cell_type": "code",
   "execution_count": 61,
   "id": "40f3117a",
   "metadata": {},
   "outputs": [
    {
     "data": {
      "text/plain": [
       "7139671893722\n"
      ]
     },
     "execution_count": 61,
     "metadata": {},
     "output_type": "execute_result"
    }
   ],
   "source": [
    "/p2\n",
    "sum {`cache set ()!();fn[\"?\"sv 5#enlist x;raze 5#enlist y;0;0;0]} ./:ri"
   ]
  },
  {
   "cell_type": "code",
   "execution_count": null,
   "id": "4b716dba",
   "metadata": {},
   "outputs": [],
   "source": []
  }
 ],
 "metadata": {
  "kernelspec": {
   "display_name": "Q (kdb+)",
   "language": "q",
   "name": "qpk"
  },
  "language_info": {
   "file_extension": ".q",
   "mimetype": "text/x-q",
   "name": "q",
   "version": "4.0"
  }
 },
 "nbformat": 4,
 "nbformat_minor": 5
}
