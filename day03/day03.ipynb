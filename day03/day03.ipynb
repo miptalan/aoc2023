{
 "cells": [
  {
   "cell_type": "code",
   "execution_count": 190,
   "id": "1c471518",
   "metadata": {},
   "outputs": [
    {
     "data": {
      "text/plain": [
       "\"467..114..\"\n",
       "\"...*......\"\n",
       "\"..35..633.\"\n",
       "\"......#...\"\n",
       "\"617*......\"\n",
       "\".....+.58.\"\n",
       "\"..592.....\"\n",
       "\"......755.\"\n",
       "\"...$.*....\"\n",
       "\".664.598..\"\n"
      ]
     },
     "execution_count": 190,
     "metadata": {},
     "output_type": "execute_result"
    }
   ],
   "source": [
    "i:read0`:test1.txt\n",
    "i"
   ]
  },
  {
   "cell_type": "code",
   "execution_count": 191,
   "id": "4e46776b",
   "metadata": {},
   "outputs": [
    {
     "name": "stdout",
     "output_type": "stream",
     "text": [
      "10\n"
     ]
    }
   ],
   "source": [
    "/ work linearly\n",
    "rl:0N!count first i\n",
    "\n",
    "/ flatten input\n",
    "inp:raze i"
   ]
  },
  {
   "cell_type": "markdown",
   "id": "f925160c",
   "metadata": {},
   "source": [
    "# Part 1"
   ]
  },
  {
   "cell_type": "code",
   "execution_count": 192,
   "id": "16fc08bf",
   "metadata": {},
   "outputs": [
    {
     "data": {
      "text/plain": [
       "\"*#+$\"\n"
      ]
     },
     "execution_count": 192,
     "metadata": {},
     "output_type": "execute_result"
    }
   ],
   "source": [
    "symbols:distinct[inp] except \".\",.Q.n\n",
    "symbols"
   ]
  },
  {
   "cell_type": "code",
   "execution_count": 193,
   "id": "1dd4e8bf",
   "metadata": {},
   "outputs": [
    {
     "data": {
      "text/plain": [
       "00000000000001000000000000000000000010000001000000000001000000000000000000000..\n"
      ]
     },
     "execution_count": 193,
     "metadata": {},
     "output_type": "execute_result"
    }
   ],
   "source": [
    "/ location of symbols\n",
    "inp in symbols"
   ]
  },
  {
   "cell_type": "code",
   "execution_count": 194,
   "id": "a5238f66",
   "metadata": {},
   "outputs": [
    {
     "name": "stdout",
     "output_type": "stream",
     "text": [
      "-9 -10 -11 -1 1 9 10 11\n"
     ]
    },
    {
     "data": {
      "text/plain": [
       "4  27 34 46 74 76\n",
       "3  26 33 45 73 75\n",
       "2  25 32 44 72 74\n",
       "12 35 42 54 82 84\n",
       "14 37 44 56 84 86\n",
       "22 45 52 64 92 94\n",
       "23 46 53 65 93 95\n",
       "24 47 54 66 94 96\n"
      ]
     },
     "execution_count": 194,
     "metadata": {},
     "output_type": "execute_result"
    }
   ],
   "source": [
    "/ area around symbols\n",
    "/ -(N+1) -N -(N-1)\n",
    "/   -1    S   1\n",
    "/  N-1    N   N+1\n",
    "around:0N!(1-rl;neg rl;neg rl+1;neg 1;1;rl-1;rl;rl+1)\n",
    "\n",
    "aas:around+\\:where inp in symbols\n",
    "aas\n",
    "aas:raze aas"
   ]
  },
  {
   "cell_type": "code",
   "execution_count": 195,
   "id": "26250c4e",
   "metadata": {},
   "outputs": [
    {
     "data": {
      "text/plain": [
       "11100111000000000000001100111000000000001110000000000000011000111000000000001..\n"
      ]
     },
     "execution_count": 195,
     "metadata": {},
     "output_type": "execute_result"
    }
   ],
   "source": [
    "/ location of numbers\n",
    "inp in .Q.n"
   ]
  },
  {
   "cell_type": "code",
   "execution_count": 196,
   "id": "11e91e86",
   "metadata": {},
   "outputs": [
    {
     "name": "stdout",
     "output_type": "stream",
     "text": [
      "0 1 2 5 6 7 22 23 26 27 28 40 41 42 57 58 62 63 64 76 77 78 91 92 93 95 96 97\n"
     ]
    },
    {
     "data": {
      "text/plain": [
       "0 1 2\n",
       "5 6 7\n",
       "22 23\n",
       "26 27 28\n",
       "40 41 42\n",
       "57 58\n",
       "62 63 64\n",
       "76 77 78\n",
       "91 92 93\n",
       "95 96 97\n"
      ]
     },
     "execution_count": 196,
     "metadata": {},
     "output_type": "execute_result"
    }
   ],
   "source": [
    "/ group positions\n",
    "ln:0N!where inp in .Q.n\n",
    "gln:(0,where 1<deltas ln) cut ln\n",
    "gln"
   ]
  },
  {
   "cell_type": "code",
   "execution_count": 197,
   "id": "912aeffb",
   "metadata": {},
   "outputs": [
    {
     "data": {
      "text/plain": [
       "001b\n",
       "000b\n",
       "11b\n",
       "110b\n",
       "001b\n",
       "00b\n",
       "001b\n",
       "100b\n",
       "011b\n",
       "110b\n"
      ]
     },
     "execution_count": 197,
     "metadata": {},
     "output_type": "execute_result"
    }
   ],
   "source": [
    "/ if group contains index of area around symbol - use \n",
    "gln in aas"
   ]
  },
  {
   "cell_type": "code",
   "execution_count": 198,
   "id": "4b57e7ea",
   "metadata": {},
   "outputs": [
    {
     "data": {
      "text/plain": [
       "0 1 2\n",
       "22 23\n",
       "26 27 28\n",
       "40 41 42\n",
       "62 63 64\n",
       "76 77 78\n",
       "91 92 93\n",
       "95 96 97\n"
      ]
     },
     "execution_count": 198,
     "metadata": {},
     "output_type": "execute_result"
    }
   ],
   "source": [
    "/ select such index groups\n",
    "gln where any each gln in aas"
   ]
  },
  {
   "cell_type": "code",
   "execution_count": 199,
   "id": "f10dfaa9",
   "metadata": {},
   "outputs": [
    {
     "data": {
      "text/plain": [
       "\"467\"\n",
       "\"35\"\n",
       "\"633\"\n",
       "\"617\"\n",
       "\"592\"\n",
       "\"755\"\n",
       "\"664\"\n",
       "\"598\"\n"
      ]
     },
     "execution_count": 199,
     "metadata": {},
     "output_type": "execute_result"
    }
   ],
   "source": [
    "/ select numbers\n",
    "inp gln where any each gln in aas"
   ]
  },
  {
   "cell_type": "code",
   "execution_count": 200,
   "id": "82c34e77",
   "metadata": {},
   "outputs": [
    {
     "data": {
      "text/plain": [
       "4361\n"
      ]
     },
     "execution_count": 200,
     "metadata": {},
     "output_type": "execute_result"
    }
   ],
   "source": [
    "/ part 1\n",
    "sum \"J\"$inp gln where any each gln in aas"
   ]
  },
  {
   "cell_type": "markdown",
   "id": "90ce2a5b",
   "metadata": {},
   "source": [
    "# Part 2"
   ]
  },
  {
   "cell_type": "code",
   "execution_count": 201,
   "id": "9d96a26e",
   "metadata": {},
   "outputs": [
    {
     "data": {
      "text/plain": [
       "4  3  2  12 14 22 23 24\n",
       "34 33 32 42 44 52 53 54\n",
       "76 75 74 84 86 94 95 96\n"
      ]
     },
     "execution_count": 201,
     "metadata": {},
     "output_type": "execute_result"
    }
   ],
   "source": [
    "/ area around gears\n",
    "aag:around+/:where inp in \"*\"\n",
    "aag"
   ]
  },
  {
   "cell_type": "code",
   "execution_count": 202,
   "id": "ca95abb4",
   "metadata": {},
   "outputs": [
    {
     "name": "stdout",
     "output_type": "stream",
     "text": [
      "(0 0;0 1;0 2;0 3;0 4;0 5;0 6;0 7;0 8;0 9;1 0;1 1;1 2;1 3;1 4;1 5;1 6;1 7;1 8;..\n",
      "(0 1;0 2;0 3;0 4;0 5;0 6;0 7;0 8;0 9;1 2;1 3;1 4;1 5;1 6;1 7;1 8;1 9;2 3;2 4;..\n"
     ]
    }
   ],
   "source": [
    "/ crossed indexes\n",
    "pd:0N!tc cross tc:til count gln\n",
    "\n",
    "/ filter mirror duplicates and self-pairs\n",
    "pairs:0N!pd where pd[;0]<pd[;1]"
   ]
  },
  {
   "cell_type": "code",
   "execution_count": 203,
   "id": "c5ffc202",
   "metadata": {},
   "outputs": [
    {
     "data": {
      "text/plain": [
       "100b\n"
      ]
     },
     "execution_count": 203,
     "metadata": {},
     "output_type": "execute_result"
    },
    {
     "data": {
      "text/plain": [
       "100b\n"
      ]
     },
     "execution_count": 203,
     "metadata": {},
     "output_type": "execute_result"
    },
    {
     "data": {
      "text/plain": [
       "1b\n"
      ]
     },
     "execution_count": 203,
     "metadata": {},
     "output_type": "execute_result"
    }
   ],
   "source": [
    "/ first number in any of gear areas\n",
    "any each gln[0] in/: aag\n",
    "/ third number in any of gear areas\n",
    "any each gln[2] in/: aag\n",
    "/ both in the same gear area\n",
    "any all (any each gln[0] in/: aag;any each gln[2] in/: aag)"
   ]
  },
  {
   "cell_type": "code",
   "execution_count": 204,
   "id": "be2fc1f0",
   "metadata": {},
   "outputs": [
    {
     "data": {
      "text/plain": [
       "23\n"
      ]
     },
     "execution_count": 204,
     "metadata": {},
     "output_type": "execute_result"
    }
   ],
   "source": [
    ".[-](max;min)@\\:raze gln 0 2"
   ]
  },
  {
   "cell_type": "code",
   "execution_count": 205,
   "id": "9ada6c7b",
   "metadata": {},
   "outputs": [
    {
     "name": "stdout",
     "output_type": "stream",
     "text": [
      "(0 1;0 2;0 3;1 2;1 3;1 4;2 3;2 4;2 5;3 4;3 5;3 6;4 5;4 6;4 7;5 6;5 7;5 8;6 7;..\n"
     ]
    }
   ],
   "source": [
    "/ filter pairs that are more than 4 rows apart - definitely cannot have the same gear\n",
    "pairs:0N!pairs where {(4*rl)>.[-](max;min)@\\:raze gln x} each pairs"
   ]
  },
  {
   "cell_type": "code",
   "execution_count": 206,
   "id": "10ef2736",
   "metadata": {},
   "outputs": [
    {
     "data": {
      "text/plain": [
       "467835\n"
      ]
     },
     "execution_count": 206,
     "metadata": {},
     "output_type": "execute_result"
    }
   ],
   "source": [
    "/ part 2\n",
    "sum {$[any all (any each gln[x 0] in/: aag;any each gln[x 1] in/: aag);prd \"J\"$inp gln x 0 1;0]} each pairs"
   ]
  },
  {
   "cell_type": "code",
   "execution_count": null,
   "id": "30348b7d",
   "metadata": {},
   "outputs": [],
   "source": []
  }
 ],
 "metadata": {
  "kernelspec": {
   "display_name": "Q (kdb+)",
   "language": "q",
   "name": "qpk"
  },
  "language_info": {
   "file_extension": ".q",
   "mimetype": "text/x-q",
   "name": "q",
   "version": "4.0"
  }
 },
 "nbformat": 4,
 "nbformat_minor": 5
}
