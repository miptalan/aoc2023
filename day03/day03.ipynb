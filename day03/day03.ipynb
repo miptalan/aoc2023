{
 "cells": [
  {
   "cell_type": "code",
   "execution_count": 343,
   "id": "f144b8de",
   "metadata": {},
   "outputs": [
    {
     "data": {
      "text/plain": [
       "\"467..114..\"\n",
       "\"...*......\"\n",
       "\"..35..633.\"\n",
       "\"......#...\"\n",
       "\"617*......\"\n",
       "\".....+.58.\"\n",
       "\"..592.....\"\n",
       "\"......755.\"\n",
       "\"...$.*....\"\n",
       "\".664.598..\"\n"
      ]
     },
     "execution_count": 343,
     "metadata": {},
     "output_type": "execute_result"
    }
   ],
   "source": [
    "i:read0`:test1.txt\n",
    "i"
   ]
  },
  {
   "cell_type": "code",
   "execution_count": 344,
   "id": "dcc6975b",
   "metadata": {},
   "outputs": [
    {
     "name": "stdout",
     "output_type": "stream",
     "text": [
      "10\n"
     ]
    }
   ],
   "source": [
    "/ work linearly\n",
    "rl:0N!count first i\n",
    "\n",
    "/ flatten input\n",
    "inp:raze i"
   ]
  },
  {
   "cell_type": "markdown",
   "id": "f197365f",
   "metadata": {},
   "source": [
    "# Part 1"
   ]
  },
  {
   "cell_type": "code",
   "execution_count": 345,
   "id": "78b0a822",
   "metadata": {},
   "outputs": [
    {
     "data": {
      "text/plain": [
       "\"*#+$\"\n"
      ]
     },
     "execution_count": 345,
     "metadata": {},
     "output_type": "execute_result"
    }
   ],
   "source": [
    "symbols:distinct[inp] except \".\",.Q.n\n",
    "symbols"
   ]
  },
  {
   "cell_type": "code",
   "execution_count": 346,
   "id": "610e26f7",
   "metadata": {},
   "outputs": [
    {
     "data": {
      "text/plain": [
       "00000000000001000000000000000000000010000001000000000001000000000000000000000..\n"
      ]
     },
     "execution_count": 346,
     "metadata": {},
     "output_type": "execute_result"
    }
   ],
   "source": [
    "/ location of symbols\n",
    "inp in symbols"
   ]
  },
  {
   "cell_type": "code",
   "execution_count": 347,
   "id": "dc1e7ca5",
   "metadata": {},
   "outputs": [
    {
     "name": "stdout",
     "output_type": "stream",
     "text": [
      "-9 -10 -11 -1 1 9 10 11\n"
     ]
    },
    {
     "data": {
      "text/plain": [
       "4  27 34 46 74 76\n",
       "3  26 33 45 73 75\n",
       "2  25 32 44 72 74\n",
       "12 35 42 54 82 84\n",
       "14 37 44 56 84 86\n",
       "22 45 52 64 92 94\n",
       "23 46 53 65 93 95\n",
       "24 47 54 66 94 96\n"
      ]
     },
     "execution_count": 347,
     "metadata": {},
     "output_type": "execute_result"
    }
   ],
   "source": [
    "/ area around symbols\n",
    "/ -(N+1) -N -(N-1)\n",
    "/   -1    S   1\n",
    "/  N-1    N   N+1\n",
    "around:0N!(1-rl;neg rl;neg rl+1;neg 1;1;rl-1;rl;rl+1)\n",
    "\n",
    "aas:around+\\:where inp in symbols\n",
    "aas\n",
    "aas:raze aas"
   ]
  },
  {
   "cell_type": "code",
   "execution_count": 348,
   "id": "a15b011d",
   "metadata": {},
   "outputs": [
    {
     "data": {
      "text/plain": [
       "11100111000000000000001100111000000000001110000000000000011000111000000000001..\n"
      ]
     },
     "execution_count": 348,
     "metadata": {},
     "output_type": "execute_result"
    }
   ],
   "source": [
    "/ location of numbers\n",
    "inp in .Q.n"
   ]
  },
  {
   "cell_type": "code",
   "execution_count": 349,
   "id": "719a6c1b",
   "metadata": {},
   "outputs": [
    {
     "name": "stdout",
     "output_type": "stream",
     "text": [
      "0 1 2 5 6 7 22 23 26 27 28 40 41 42 57 58 62 63 64 76 77 78 91 92 93 95 96 97\n"
     ]
    },
    {
     "data": {
      "text/plain": [
       "0 1 2\n",
       "5 6 7\n",
       "22 23\n",
       "26 27 28\n",
       "40 41 42\n",
       "57 58\n",
       "62 63 64\n",
       "76 77 78\n",
       "91 92 93\n",
       "95 96 97\n"
      ]
     },
     "execution_count": 349,
     "metadata": {},
     "output_type": "execute_result"
    }
   ],
   "source": [
    "/ group positions\n",
    "ln:0N!where inp in .Q.n\n",
    "gln:(0,where 1<deltas ln) cut ln\n",
    "gln:gln where 0<count each gln / remove empty\n",
    "gln"
   ]
  },
  {
   "cell_type": "code",
   "execution_count": 350,
   "id": "918dd4ea",
   "metadata": {},
   "outputs": [
    {
     "data": {
      "text/plain": [
       "001b\n",
       "000b\n",
       "11b\n",
       "110b\n",
       "001b\n",
       "00b\n",
       "001b\n",
       "100b\n",
       "011b\n",
       "110b\n"
      ]
     },
     "execution_count": 350,
     "metadata": {},
     "output_type": "execute_result"
    }
   ],
   "source": [
    "/ if group contains index of area around symbol - use \n",
    "gln in aas"
   ]
  },
  {
   "cell_type": "code",
   "execution_count": 351,
   "id": "9295579d",
   "metadata": {},
   "outputs": [
    {
     "data": {
      "text/plain": [
       "0 1 2\n",
       "22 23\n",
       "26 27 28\n",
       "40 41 42\n",
       "62 63 64\n",
       "76 77 78\n",
       "91 92 93\n",
       "95 96 97\n"
      ]
     },
     "execution_count": 351,
     "metadata": {},
     "output_type": "execute_result"
    }
   ],
   "source": [
    "/ select such index groups\n",
    "gln where any each gln in aas"
   ]
  },
  {
   "cell_type": "code",
   "execution_count": 352,
   "id": "d9c50091",
   "metadata": {},
   "outputs": [
    {
     "data": {
      "text/plain": [
       "\"467\"\n",
       "\"35\"\n",
       "\"633\"\n",
       "\"617\"\n",
       "\"592\"\n",
       "\"755\"\n",
       "\"664\"\n",
       "\"598\"\n"
      ]
     },
     "execution_count": 352,
     "metadata": {},
     "output_type": "execute_result"
    }
   ],
   "source": [
    "/ select numbers\n",
    "inp gln where any each gln in aas"
   ]
  },
  {
   "cell_type": "code",
   "execution_count": 353,
   "id": "665ec787",
   "metadata": {},
   "outputs": [
    {
     "data": {
      "text/plain": [
       "4361\n"
      ]
     },
     "execution_count": 353,
     "metadata": {},
     "output_type": "execute_result"
    }
   ],
   "source": [
    "/ part 1\n",
    "sum \"J\"$inp gln where any each gln in aas"
   ]
  },
  {
   "cell_type": "markdown",
   "id": "a45e0316",
   "metadata": {},
   "source": [
    "# Part 2"
   ]
  },
  {
   "cell_type": "code",
   "execution_count": 354,
   "id": "1c556a7b",
   "metadata": {},
   "outputs": [
    {
     "data": {
      "text/plain": [
       "4  3  2  12 14 22 23 24\n",
       "34 33 32 42 44 52 53 54\n",
       "76 75 74 84 86 94 95 96\n"
      ]
     },
     "execution_count": 354,
     "metadata": {},
     "output_type": "execute_result"
    }
   ],
   "source": [
    "/ area around gears\n",
    "aag:around+/:where inp in \"*\"\n",
    "aag"
   ]
  },
  {
   "cell_type": "code",
   "execution_count": 355,
   "id": "7ea231a8",
   "metadata": {},
   "outputs": [
    {
     "name": "stdout",
     "output_type": "stream",
     "text": [
      "(0 0;0 1;0 2;0 3;0 4;0 5;0 6;0 7;0 8;0 9;1 0;1 1;1 2;1 3;1 4;1 5;1 6;1 7;1 8;..\n",
      "(0 1;0 2;0 3;0 4;0 5;0 6;0 7;0 8;0 9;1 2;1 3;1 4;1 5;1 6;1 7;1 8;1 9;2 3;2 4;..\n"
     ]
    }
   ],
   "source": [
    "/ crossed indexes\n",
    "pd:0N!tc cross tc:til count gln\n",
    "\n",
    "/ filter mirror duplicates and self-pairs\n",
    "pairs:0N!pd where pd[;0]<pd[;1]"
   ]
  },
  {
   "cell_type": "code",
   "execution_count": 356,
   "id": "3ce73a12",
   "metadata": {},
   "outputs": [
    {
     "data": {
      "text/plain": [
       "100b\n"
      ]
     },
     "execution_count": 356,
     "metadata": {},
     "output_type": "execute_result"
    },
    {
     "data": {
      "text/plain": [
       "100b\n"
      ]
     },
     "execution_count": 356,
     "metadata": {},
     "output_type": "execute_result"
    },
    {
     "data": {
      "text/plain": [
       "1b\n"
      ]
     },
     "execution_count": 356,
     "metadata": {},
     "output_type": "execute_result"
    }
   ],
   "source": [
    "/ first number in any of gear areas\n",
    "any each gln[0] in/: aag\n",
    "/ third number in any of gear areas\n",
    "any each gln[2] in/: aag\n",
    "/ both in the same gear area\n",
    "any all (any each gln[0] in/: aag;any each gln[2] in/: aag)"
   ]
  },
  {
   "cell_type": "code",
   "execution_count": 357,
   "id": "824bc2e9",
   "metadata": {},
   "outputs": [
    {
     "name": "stdout",
     "output_type": "stream",
     "text": [
      "(4 3 2 12 14 22 23 24;34 33 32 42 44 52 53 54;76 75 74 84 86 94 95 96)\n"
     ]
    },
    {
     "data": {
      "text/plain": [
       "001b 000b 000b\n",
       "11b  00b  00b \n"
      ]
     },
     "execution_count": 357,
     "metadata": {},
     "output_type": "execute_result"
    }
   ],
   "source": [
    "flip (gln 0 2) in/: 0N!aag"
   ]
  },
  {
   "cell_type": "code",
   "execution_count": 358,
   "id": "946cfb4b",
   "metadata": {},
   "outputs": [
    {
     "name": "stdout",
     "output_type": "stream",
     "text": [
      "(0 1;0 2;0 3;1 2;1 3;1 4;2 3;2 4;2 5;3 4;3 5;3 6;4 5;4 6;4 7;5 6;5 7;5 8;6 7;..\n"
     ]
    }
   ],
   "source": [
    "/ filter pairs that are more than 4 rows apart - definitely cannot have the same gear\n",
    "pairs:0N!pairs where {(4*rl)>.[-](max;min)@\\:raze gln x} each pairs"
   ]
  },
  {
   "cell_type": "code",
   "execution_count": 359,
   "id": "bb2493b0",
   "metadata": {},
   "outputs": [
    {
     "data": {
      "text/plain": [
       "467835\n"
      ]
     },
     "execution_count": 359,
     "metadata": {},
     "output_type": "execute_result"
    }
   ],
   "source": [
    "/ part 2\n",
    "sum {$[any all (any each gln[x 0] in/: aag;any each gln[x 1] in/: aag);prd \"J\"$inp gln x 0 1;0]} each pairs"
   ]
  },
  {
   "cell_type": "markdown",
   "id": "995f7c7e",
   "metadata": {},
   "source": [
    "# Faster part 2"
   ]
  },
  {
   "cell_type": "code",
   "execution_count": 360,
   "id": "56bca188",
   "metadata": {},
   "outputs": [
    {
     "data": {
      "text/plain": [
       "0| 467\n",
       "1| 114\n",
       "2| 35\n",
       "3| 633\n",
       "4| 617\n",
       "5| 58\n",
       "6| 592\n",
       "7| 755\n",
       "8| 664\n",
       "9| 598\n"
      ]
     },
     "execution_count": 360,
     "metadata": {},
     "output_type": "execute_result"
    }
   ],
   "source": [
    "/ uniquely ID all numbers\n",
    "id2n:til[count gln]!\"J\"$inp gln\n",
    "id2n"
   ]
  },
  {
   "cell_type": "code",
   "execution_count": 361,
   "id": "85227b8d",
   "metadata": {},
   "outputs": [
    {
     "data": {
      "text/plain": [
       "0 1 2   | 0\n",
       "5 6 7   | 1\n",
       "22 23   | 2\n",
       "26 27 28| 3\n",
       "40 41 42| 4\n",
       "57 58   | 5\n",
       "62 63 64| 6\n",
       "76 77 78| 7\n",
       "91 92 93| 8\n",
       "95 96 97| 9\n"
      ]
     },
     "execution_count": 361,
     "metadata": {},
     "output_type": "execute_result"
    }
   ],
   "source": [
    "/ indexes of number digit to unique ID\n",
    "gln!til count gln"
   ]
  },
  {
   "cell_type": "code",
   "execution_count": 362,
   "id": "b91a20a6",
   "metadata": {},
   "outputs": [
    {
     "data": {
      "text/plain": [
       "0 | 0\n",
       "1 | 0\n",
       "2 | 0\n",
       "5 | 1\n",
       "6 | 1\n",
       "7 | 1\n",
       "22| 2\n",
       "23| 2\n",
       "26| 3\n",
       "27| 3\n",
       "28| 3\n",
       "40| 4\n",
       "41| 4\n",
       "42| 4\n",
       "57| 5\n",
       "58| 5\n",
       "62| 6\n",
       "63| 6\n",
       "64| 6\n",
       "76| 7\n",
       "77| 7\n",
       "78| 7\n",
       "..\n"
      ]
     },
     "execution_count": 362,
     "metadata": {},
     "output_type": "execute_result"
    }
   ],
   "source": [
    "/ single index to unique ID\n",
    "i2id:raze[gln]!raze (count each gln)#'til count gln\n",
    "i2id"
   ]
  },
  {
   "cell_type": "code",
   "execution_count": 363,
   "id": "0c3c07a6",
   "metadata": {},
   "outputs": [
    {
     "data": {
      "text/plain": [
       "0 2\n",
       ",4\n",
       "7 9\n"
      ]
     },
     "execution_count": 363,
     "metadata": {},
     "output_type": "execute_result"
    }
   ],
   "source": [
    "/ find all IDs that area around gear intesects with\n",
    "/ numbers near gear\n",
    "nng:{x where not null x:distinct i2id x} each aag\n",
    "nng"
   ]
  },
  {
   "cell_type": "code",
   "execution_count": 364,
   "id": "1054bcb0",
   "metadata": {},
   "outputs": [
    {
     "name": "stdout",
     "output_type": "stream",
     "text": [
      "467835\n"
     ]
    },
    {
     "data": {
      "text/plain": [
       "0 2464\n"
      ]
     },
     "execution_count": 364,
     "metadata": {},
     "output_type": "execute_result"
    }
   ],
   "source": [
    "\\ts 0N!sum prd each id2n each nng where 1<count each nng"
   ]
  },
  {
   "cell_type": "code",
   "execution_count": null,
   "id": "51094f76",
   "metadata": {},
   "outputs": [],
   "source": []
  }
 ],
 "metadata": {
  "kernelspec": {
   "display_name": "Q (kdb+)",
   "language": "q",
   "name": "qpk"
  },
  "language_info": {
   "file_extension": ".q",
   "mimetype": "text/x-q",
   "name": "q",
   "version": "4.0"
  }
 },
 "nbformat": 4,
 "nbformat_minor": 5
}
