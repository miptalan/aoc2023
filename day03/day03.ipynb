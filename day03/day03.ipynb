{
 "cells": [
  {
   "cell_type": "code",
   "execution_count": 322,
   "id": "f144b8de",
   "metadata": {},
   "outputs": [
    {
     "data": {
      "text/plain": [
       "\".............65..................998.........453..............................\n",
       "\"............*..........125.......*...331......*.....................30.76.....\n",
       "\"................942.......*...874...*......407...558............752......*19..\n",
       "\"....+............&.....593...........516............-....=.....*....74........\n",
       "\"....314.750......................497...........258.....549...70.....*....745..\n",
       "\"..........*.......786......283......*366..........*...............899.....*...\n",
       "\"........468..=249..........*..........................866.797*960..........2..\n",
       "\"..386.............582....681...52....$369.+.......969..+......................\n",
       "\".....-......835..@....*....................101.......*.......444...........5..\n",
       "\"...........*.......513.45.125......................883.......*................\n",
       "\"........180.........................891*129..957...........+.584..............\n",
       "\"...................=530.....................*.......610..790........314...$...\n",
       "\"......132-..............#..............$....93.........*...............*...5..\n",
       "\"...36.......#.514%.......99..684.......21.........852.886../...191.....892....\n",
       "\".....*...508................&......615...........$.........964....*...........\n",
       "\".....211.............430...........*.......%..........702.........243..747....\n",
       "\".........................988..570........-..72....726*.................-......\n",
       "\"........&..........#928....&../.......785..............971..585...............\n",
       "\"..165..541......................822........930.........*...%............*737..\n",
       "\"....+...........248..-...40...................*521....897............698......\n",
       "\"..................*...19..%...........674.....................110.............\n",
       "\"................753.....................*..............@.....#....199......3..\n",
       "..\n"
      ]
     },
     "execution_count": 322,
     "metadata": {},
     "output_type": "execute_result"
    }
   ],
   "source": [
    "i:read0`:input.txt\n",
    "i"
   ]
  },
  {
   "cell_type": "code",
   "execution_count": 323,
   "id": "dcc6975b",
   "metadata": {},
   "outputs": [
    {
     "name": "stdout",
     "output_type": "stream",
     "text": [
      "140\n"
     ]
    }
   ],
   "source": [
    "/ work linearly\n",
    "rl:0N!count first i\n",
    "\n",
    "/ flatten input\n",
    "inp:raze i"
   ]
  },
  {
   "cell_type": "markdown",
   "id": "f197365f",
   "metadata": {},
   "source": [
    "# Part 1"
   ]
  },
  {
   "cell_type": "code",
   "execution_count": 324,
   "id": "78b0a822",
   "metadata": {},
   "outputs": [
    {
     "data": {
      "text/plain": [
       "\"*/-+&=@$%#\"\n"
      ]
     },
     "execution_count": 324,
     "metadata": {},
     "output_type": "execute_result"
    }
   ],
   "source": [
    "symbols:distinct[inp] except \".\",.Q.n\n",
    "symbols"
   ]
  },
  {
   "cell_type": "code",
   "execution_count": 325,
   "id": "610e26f7",
   "metadata": {},
   "outputs": [
    {
     "data": {
      "text/plain": [
       "00000000000000000000000000000000000000000000000000000000000000000000000000000..\n"
      ]
     },
     "execution_count": 325,
     "metadata": {},
     "output_type": "execute_result"
    }
   ],
   "source": [
    "/ location of symbols\n",
    "inp in symbols"
   ]
  },
  {
   "cell_type": "code",
   "execution_count": 326,
   "id": "dc1e7ca5",
   "metadata": {},
   "outputs": [
    {
     "name": "stdout",
     "output_type": "stream",
     "text": [
      "-139 -140 -141 -1 1 139 140 141\n"
     ]
    },
    {
     "data": {
      "text/plain": [
       "13  34  47  81  85  90  103 116 123 167 177 214 233 239 285 298 333 338 344 4..\n",
       "12  33  46  80  84  89  102 115 122 166 176 213 232 238 284 297 332 337 343 4..\n",
       "11  32  45  79  83  88  101 114 121 165 175 212 231 237 283 296 331 336 342 4..\n",
       "151 172 185 219 223 228 241 254 261 305 315 352 371 377 423 436 471 476 482 5..\n",
       "153 174 187 221 225 230 243 256 263 307 317 354 373 379 425 438 473 478 484 5..\n",
       "291 312 325 359 363 368 381 394 401 445 455 492 511 517 563 576 611 616 622 6..\n",
       "292 313 326 360 364 369 382 395 402 446 456 493 512 518 564 577 612 617 623 6..\n",
       "293 314 327 361 365 370 383 396 403 447 457 494 513 519 565 578 613 618 624 6..\n"
      ]
     },
     "execution_count": 326,
     "metadata": {},
     "output_type": "execute_result"
    }
   ],
   "source": [
    "/ area around symbols\n",
    "/ -(N+1) -N -(N-1)\n",
    "/   -1    S   1\n",
    "/  N-1    N   N+1\n",
    "around:0N!(1-rl;neg rl;neg rl+1;neg 1;1;rl-1;rl;rl+1)\n",
    "\n",
    "aas:around+\\:where inp in symbols\n",
    "aas\n",
    "aas:raze aas"
   ]
  },
  {
   "cell_type": "code",
   "execution_count": 327,
   "id": "a15b011d",
   "metadata": {},
   "outputs": [
    {
     "data": {
      "text/plain": [
       "00000000000001100000000000000000011100000000011100000000000000000000000000000..\n"
      ]
     },
     "execution_count": 327,
     "metadata": {},
     "output_type": "execute_result"
    }
   ],
   "source": [
    "/ location of numbers\n",
    "inp in .Q.n"
   ]
  },
  {
   "cell_type": "code",
   "execution_count": 328,
   "id": "719a6c1b",
   "metadata": {},
   "outputs": [
    {
     "name": "stdout",
     "output_type": "stream",
     "text": [
      "13 14 33 34 35 45 46 47 83 84 85 88 89 90 116 117 118 123 124 125 137 138 139..\n"
     ]
    },
    {
     "data": {
      "text/plain": [
       "13 14\n",
       "33 34 35\n",
       "45 46 47\n",
       "83 84 85\n",
       "88 89 90\n",
       "116 117 118\n",
       "123 124 125\n",
       "137 138 139\n",
       "163 164 165\n",
       "177 178 179\n",
       "208 209\n",
       "211 212\n",
       "232 233 234\n",
       "252 253 254\n",
       "272 273 274\n",
       "296 297 298\n",
       "310 311 312\n",
       "323 324 325\n",
       "329 330 331\n",
       "344 345 346\n",
       "354 355 356\n",
       "358 359 360\n",
       "..\n"
      ]
     },
     "execution_count": 328,
     "metadata": {},
     "output_type": "execute_result"
    }
   ],
   "source": [
    "/ group positions\n",
    "ln:0N!where inp in .Q.n\n",
    "gln:(0,where 1<deltas ln) cut ln\n",
    "gln:gln where 0<count each gln / remove empty\n",
    "gln"
   ]
  },
  {
   "cell_type": "code",
   "execution_count": 329,
   "id": "918dd4ea",
   "metadata": {},
   "outputs": [
    {
     "data": {
      "text/plain": [
       "10b\n",
       "110b\n",
       "111b\n",
       "111b\n",
       "111b\n",
       "100b\n",
       "100b\n",
       "000b\n",
       "001b\n",
       "100b\n",
       "00b\n",
       "01b\n",
       "110b\n",
       "001b\n",
       "000b\n",
       "111b\n",
       "001b\n",
       "001b\n",
       "001b\n",
       "100b\n",
       "100b\n",
       "011b\n",
       "..\n"
      ]
     },
     "execution_count": 329,
     "metadata": {},
     "output_type": "execute_result"
    }
   ],
   "source": [
    "/ if group contains index of area around symbol - use \n",
    "gln in aas"
   ]
  },
  {
   "cell_type": "code",
   "execution_count": 330,
   "id": "9295579d",
   "metadata": {},
   "outputs": [
    {
     "data": {
      "text/plain": [
       "13 14\n",
       "33 34 35\n",
       "45 46 47\n",
       "83 84 85\n",
       "88 89 90\n",
       "116 117 118\n",
       "123 124 125\n",
       "163 164 165\n",
       "177 178 179\n",
       "211 212\n",
       "232 233 234\n",
       "252 253 254\n",
       "296 297 298\n",
       "310 311 312\n",
       "323 324 325\n",
       "329 330 331\n",
       "344 345 346\n",
       "354 355 356\n",
       "358 359 360\n",
       "362 363 364\n",
       "366 367 368\n",
       "381 382 383\n",
       "..\n"
      ]
     },
     "execution_count": 330,
     "metadata": {},
     "output_type": "execute_result"
    }
   ],
   "source": [
    "/ select such index groups\n",
    "gln where any each gln in aas"
   ]
  },
  {
   "cell_type": "code",
   "execution_count": 331,
   "id": "d9c50091",
   "metadata": {},
   "outputs": [
    {
     "data": {
      "text/plain": [
       "\"65\"\n",
       "\"998\"\n",
       "\"453\"\n",
       "\"845\"\n",
       "\"773\"\n",
       "\"307\"\n",
       "\"527\"\n",
       "\"125\"\n",
       "\"331\"\n",
       "\"76\"\n",
       "\"861\"\n",
       "\"298\"\n",
       "\"942\"\n",
       "\"874\"\n",
       "\"407\"\n",
       "\"558\"\n",
       "\"752\"\n",
       "\"196\"\n",
       "\"274\"\n",
       "\"240\"\n",
       "\"345\"\n",
       "\"105\"\n",
       "..\n"
      ]
     },
     "execution_count": 331,
     "metadata": {},
     "output_type": "execute_result"
    }
   ],
   "source": [
    "/ select numbers\n",
    "inp gln where any each gln in aas"
   ]
  },
  {
   "cell_type": "code",
   "execution_count": 332,
   "id": "665ec787",
   "metadata": {},
   "outputs": [
    {
     "data": {
      "text/plain": [
       "530495\n"
      ]
     },
     "execution_count": 332,
     "metadata": {},
     "output_type": "execute_result"
    }
   ],
   "source": [
    "/ part 1\n",
    "sum \"J\"$inp gln where any each gln in aas"
   ]
  },
  {
   "cell_type": "markdown",
   "id": "a45e0316",
   "metadata": {},
   "source": [
    "# Part 2"
   ]
  },
  {
   "cell_type": "code",
   "execution_count": 333,
   "id": "1c556a7b",
   "metadata": {},
   "outputs": [
    {
     "data": {
      "text/plain": [
       "13  12  11  151 153 291  292  293 \n",
       "34  33  32  172 174 312  313  314 \n",
       "47  46  45  185 187 325  326  327 \n",
       "85  84  83  223 225 363  364  365 \n",
       "90  89  88  228 230 368  369  370 \n",
       "103 102 101 241 243 381  382  383 \n",
       "116 115 114 254 256 394  395  396 \n",
       "123 122 121 261 263 401  402  403 \n",
       "167 166 165 305 307 445  446  447 \n",
       "177 176 175 315 317 455  456  457 \n",
       "214 213 212 352 354 492  493  494 \n",
       "233 232 231 371 373 511  512  513 \n",
       "344 343 342 482 484 622  623  624 \n",
       "413 412 411 551 553 691  692  693 \n",
       "489 488 487 627 629 767  768  769 \n",
       "505 504 503 643 645 783  784  785 \n",
       "571 570 569 709 711 849  850  851 \n",
       "597 596 595 735 737 875  876  877 \n",
       "611 610 609 749 751 889  890  891 \n",
       "635 634 633 773 775 913  914  915 \n",
       "728 727 726 866 868 1006 1007 1008\n",
       "762 761 760 900 902 1040 1041 1042\n",
       "..\n"
      ]
     },
     "execution_count": 333,
     "metadata": {},
     "output_type": "execute_result"
    }
   ],
   "source": [
    "/ area around gears\n",
    "aag:around+/:where inp in \"*\"\n",
    "aag"
   ]
  },
  {
   "cell_type": "code",
   "execution_count": 285,
   "id": "7ea231a8",
   "metadata": {},
   "outputs": [
    {
     "name": "stdout",
     "output_type": "stream",
     "text": [
      "(0 0;0 1;0 2;0 3;0 4;0 5;0 6;0 7;0 8;0 9;1 0;1 1;1 2;1 3;1 4;1 5;1 6;1 7;1 8;..\n",
      "(0 1;0 2;0 3;0 4;0 5;0 6;0 7;0 8;0 9;1 2;1 3;1 4;1 5;1 6;1 7;1 8;1 9;2 3;2 4;..\n"
     ]
    }
   ],
   "source": [
    "/ crossed indexes\n",
    "pd:0N!tc cross tc:til count gln\n",
    "\n",
    "/ filter mirror duplicates and self-pairs\n",
    "pairs:0N!pd where pd[;0]<pd[;1]"
   ]
  },
  {
   "cell_type": "code",
   "execution_count": 286,
   "id": "3ce73a12",
   "metadata": {},
   "outputs": [
    {
     "data": {
      "text/plain": [
       "100b\n"
      ]
     },
     "execution_count": 286,
     "metadata": {},
     "output_type": "execute_result"
    },
    {
     "data": {
      "text/plain": [
       "100b\n"
      ]
     },
     "execution_count": 286,
     "metadata": {},
     "output_type": "execute_result"
    },
    {
     "data": {
      "text/plain": [
       "1b\n"
      ]
     },
     "execution_count": 286,
     "metadata": {},
     "output_type": "execute_result"
    }
   ],
   "source": [
    "/ first number in any of gear areas\n",
    "any each gln[0] in/: aag\n",
    "/ third number in any of gear areas\n",
    "any each gln[2] in/: aag\n",
    "/ both in the same gear area\n",
    "any all (any each gln[0] in/: aag;any each gln[2] in/: aag)"
   ]
  },
  {
   "cell_type": "code",
   "execution_count": 287,
   "id": "824bc2e9",
   "metadata": {},
   "outputs": [
    {
     "name": "stdout",
     "output_type": "stream",
     "text": [
      "(4 3 2 12 14 22 23 24;34 33 32 42 44 52 53 54;76 75 74 84 86 94 95 96)\n"
     ]
    },
    {
     "data": {
      "text/plain": [
       "001b 000b 000b\n",
       "11b  00b  00b \n"
      ]
     },
     "execution_count": 287,
     "metadata": {},
     "output_type": "execute_result"
    }
   ],
   "source": [
    "flip (gln 0 2) in/: 0N!aag"
   ]
  },
  {
   "cell_type": "code",
   "execution_count": 288,
   "id": "946cfb4b",
   "metadata": {},
   "outputs": [
    {
     "name": "stdout",
     "output_type": "stream",
     "text": [
      "(0 1;0 2;0 3;1 2;1 3;1 4;2 3;2 4;2 5;3 4;3 5;3 6;4 5;4 6;4 7;5 6;5 7;5 8;6 7;..\n"
     ]
    }
   ],
   "source": [
    "/ filter pairs that are more than 4 rows apart - definitely cannot have the same gear\n",
    "pairs:0N!pairs where {(4*rl)>.[-](max;min)@\\:raze gln x} each pairs"
   ]
  },
  {
   "cell_type": "code",
   "execution_count": 289,
   "id": "bb2493b0",
   "metadata": {},
   "outputs": [
    {
     "data": {
      "text/plain": [
       "467835\n"
      ]
     },
     "execution_count": 289,
     "metadata": {},
     "output_type": "execute_result"
    }
   ],
   "source": [
    "/ part 2\n",
    "sum {$[any all (any each gln[x 0] in/: aag;any each gln[x 1] in/: aag);prd \"J\"$inp gln x 0 1;0]} each pairs"
   ]
  },
  {
   "cell_type": "markdown",
   "id": "b5c1fcb1",
   "metadata": {},
   "source": [
    "# Faster part 2"
   ]
  },
  {
   "cell_type": "code",
   "execution_count": 334,
   "id": "e2b17447",
   "metadata": {},
   "outputs": [
    {
     "data": {
      "text/plain": [
       "0 | 65\n",
       "1 | 998\n",
       "2 | 453\n",
       "3 | 845\n",
       "4 | 773\n",
       "5 | 307\n",
       "6 | 527\n",
       "7 | 541\n",
       "8 | 125\n",
       "9 | 331\n",
       "10| 30\n",
       "11| 76\n",
       "12| 861\n",
       "13| 298\n",
       "14| 700\n",
       "15| 942\n",
       "16| 874\n",
       "17| 407\n",
       "18| 558\n",
       "19| 752\n",
       "20| 196\n",
       "21| 274\n",
       "..\n"
      ]
     },
     "execution_count": 334,
     "metadata": {},
     "output_type": "execute_result"
    }
   ],
   "source": [
    "/ uniquely ID all numbers\n",
    "id2n:til[count gln]!\"J\"$inp gln\n",
    "id2n"
   ]
  },
  {
   "cell_type": "code",
   "execution_count": 335,
   "id": "906e7ffc",
   "metadata": {},
   "outputs": [
    {
     "data": {
      "text/plain": [
       "13 14      | 0\n",
       "33 34 35   | 1\n",
       "45 46 47   | 2\n",
       "83 84 85   | 3\n",
       "88 89 90   | 4\n",
       "116 117 118| 5\n",
       "123 124 125| 6\n",
       "137 138 139| 7\n",
       "163 164 165| 8\n",
       "177 178 179| 9\n",
       "208 209    | 10\n",
       "211 212    | 11\n",
       "232 233 234| 12\n",
       "252 253 254| 13\n",
       "272 273 274| 14\n",
       "296 297 298| 15\n",
       "310 311 312| 16\n",
       "323 324 325| 17\n",
       "329 330 331| 18\n",
       "344 345 346| 19\n",
       "354 355 356| 20\n",
       "358 359 360| 21\n",
       "..\n"
      ]
     },
     "execution_count": 335,
     "metadata": {},
     "output_type": "execute_result"
    }
   ],
   "source": [
    "/ indexes of number digit to unique ID\n",
    "gln!til count gln"
   ]
  },
  {
   "cell_type": "code",
   "execution_count": 336,
   "id": "771ddf77",
   "metadata": {},
   "outputs": [
    {
     "data": {
      "text/plain": [
       "13 | 0\n",
       "14 | 0\n",
       "33 | 1\n",
       "34 | 1\n",
       "35 | 1\n",
       "45 | 2\n",
       "46 | 2\n",
       "47 | 2\n",
       "83 | 3\n",
       "84 | 3\n",
       "85 | 3\n",
       "88 | 4\n",
       "89 | 4\n",
       "90 | 4\n",
       "116| 5\n",
       "117| 5\n",
       "118| 5\n",
       "123| 6\n",
       "124| 6\n",
       "125| 6\n",
       "137| 7\n",
       "138| 7\n",
       "..\n"
      ]
     },
     "execution_count": 336,
     "metadata": {},
     "output_type": "execute_result"
    }
   ],
   "source": [
    "/ single index to unique ID\n",
    "i2id:raze[gln]!raze (count each gln)#'til count gln\n",
    "i2id"
   ]
  },
  {
   "cell_type": "code",
   "execution_count": 337,
   "id": "3e2b950f",
   "metadata": {},
   "outputs": [
    {
     "data": {
      "text/plain": [
       ",0\n",
       "1 16\n",
       "2 17\n",
       "3 22\n",
       "4 23\n",
       ",24\n",
       "5 13\n",
       "6 25\n",
       "8 27\n",
       "9 28\n",
       "11 20\n",
       "12 30\n",
       "19 39\n",
       "33 44\n",
       "29 48\n",
       "41 42\n",
       "35 51\n",
       "36 47\n",
       ",37\n",
       "40 56\n",
       "46 61\n",
       "54 55\n",
       "..\n"
      ]
     },
     "execution_count": 337,
     "metadata": {},
     "output_type": "execute_result"
    }
   ],
   "source": [
    "/ find all IDs that area around gear intesects with\n",
    "/ numbers near gear\n",
    "nng:{x where not null x:distinct i2id x} each aag\n",
    "nng"
   ]
  },
  {
   "cell_type": "code",
   "execution_count": 340,
   "id": "e266f785",
   "metadata": {},
   "outputs": [
    {
     "name": "stdout",
     "output_type": "stream",
     "text": [
      "80253814\n",
      "80253814\n",
      "80253814\n",
      "80253814\n",
      "80253814\n",
      "80253814\n",
      "80253814\n",
      "80253814\n",
      "80253814\n",
      "80253814\n",
      "80253814\n",
      "80253814\n",
      "80253814\n",
      "80253814\n",
      "80253814\n",
      "80253814\n",
      "80253814\n",
      "80253814\n",
      "80253814\n",
      "80253814\n",
      "80253814\n",
      "80253814\n",
      "80253814\n",
      "80253814\n",
      "80253814\n",
      "80253814\n",
      "80253814\n",
      "80253814\n",
      "80253814\n",
      "80253814\n",
      "80253814\n",
      "80253814\n",
      "80253814\n",
      "80253814\n",
      "80253814\n",
      "80253814\n",
      "80253814\n",
      "80253814\n",
      "80253814\n",
      "80253814\n",
      "80253814\n",
      "80253814\n",
      "80253814\n",
      "80253814\n",
      "80253814\n",
      "80253814\n",
      "80253814\n",
      "80253814\n",
      "80253814\n",
      "80253814\n",
      "80253814\n",
      "80253814\n",
      "80253814\n",
      "80253814\n",
      "80253814\n",
      "80253814\n",
      "80253814\n",
      "80253814\n",
      "80253814\n",
      "80253814\n",
      "80253814\n",
      "80253814\n",
      "80253814\n",
      "80253814\n",
      "80253814\n",
      "80253814\n",
      "80253814\n",
      "80253814\n",
      "80253814\n",
      "80253814\n",
      "80253814\n",
      "80253814\n",
      "80253814\n",
      "80253814\n",
      "80253814\n",
      "80253814\n",
      "80253814\n",
      "80253814\n",
      "80253814\n",
      "80253814\n",
      "80253814\n",
      "80253814\n",
      "80253814\n",
      "80253814\n",
      "80253814\n",
      "80253814\n",
      "80253814\n",
      "80253814\n",
      "80253814\n",
      "80253814\n",
      "80253814\n",
      "80253814\n",
      "80253814\n",
      "80253814\n",
      "80253814\n",
      "80253814\n",
      "80253814\n",
      "80253814\n",
      "80253814\n",
      "80253814\n"
     ]
    },
    {
     "data": {
      "text/plain": [
       "31 28944\n"
      ]
     },
     "execution_count": 340,
     "metadata": {},
     "output_type": "execute_result"
    }
   ],
   "source": [
    "\\ts:100 0N!sum prd each id2n each nng where 1<count each nng"
   ]
  },
  {
   "cell_type": "code",
   "execution_count": null,
   "id": "f3802869",
   "metadata": {},
   "outputs": [],
   "source": []
  }
 ],
 "metadata": {
  "kernelspec": {
   "display_name": "Q (kdb+)",
   "language": "q",
   "name": "qpk"
  },
  "language_info": {
   "file_extension": ".q",
   "mimetype": "text/x-q",
   "name": "q",
   "version": "4.0"
  }
 },
 "nbformat": 4,
 "nbformat_minor": 5
}
