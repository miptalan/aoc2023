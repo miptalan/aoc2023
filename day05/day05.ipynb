{
 "cells": [
  {
   "cell_type": "code",
   "execution_count": 147,
   "id": "54670bde",
   "metadata": {},
   "outputs": [
    {
     "data": {
      "text/plain": [
       "\"seeds: 79 14 55 13\"\n",
       "\"\"\n",
       "\"seed-to-soil map:\"\n",
       "\"50 98 2\"\n",
       "\"52 50 48\"\n",
       "\"\"\n",
       "\"soil-to-fertilizer map:\"\n",
       "\"0 15 37\"\n",
       "\"37 52 2\"\n",
       "\"39 0 15\"\n",
       "\"\"\n",
       "\"fertilizer-to-water map:\"\n",
       "\"49 53 8\"\n",
       "\"0 11 42\"\n",
       "\"42 0 7\"\n",
       "\"57 7 4\"\n",
       "\"\"\n",
       "\"water-to-light map:\"\n",
       "\"88 18 7\"\n",
       "\"18 25 70\"\n",
       "\"\"\n",
       "\"light-to-temperature map:\"\n",
       "..\n"
      ]
     },
     "execution_count": 147,
     "metadata": {},
     "output_type": "execute_result"
    }
   ],
   "source": [
    "i:read0`:test1.txt\n",
    "i"
   ]
  },
  {
   "cell_type": "code",
   "execution_count": 148,
   "id": "1ee5f3a5",
   "metadata": {},
   "outputs": [
    {
     "data": {
      "text/plain": [
       "\"seed-to-soil map:\"\n",
       "\"soil-to-fertilizer map:\"\n",
       "\"fertilizer-to-water map:\"\n",
       "\"water-to-light map:\"\n",
       "\"light-to-temperature map:\"\n",
       "\"temperature-to-humidity map:\"\n",
       "\"humidity-to-location map:\"\n"
      ]
     },
     "execution_count": 148,
     "metadata": {},
     "output_type": "execute_result"
    }
   ],
   "source": [
    "/ maps are sequential - so just apply in order\n",
    "i where i like \"*-to-*\""
   ]
  },
  {
   "cell_type": "code",
   "execution_count": 149,
   "id": "71f14f48",
   "metadata": {},
   "outputs": [
    {
     "data": {
      "text/plain": [
       "79 14 55 13\n"
      ]
     },
     "execution_count": 149,
     "metadata": {},
     "output_type": "execute_result"
    }
   ],
   "source": [
    "/ parse first line\n",
    "seeds:get last \":\" vs i 0\n",
    "seeds\n",
    "\n",
    "/ remove seeds line\n",
    "rs:2_i"
   ]
  },
  {
   "cell_type": "code",
   "execution_count": 150,
   "id": "29550070",
   "metadata": {},
   "outputs": [
    {
     "data": {
      "text/plain": [
       "(\"seed-to-soil map:\";\"50 98 2\";\"52 50 48\")\n",
       "(\"\";\"soil-to-fertilizer map:\";\"0 15 37\";\"37 52 2\";\"39 0 15\")\n",
       "(\"\";\"fertilizer-to-water map:\";\"49 53 8\";\"0 11 42\";\"42 0 7\";\"57 7 4\")\n",
       "(\"\";\"water-to-light map:\";\"88 18 7\";\"18 25 70\")\n",
       "(\"\";\"light-to-temperature map:\";\"45 77 23\";\"81 45 19\";\"68 64 13\")\n",
       "(\"\";\"temperature-to-humidity map:\";\"0 69 1\";\"1 0 69\")\n",
       "(\"\";\"humidity-to-location map:\";\"60 56 37\";\"56 93 4\")\n"
      ]
     },
     "execution_count": 150,
     "metadata": {},
     "output_type": "execute_result"
    }
   ],
   "source": [
    "/ cut by empty lines\n",
    "elc:(0,where rs like \"\") cut rs\n",
    "elc"
   ]
  },
  {
   "cell_type": "code",
   "execution_count": 151,
   "id": "856d7c40",
   "metadata": {},
   "outputs": [
    {
     "data": {
      "text/plain": [
       "(\"50 98 2\";\"52 50 48\")\n",
       "(\"0 15 37\";\"37 52 2\";\"39 0 15\")\n",
       "(\"49 53 8\";\"0 11 42\";\"42 0 7\";\"57 7 4\")\n",
       "(\"88 18 7\";\"18 25 70\")\n",
       "(\"45 77 23\";\"81 45 19\";\"68 64 13\")\n",
       "(\"0 69 1\";\"1 0 69\")\n",
       "(\"60 56 37\";\"56 93 4\")\n"
      ]
     },
     "execution_count": 151,
     "metadata": {},
     "output_type": "execute_result"
    }
   ],
   "source": [
    "/ remove empty lines and headers\n",
    "elh:_'[1,1_(count elc)#2;elc]\n",
    "elh"
   ]
  },
  {
   "cell_type": "code",
   "execution_count": 152,
   "id": "789444b5",
   "metadata": {},
   "outputs": [
    {
     "data": {
      "text/plain": [
       "(50 98 2;52 50 48)\n",
       "(0 15 37;37 52 2;39 0 15)\n",
       "(49 53 8;0 11 42;42 0 7;57 7 4)\n",
       "(88 18 7;18 25 70)\n",
       "(45 77 23;81 45 19;68 64 13)\n",
       "(0 69 1;1 0 69)\n",
       "(60 56 37;56 93 4)\n"
      ]
     },
     "execution_count": 152,
     "metadata": {},
     "output_type": "execute_result"
    }
   ],
   "source": [
    "/ parse numbers\n",
    "pn:get''[elh]\n",
    "pn"
   ]
  },
  {
   "cell_type": "code",
   "execution_count": 153,
   "id": "43af54de",
   "metadata": {},
   "outputs": [
    {
     "data": {
      "text/plain": [
       "98| 50\n",
       "99| 51\n"
      ]
     },
     "execution_count": 153,
     "metadata": {},
     "output_type": "execute_result"
    }
   ],
   "source": [
    "/ build range dict\n",
    "{(y+til z)!x+til z} . first first pn"
   ]
  },
  {
   "cell_type": "code",
   "execution_count": 154,
   "id": "ae60c75d",
   "metadata": {},
   "outputs": [
    {
     "data": {
      "text/plain": [
       "98| 50\n",
       "99| 51\n",
       "50| 52\n",
       "51| 53\n",
       "52| 54\n",
       "53| 55\n",
       "54| 56\n",
       "55| 57\n",
       "56| 58\n",
       "57| 59\n",
       "58| 60\n",
       "59| 61\n",
       "60| 62\n",
       "61| 63\n",
       "62| 64\n",
       "63| 65\n",
       "64| 66\n",
       "65| 67\n",
       "66| 68\n",
       "67| 69\n",
       "68| 70\n",
       "69| 71\n",
       "..\n"
      ]
     },
     "execution_count": 154,
     "metadata": {},
     "output_type": "execute_result"
    }
   ],
   "source": [
    "/ joined dict for the whole map\n",
    "{x,{(y+til z)!x+til z} . y}/[()!();first pn]"
   ]
  },
  {
   "cell_type": "code",
   "execution_count": 155,
   "id": "896ee740",
   "metadata": {},
   "outputs": [
    {
     "data": {
      "text/plain": [
       "98 99 50 51 52 53 54 55 56 57 58 59 60 61 62 63 64 65 66 67 68 69 70 71 72 73..\n",
       "15 16 17 18 19 20 21 22 23 24 25 26 27 28 29 30 31 32 33 34 35 36 37 38 39 40..\n",
       "53 54 55 56 57 58 59 60 11 12 13 14 15 16 17 18 19 20 21 22 23 24 25 26 27 28..\n",
       "18 19 20 21 22 23 24 25 26 27 28 29 30 31 32 33 34 35 36 37 38 39 40 41 42 43..\n",
       "77 78 79 80 81 82 83 84 85 86 87 88 89 90 91 92 93 94 95 96 97 98 99 45 46 47..\n",
       "69 0 1 2 3 4 5 6 7 8 9 10 11 12 13 14 15 16 17 18 19 20 21 22 23 24 25 26 27 ..\n",
       "56 57 58 59 60 61 62 63 64 65 66 67 68 69 70 71 72 73 74 75 76 77 78 79 80 81..\n"
      ]
     },
     "execution_count": 155,
     "metadata": {},
     "output_type": "execute_result"
    }
   ],
   "source": [
    "/ get all maps\n",
    "maps:{x,{(y+til z)!x+til z} . y}/[()!();] each pn\n",
    "maps"
   ]
  },
  {
   "cell_type": "code",
   "execution_count": 156,
   "id": "b8855b21",
   "metadata": {},
   "outputs": [
    {
     "data": {
      "text/plain": [
       "10 20 52\n"
      ]
     },
     "execution_count": 156,
     "metadata": {},
     "output_type": "execute_result"
    }
   ],
   "source": [
    "/ support default mapping\n",
    "map:{?[not x in key y;x;y x]}\n",
    "map[10 20 50;maps 0]"
   ]
  },
  {
   "cell_type": "code",
   "execution_count": 157,
   "id": "02693636",
   "metadata": {},
   "outputs": [
    {
     "data": {
      "text/plain": [
       "35\n"
      ]
     },
     "execution_count": 157,
     "metadata": {},
     "output_type": "execute_result"
    }
   ],
   "source": [
    "/ part 1\n",
    "min map/[seeds;maps]"
   ]
  },
  {
   "cell_type": "code",
   "execution_count": 158,
   "id": "8b351d6f",
   "metadata": {},
   "outputs": [
    {
     "data": {
      "text/plain": [
       "79 80 81 82 83 84 85 86 87 88 89 90 91 92 55 56 57 58 59 60 61 62 63 64 65 66..\n"
      ]
     },
     "execution_count": 158,
     "metadata": {},
     "output_type": "execute_result"
    }
   ],
   "source": [
    "/ build seeds for 2\n",
    "seeds2:raze {x+til y} .' 2 cut seeds\n",
    "seeds2"
   ]
  },
  {
   "cell_type": "code",
   "execution_count": 159,
   "id": "99938a08",
   "metadata": {},
   "outputs": [
    {
     "data": {
      "text/plain": [
       "46\n"
      ]
     },
     "execution_count": 159,
     "metadata": {},
     "output_type": "execute_result"
    }
   ],
   "source": [
    "/ part 1\n",
    "min map/[seeds2;maps]"
   ]
  },
  {
   "cell_type": "code",
   "execution_count": 160,
   "id": "70bad841",
   "metadata": {},
   "outputs": [
    {
     "name": "stdout",
     "output_type": "stream",
     "text": [
      "(50 98 2;52 50 48)\n"
     ]
    },
    {
     "data": {
      "text/plain": [
       "50 97 2  \n",
       "98 99 -48\n"
      ]
     },
     "execution_count": 160,
     "metadata": {},
     "output_type": "execute_result"
    }
   ],
   "source": [
    "/ part 2 was too big, need to map intervals\n",
    "/ first check if intervals are disjoint, adjacent, etc.\n",
    "asc {(x 1;-1+sum x 1 2;.[-]x 0 1)} each 0N!first pn\n",
    "/ corresponds to intervals [0;49],[50;97];[98;99];[100;) -> 0, 2, -48, 0"
   ]
  },
  {
   "cell_type": "code",
   "execution_count": 161,
   "id": "21e8267e",
   "metadata": {},
   "outputs": [
    {
     "data": {
      "text/plain": [
       "55 67\n",
       "79 92\n"
      ]
     },
     "execution_count": 161,
     "metadata": {},
     "output_type": "execute_result"
    }
   ],
   "source": [
    "seedInts:asc {(x 0;-1+sum x 0 1)} each 2 cut seeds\n",
    "seedInts"
   ]
  },
  {
   "cell_type": "code",
   "execution_count": 162,
   "id": "7d572797",
   "metadata": {},
   "outputs": [
    {
     "data": {
      "text/plain": [
       "0  | 0\n",
       "50 | 2\n",
       "98 | -48\n",
       "100| 0\n"
      ]
     },
     "execution_count": 162,
     "metadata": {},
     "output_type": "execute_result"
    }
   ],
   "source": [
    "/ use step-dictionary to translate intervals\n",
    "d:`s#(asc key d)#d:{x[y 1]:y[0]-y 1;end:sum y 1 2;if[not end in key x;x[end]:0];x}/[enlist[0]!enlist 0;first pn]\n",
    "d"
   ]
  },
  {
   "cell_type": "code",
   "execution_count": 163,
   "id": "57146913",
   "metadata": {},
   "outputs": [
    {
     "data": {
      "text/plain": [
       ",45 49\n",
       "`s#(45 49;52 57)\n",
       "`s#(45 49;50 51;52 99;100 105)\n"
      ]
     },
     "execution_count": 163,
     "metadata": {},
     "output_type": "execute_result"
    }
   ],
   "source": [
    "map:{[m;l;r]\n",
    "    li:key[m] binr l;\n",
    "    ri:key[m] bin r;\n",
    "    if[li>ri;\n",
    "        :enlist (l;r)+m l\n",
    "     ];\n",
    "    newBounds:asc l,(asc raze -1 0+/:key[m] li+til 1+ri-li),r;\n",
    "    asc 2 cut newBounds+m newBounds\n",
    " }\n",
    "map[d]./:(45 49;45 55;45 105)"
   ]
  },
  {
   "cell_type": "code",
   "execution_count": 164,
   "id": "17c7809f",
   "metadata": {},
   "outputs": [
    {
     "data": {
      "text/plain": [
       "`s#`s#0 50 98 100!0 2 -48 0\n",
       "`s#`s#0 15 52 54!39 -15 -15 0\n",
       "`s#`s#0 7 11 53 61!42 50 -11 -4 0\n",
       "`s#`s#0 18 25 95!0 70 -7 0\n",
       "`s#`s#0 45 64 77 100!0 36 4 -32 0\n",
       "`s#`s#0 69 70!1 -69 0\n",
       "`s#`s#0 56 93 97!0 4 -37 0\n"
      ]
     },
     "execution_count": 164,
     "metadata": {},
     "output_type": "execute_result"
    }
   ],
   "source": [
    "pm:{x[y 1]:y[0]-y 1;end:sum y 1 2;if[not end in key x;x[end]:0];x}\n",
    "maps:{`s#(asc key d)#d:pm/[enlist[0]!enlist 0;x]} each pn\n",
    "maps"
   ]
  },
  {
   "cell_type": "code",
   "execution_count": 165,
   "id": "bf34b051",
   "metadata": {},
   "outputs": [
    {
     "data": {
      "text/plain": [
       "46\n"
      ]
     },
     "execution_count": 165,
     "metadata": {},
     "output_type": "execute_result"
    }
   ],
   "source": [
    "min raze {raze map[y]./:x}/[seedInts;maps]"
   ]
  },
  {
   "cell_type": "code",
   "execution_count": 166,
   "id": "6c0d1bab",
   "metadata": {},
   "outputs": [
    {
     "data": {
      "text/plain": [
       "78775051\n"
      ]
     },
     "execution_count": 166,
     "metadata": {},
     "output_type": "execute_result"
    }
   ],
   "source": [
    "/ part 2 combined\n",
    "i:read0`:input.txt\n",
    "seeds:get last \":\" vs i 0\n",
    "pn:get''[_'[1,1_(count elc)#2;elc:(0,where rs like \"\") cut rs:2_i]]\n",
    "\n",
    "seedInts:asc {(x 0;-1+sum x 0 1)} each 2 cut seeds\n",
    "maps:{`s#(asc key d)#d:pm/[enlist[0]!enlist 0;x]} each pn\n",
    "min raze {raze map[y]./:x}/[seedInts;maps]"
   ]
  },
  {
   "cell_type": "code",
   "execution_count": null,
   "id": "c0b7e4b7",
   "metadata": {},
   "outputs": [],
   "source": []
  }
 ],
 "metadata": {
  "kernelspec": {
   "display_name": "Q (kdb+)",
   "language": "q",
   "name": "qpk"
  },
  "language_info": {
   "file_extension": ".q",
   "mimetype": "text/x-q",
   "name": "q",
   "version": "4.0"
  }
 },
 "nbformat": 4,
 "nbformat_minor": 5
}
