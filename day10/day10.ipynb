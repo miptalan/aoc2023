{
 "cells": [
  {
   "cell_type": "code",
   "execution_count": 2,
   "id": "8be6d701",
   "metadata": {},
   "outputs": [
    {
     "data": {
      "text/plain": [
       "\".....\"\n",
       "\".S-7.\"\n",
       "\".|.|.\"\n",
       "\".L-J.\"\n",
       "\".....\"\n"
      ]
     },
     "execution_count": 2,
     "metadata": {},
     "output_type": "execute_result"
    }
   ],
   "source": [
    "i1:read0`:test1.txt\n",
    "maxR:count i1\n",
    "maxC:count first i1\n",
    "i1"
   ]
  },
  {
   "cell_type": "markdown",
   "id": "a601d719",
   "metadata": {},
   "source": [
    "# Part 1"
   ]
  },
  {
   "cell_type": "code",
   "execution_count": 3,
   "id": "57ffafd5",
   "metadata": {},
   "outputs": [
    {
     "data": {
      "text/plain": [
       "1 1\n"
      ]
     },
     "execution_count": 3,
     "metadata": {},
     "output_type": "execute_result"
    }
   ],
   "source": [
    "/ start location\n",
    "row:where 0<count each col:where each i1=\"S\"\n",
    "sl:(first row;first first col row)\n",
    "sl"
   ]
  },
  {
   "cell_type": "code",
   "execution_count": 4,
   "id": "4e9ef62b",
   "metadata": {},
   "outputs": [
    {
     "data": {
      "text/plain": [
       ".| ,()\n",
       "S| (1 0;0 1;-1 0;0 -1)\n",
       "|| (1 0;-1 0)\n",
       "-| (0 1;0 -1)\n",
       "J| (-1 0;0 -1)\n",
       "F| (1 0;0 1)\n",
       "L| (-1 0;0 1)\n",
       "7| (1 0;0 -1)\n"
      ]
     },
     "execution_count": 4,
     "metadata": {},
     "output_type": "execute_result"
    }
   ],
   "source": [
    "/ available directions from current symbol\n",
    "ad:(!). flip (\n",
    "    (\".\";enlist ()); /nowhere\n",
    "    (\"S\";(1 0;0 1;-1 0;0 -1)); /drul\n",
    "    (\"|\";(1 0;-1 0)); /du\n",
    "    (\"-\";(0 1;0 -1)); /rl\n",
    "    (\"J\";(-1 0;0 -1)); /ul\n",
    "    (\"F\";(1 0;0 1)); /dr\n",
    "    (\"L\";(-1 0;0 1)); /ur\n",
    "    (\"7\";(1 0;0 -1)) /dl\n",
    " )\n",
    "ad"
   ]
  },
  {
   "cell_type": "code",
   "execution_count": 5,
   "id": "3a70046c",
   "metadata": {},
   "outputs": [
    {
     "data": {
      "text/plain": [
       ".| ,\"\"\n",
       "S| (\"|JL\";\"-J7\";\"|F7\";\"-LF\")\n",
       "|| (\"|JL\";\"|F7\")\n",
       "-| (\"-J7\";\"-LF\")\n",
       "J| (\"|F7\";\"-LF\")\n",
       "F| (\"|JL\";\"-J7\")\n",
       "L| (\"|F7\";\"-J7\")\n",
       "7| (\"|JL\";\"-LF\")\n"
      ]
     },
     "execution_count": 5,
     "metadata": {},
     "output_type": "execute_result"
    }
   ],
   "source": [
    "/ available symbols from current symbol\n",
    "as:(!). flip (\n",
    "    (\".\";enlist \"\");\n",
    "    (\"S\";(\"|JL\";\"-J7\";\"|F7\";\"-LF\")); \n",
    "    (\"|\";(\"|JL\";\"|F7\")); /du\n",
    "    (\"-\";(\"-J7\";\"-LF\")); /rl\n",
    "    (\"J\";(\"|F7\";\"-LF\")); /ul\n",
    "    (\"F\";(\"|JL\";\"-J7\")); /dr\n",
    "    (\"L\";(\"|F7\";\"-J7\")); /ur\n",
    "    (\"7\";(\"|JL\";\"-LF\")) /dl\n",
    " )\n",
    "as"
   ]
  },
  {
   "cell_type": "code",
   "execution_count": 6,
   "id": "aafd9db0",
   "metadata": {},
   "outputs": [
    {
     "data": {
      "text/plain": [
       "\"S\"\n"
      ]
     },
     "execution_count": 6,
     "metadata": {},
     "output_type": "execute_result"
    },
    {
     "data": {
      "text/plain": [
       "\"|JL\"\n",
       "\"-J7\"\n",
       "\"|F7\"\n",
       "\"-LF\"\n"
      ]
     },
     "execution_count": 6,
     "metadata": {},
     "output_type": "execute_result"
    },
    {
     "data": {
      "text/plain": [
       "2 1\n",
       "1 2\n",
       "0 1\n",
       "1 0\n"
      ]
     },
     "execution_count": 6,
     "metadata": {},
     "output_type": "execute_result"
    },
    {
     "data": {
      "text/plain": [
       "\"|-..\"\n"
      ]
     },
     "execution_count": 6,
     "metadata": {},
     "output_type": "execute_result"
    },
    {
     "data": {
      "text/plain": [
       "1100b\n"
      ]
     },
     "execution_count": 6,
     "metadata": {},
     "output_type": "execute_result"
    }
   ],
   "source": [
    "/ current symbol\n",
    "i1 . sl\n",
    "/ available symbols\n",
    "as i1 . sl\n",
    "/ next locations\n",
    "sl+/:ad i1 . sl\n",
    "/ symbols next locations\n",
    "i1 ./:sl+/:ad i1 . sl\n",
    "/ compatibility\n",
    "any@'in'[as i1 . sl;i1 ./:sl+/:ad i1 . sl]"
   ]
  },
  {
   "cell_type": "code",
   "execution_count": 7,
   "id": "97a497d5",
   "metadata": {},
   "outputs": [
    {
     "data": {
      "text/plain": [
       "0b\n"
      ]
     },
     "execution_count": 7,
     "metadata": {},
     "output_type": "execute_result"
    },
    {
     "data": {
      "text/plain": [
       "1b\n"
      ]
     },
     "execution_count": 7,
     "metadata": {},
     "output_type": "execute_result"
    },
    {
     "data": {
      "text/plain": [
       "0110b\n"
      ]
     },
     "execution_count": 7,
     "metadata": {},
     "output_type": "execute_result"
    }
   ],
   "source": [
    "/ control that location is within field bounds\n",
    "all within'[-1 3;((0;maxR-1);(0;maxC-1))]\n",
    "all within'[2 3;((0;maxR-1);(0;maxC-1))]\n",
    "\n",
    "bfn:{all@'(within'[;((0;maxR-1);(0;maxC-1))])@/:x}\n",
    "bfn (-1 3;0 0;4 4;5 5)"
   ]
  },
  {
   "cell_type": "code",
   "execution_count": 8,
   "id": "a2611034",
   "metadata": {},
   "outputs": [
    {
     "data": {
      "text/plain": [
       "2 1\n",
       "1 2\n"
      ]
     },
     "execution_count": 8,
     "metadata": {},
     "output_type": "execute_result"
    }
   ],
   "source": [
    "(2 1;1 2) except enlist 1 1"
   ]
  },
  {
   "cell_type": "code",
   "execution_count": 9,
   "id": "9004964f",
   "metadata": {},
   "outputs": [
    {
     "data": {
      "text/plain": [
       "2 1\n",
       "1 2\n"
      ]
     },
     "execution_count": 9,
     "metadata": {},
     "output_type": "execute_result"
    }
   ],
   "source": [
    "/ combine all conditions\n",
    "f:i1\n",
    "nfn:{[l] / location (row,col)\n",
    "    cs:f . l; / current symbol\n",
    "    nl:l+/:ad cs; / next locations\n",
    "    c1:any@'in'[as cs;f ./:nl];\n",
    "    c2:all@'(within'[;((0;maxR-1);(0;maxC-1))])@/:nl;\n",
    "    nl where c1&c2\n",
    " }\n",
    "nfn sl"
   ]
  },
  {
   "cell_type": "code",
   "execution_count": 10,
   "id": "af1b5de3",
   "metadata": {},
   "outputs": [
    {
     "data": {
      "text/plain": []
     },
     "execution_count": 10,
     "metadata": {},
     "output_type": "execute_result"
    },
    {
     "data": {
      "text/plain": [
       "1 1| 2 1\n",
       "2 1| 3 1\n",
       "3 1| 3 2\n",
       "3 2| 3 3\n",
       "3 3| 2 3\n",
       "2 3| 1 3\n",
       "1 3| 1 2\n",
       "1 2| ()\n"
      ]
     },
     "execution_count": 10,
     "metadata": {},
     "output_type": "execute_result"
    },
    {
     "data": {
      "text/plain": [
       "4f\n"
      ]
     },
     "execution_count": 10,
     "metadata": {},
     "output_type": "execute_result"
    }
   ],
   "source": [
    "g:()!()\n",
    "{[l]\n",
    "    g[enlist l]:enlist nl:first nfn[l] except key g;\n",
    "    nl\n",
    " }/[{0<count x};sl]\n",
    "g\n",
    "0.5*count key g"
   ]
  },
  {
   "cell_type": "code",
   "execution_count": 20,
   "id": "749ed574",
   "metadata": {},
   "outputs": [
    {
     "name": "stdout",
     "output_type": "stream",
     "text": [
      "140 140\n"
     ]
    },
    {
     "data": {
      "text/plain": []
     },
     "execution_count": 20,
     "metadata": {},
     "output_type": "execute_result"
    },
    {
     "data": {
      "text/plain": [
       "6903f\n"
      ]
     },
     "execution_count": 20,
     "metadata": {},
     "output_type": "execute_result"
    }
   ],
   "source": [
    "/ p1 real input\n",
    "f:read0`:input.txt\n",
    "show (count f;count first f)\n",
    "row:where 0<count each col:where each f=\"S\"\n",
    "sl:(first row;first first col row)\n",
    "maxR:count f\n",
    "maxC:count first f\n",
    "nfn:{[l] / location (row,col)\n",
    "    cs:f . l; / current symbol\n",
    "    nl:l+/:ad cs; / next locations\n",
    "    c1:any@'in'[as cs;f ./:nl];\n",
    "    c2:all@'(within'[;((0;maxR-1);(0;maxC-1))])@/:nl;\n",
    "    nl where c1&c2\n",
    " }\n",
    "\n",
    "g:()!()\n",
    "{[l]\n",
    "    g[enlist l]:enlist nl:first nfn[l] except key g;\n",
    "    nl\n",
    " }/[{0<count x};sl]\n",
    "\n",
    "0.5*count key g"
   ]
  },
  {
   "cell_type": "markdown",
   "id": "7ae0374c",
   "metadata": {},
   "source": [
    "# Part 2"
   ]
  },
  {
   "cell_type": "code",
   "execution_count": 21,
   "id": "e84143ac",
   "metadata": {},
   "outputs": [
    {
     "data": {
      "text/plain": [
       "265i\n"
      ]
     },
     "execution_count": 21,
     "metadata": {},
     "output_type": "execute_result"
    }
   ],
   "source": [
    "/ all locations not on loop\n",
    "alll:raze tcf,\\:/:tcf:til[count f]\n",
    "alll:alll except key g\n",
    "\n",
    "sum {[l]\n",
    "    / diagonal trace\n",
    "    trace:(+[1 1])\\[{(maxR>x 0)&maxC>x 1};l];\n",
    "    res:{$[(y in key g)&not (f . y) in \"L7\";x+1;x]}/[0;trace];\n",
    "    1=res mod 2\n",
    " } each alll"
   ]
  },
  {
   "cell_type": "code",
   "execution_count": null,
   "id": "56157776",
   "metadata": {},
   "outputs": [],
   "source": []
  }
 ],
 "metadata": {
  "kernelspec": {
   "display_name": "Q (kdb+)",
   "language": "q",
   "name": "qpk"
  },
  "language_info": {
   "file_extension": ".q",
   "mimetype": "text/x-q",
   "name": "q",
   "version": "4.0"
  }
 },
 "nbformat": 4,
 "nbformat_minor": 5
}
