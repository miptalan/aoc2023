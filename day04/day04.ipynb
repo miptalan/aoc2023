{
 "cells": [
  {
   "cell_type": "code",
   "execution_count": 147,
   "id": "901522f2",
   "metadata": {},
   "outputs": [
    {
     "data": {
      "text/plain": [
       "\"Card 1: 41 48 83 86 17 | 83 86  6 31 17  9 48 53\"\n",
       "\"Card 2: 13 32 20 16 61 | 61 30 68 82 17 32 24 19\"\n",
       "\"Card 3:  1 21 53 59 44 | 69 82 63 72 16 21 14  1\"\n",
       "\"Card 4: 41 92 73 84 69 | 59 84 76 51 58  5 54 83\"\n",
       "\"Card 5: 87 83 26 28 32 | 88 30 70 12 93 22 82 36\"\n",
       "\"Card 6: 31 18 13 56 72 | 74 77 10 23 35 67 36 11\"\n"
      ]
     },
     "execution_count": 147,
     "metadata": {},
     "output_type": "execute_result"
    }
   ],
   "source": [
    "i:read0`:test1.txt\n",
    "i"
   ]
  },
  {
   "cell_type": "code",
   "execution_count": 148,
   "id": "85b2ad15",
   "metadata": {},
   "outputs": [
    {
     "data": {
      "text/plain": [
       "\"41 48 83 86 17 | 83 86  6 31 17  9 48 53\"\n",
       "\"13 32 20 16 61 | 61 30 68 82 17 32 24 19\"\n",
       "\" 1 21 53 59 44 | 69 82 63 72 16 21 14  1\"\n",
       "\"41 92 73 84 69 | 59 84 76 51 58  5 54 83\"\n",
       "\"87 83 26 28 32 | 88 30 70 12 93 22 82 36\"\n",
       "\"31 18 13 56 72 | 74 77 10 23 35 67 36 11\"\n"
      ]
     },
     "execution_count": 148,
     "metadata": {},
     "output_type": "execute_result"
    }
   ],
   "source": [
    "/ cut off card prefix\n",
    "last each vs[\": \"] each i"
   ]
  },
  {
   "cell_type": "code",
   "execution_count": 149,
   "id": "51c4f48c",
   "metadata": {},
   "outputs": [
    {
     "data": {
      "text/plain": [
       "41 48 83 86 17 83 86 6 31 17 9 48 53  \n",
       "13 32 20 16 61 61 30 68 82 17 32 24 19\n",
       "1 21 53 59 44  69 82 63 72 16 21 14 1 \n",
       "41 92 73 84 69 59 84 76 51 58 5 54 83 \n",
       "87 83 26 28 32 88 30 70 12 93 22 82 36\n",
       "31 18 13 56 72 74 77 10 23 35 67 36 11\n"
      ]
     },
     "execution_count": 149,
     "metadata": {},
     "output_type": "execute_result"
    }
   ],
   "source": [
    "/ split into winning and own\n",
    "inp:2 cut {x where not null x} each (\"J\"$) each vs[\" \"] each raze vs[\"|\"] each last each vs[\": \"] each i\n",
    "inp"
   ]
  },
  {
   "cell_type": "markdown",
   "id": "5b01e983",
   "metadata": {},
   "source": [
    "# Part 1"
   ]
  },
  {
   "cell_type": "code",
   "execution_count": 165,
   "id": "c09d50e5",
   "metadata": {},
   "outputs": [
    {
     "data": {
      "text/plain": [
       "4 2 2 1\n"
      ]
     },
     "execution_count": 165,
     "metadata": {},
     "output_type": "execute_result"
    }
   ],
   "source": [
    "/ count winning numbers, remove empty sets\n",
    "({count x[1] inter x 0} each inp) except 0"
   ]
  },
  {
   "cell_type": "code",
   "execution_count": 166,
   "id": "82ffd130",
   "metadata": {},
   "outputs": [
    {
     "data": {
      "text/plain": [
       "3 1 1 0\n"
      ]
     },
     "execution_count": 166,
     "metadata": {},
     "output_type": "execute_result"
    }
   ],
   "source": [
    "/ decrement by 1 - as first winning number only gives start 1\n",
    "except[{count x[1] inter x 0} each inp;0]-1"
   ]
  },
  {
   "cell_type": "code",
   "execution_count": 169,
   "id": "e7224e55",
   "metadata": {},
   "outputs": [
    {
     "data": {
      "text/plain": [
       "8 2 2 1\n"
      ]
     },
     "execution_count": 169,
     "metadata": {},
     "output_type": "execute_result"
    }
   ],
   "source": [
    "prd each (except[{count x[1] inter x 0} each inp;0]-1)#\\:2"
   ]
  },
  {
   "cell_type": "code",
   "execution_count": 171,
   "id": "3020fe25",
   "metadata": {},
   "outputs": [
    {
     "data": {
      "text/plain": [
       "13\n"
      ]
     },
     "execution_count": 171,
     "metadata": {},
     "output_type": "execute_result"
    }
   ],
   "source": [
    "/ part 1 combined\n",
    "sum prd each (except[{count x[1] inter x 0} each inp;0]-1)#\\:2"
   ]
  },
  {
   "cell_type": "markdown",
   "id": "6b88454e",
   "metadata": {},
   "source": [
    "# Part 2"
   ]
  },
  {
   "cell_type": "code",
   "execution_count": 151,
   "id": "7407315a",
   "metadata": {},
   "outputs": [
    {
     "data": {
      "text/plain": [
       "1b\n"
      ]
     },
     "execution_count": 151,
     "metadata": {},
     "output_type": "execute_result"
    }
   ],
   "source": [
    "/ check - game IDs are sequential - no need to parse\n",
    "all deltas (\"J\"$) each last each (\" \" vs) each first each (\": \" vs) each i"
   ]
  },
  {
   "cell_type": "code",
   "execution_count": 152,
   "id": "68089074",
   "metadata": {},
   "outputs": [
    {
     "data": {
      "text/plain": [
       "0| 1\n",
       "1| 1\n",
       "2| 1\n",
       "3| 1\n",
       "4| 1\n",
       "5| 1\n"
      ]
     },
     "execution_count": 152,
     "metadata": {},
     "output_type": "execute_result"
    }
   ],
   "source": [
    "/ card counter\n",
    "acc:til[count inp]!count[inp]#1\n",
    "acc"
   ]
  },
  {
   "cell_type": "code",
   "execution_count": 172,
   "id": "4ca0f6b3",
   "metadata": {},
   "outputs": [
    {
     "data": {
      "text/plain": [
       "0| 1\n",
       "1| 2\n",
       "2| 2\n",
       "3| 2\n",
       "4| 2\n",
       "5| 1\n"
      ]
     },
     "execution_count": 172,
     "metadata": {},
     "output_type": "execute_result"
    }
   ],
   "source": [
    "/ first card - next 4 cards receive 1 more copy\n",
    "@[acc;1 2 3 4;+;1]"
   ]
  },
  {
   "cell_type": "code",
   "execution_count": 173,
   "id": "951df3ea",
   "metadata": {},
   "outputs": [
    {
     "data": {
      "text/plain": [
       "0| 1\n",
       "1| 2\n",
       "2| 4\n",
       "3| 8\n",
       "4| 14\n",
       "5| 1\n"
      ]
     },
     "execution_count": 173,
     "metadata": {},
     "output_type": "execute_result"
    }
   ],
   "source": [
    "/ but we need to add not 1, but number of current cards\n",
    "{[a;id]\n",
    "    g:inp id; / find game by index\n",
    "    winc:count g[1] inter g 0; / count winning numbers\n",
    "    @[a;id+1+til winc;+;a id] / add <current card num> copies to further <winc> cards \n",
    " }/[acc;key acc]"
   ]
  },
  {
   "cell_type": "code",
   "execution_count": null,
   "id": "d1c2b76a",
   "metadata": {},
   "outputs": [],
   "source": [
    "/ part 2 combined\n",
    "{[a;id]\n",
    "    g:inp id; / find game by index\n",
    "    winc:count g[1] inter g 0; / count winning numbers\n",
    "    @[a;id+1+til winc;+;a id] / add <current card num> copies to further <winc> cards \n",
    " }/[acc;til[count inp]"
   ]
  }
 ],
 "metadata": {
  "kernelspec": {
   "display_name": "Q (kdb+)",
   "language": "q",
   "name": "qpk"
  },
  "language_info": {
   "file_extension": ".q",
   "mimetype": "text/x-q",
   "name": "q",
   "version": "4.0"
  }
 },
 "nbformat": 4,
 "nbformat_minor": 5
}
