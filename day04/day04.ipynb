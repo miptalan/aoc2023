{
 "cells": [
  {
   "cell_type": "code",
   "execution_count": 147,
   "id": "89a5fdcf",
   "metadata": {},
   "outputs": [
    {
     "data": {
      "text/plain": [
       "\"Card 1: 41 48 83 86 17 | 83 86  6 31 17  9 48 53\"\n",
       "\"Card 2: 13 32 20 16 61 | 61 30 68 82 17 32 24 19\"\n",
       "\"Card 3:  1 21 53 59 44 | 69 82 63 72 16 21 14  1\"\n",
       "\"Card 4: 41 92 73 84 69 | 59 84 76 51 58  5 54 83\"\n",
       "\"Card 5: 87 83 26 28 32 | 88 30 70 12 93 22 82 36\"\n",
       "\"Card 6: 31 18 13 56 72 | 74 77 10 23 35 67 36 11\"\n"
      ]
     },
     "execution_count": 147,
     "metadata": {},
     "output_type": "execute_result"
    }
   ],
   "source": [
    "i:read0`:test1.txt\n",
    "i"
   ]
  },
  {
   "cell_type": "code",
   "execution_count": 148,
   "id": "8584ffc5",
   "metadata": {},
   "outputs": [
    {
     "data": {
      "text/plain": [
       "\"41 48 83 86 17 | 83 86  6 31 17  9 48 53\"\n",
       "\"13 32 20 16 61 | 61 30 68 82 17 32 24 19\"\n",
       "\" 1 21 53 59 44 | 69 82 63 72 16 21 14  1\"\n",
       "\"41 92 73 84 69 | 59 84 76 51 58  5 54 83\"\n",
       "\"87 83 26 28 32 | 88 30 70 12 93 22 82 36\"\n",
       "\"31 18 13 56 72 | 74 77 10 23 35 67 36 11\"\n"
      ]
     },
     "execution_count": 148,
     "metadata": {},
     "output_type": "execute_result"
    }
   ],
   "source": [
    "/ cut off card prefix\n",
    "last each vs[\": \"] each i"
   ]
  },
  {
   "cell_type": "code",
   "execution_count": 149,
   "id": "c780f4d6",
   "metadata": {},
   "outputs": [
    {
     "data": {
      "text/plain": [
       "41 48 83 86 17 83 86 6 31 17 9 48 53  \n",
       "13 32 20 16 61 61 30 68 82 17 32 24 19\n",
       "1 21 53 59 44  69 82 63 72 16 21 14 1 \n",
       "41 92 73 84 69 59 84 76 51 58 5 54 83 \n",
       "87 83 26 28 32 88 30 70 12 93 22 82 36\n",
       "31 18 13 56 72 74 77 10 23 35 67 36 11\n"
      ]
     },
     "execution_count": 149,
     "metadata": {},
     "output_type": "execute_result"
    }
   ],
   "source": [
    "/ split into winning and own\n",
    "inp:2 cut {x where not null x} each (\"J\"$) each vs[\" \"] each raze vs[\"|\"] each last each vs[\": \"] each i\n",
    "inp"
   ]
  },
  {
   "cell_type": "code",
   "execution_count": 150,
   "id": "3d02d4bd",
   "metadata": {},
   "outputs": [
    {
     "data": {
      "text/plain": [
       "13f\n"
      ]
     },
     "execution_count": 150,
     "metadata": {},
     "output_type": "execute_result"
    }
   ],
   "source": [
    "c:c where 0<c:{count x[1] inter x 0} each inp;\n",
    "sum ('[;]/[({x%2};prd;#[;2])]'[c])"
   ]
  },
  {
   "cell_type": "code",
   "execution_count": 151,
   "id": "3379a194",
   "metadata": {},
   "outputs": [
    {
     "data": {
      "text/plain": [
       "1b\n"
      ]
     },
     "execution_count": 151,
     "metadata": {},
     "output_type": "execute_result"
    }
   ],
   "source": [
    "/ part 2 - game IDs are sequential - no need to parse\n",
    "all deltas (\"J\"$) each last each (\" \" vs) each first each (\": \" vs) each i"
   ]
  },
  {
   "cell_type": "code",
   "execution_count": 152,
   "id": "1a4f77d0",
   "metadata": {},
   "outputs": [
    {
     "data": {
      "text/plain": [
       "0| 1\n",
       "1| 1\n",
       "2| 1\n",
       "3| 1\n",
       "4| 1\n",
       "5| 1\n"
      ]
     },
     "execution_count": 152,
     "metadata": {},
     "output_type": "execute_result"
    }
   ],
   "source": [
    "/ card counter\n",
    "acc:til[count inp]!count[inp]#1\n",
    "acc"
   ]
  },
  {
   "cell_type": "code",
   "execution_count": 153,
   "id": "39637fa9",
   "metadata": {},
   "outputs": [
    {
     "data": {
      "text/plain": [
       "30\n"
      ]
     },
     "execution_count": 153,
     "metadata": {},
     "output_type": "execute_result"
    }
   ],
   "source": [
    "sum value {[a;id]\n",
    "    g:inp id; / find game by index\n",
    "    winc:count g[1] inter g 0; / count winning card\n",
    "    @[a;id+1+til winc;+;a id] / add <current card num> copies to further <winc> cards \n",
    " }/[acc;key acc]"
   ]
  }
 ],
 "metadata": {
  "kernelspec": {
   "display_name": "Q (kdb+)",
   "language": "q",
   "name": "qpk"
  },
  "language_info": {
   "file_extension": ".q",
   "mimetype": "text/x-q",
   "name": "q",
   "version": "4.0"
  }
 },
 "nbformat": 4,
 "nbformat_minor": 5
}
