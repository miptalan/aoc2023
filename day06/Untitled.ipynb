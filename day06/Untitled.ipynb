{
 "cells": [
  {
   "cell_type": "code",
   "execution_count": 2,
   "id": "507b5fab",
   "metadata": {},
   "outputs": [
    {
     "data": {
      "text/plain": [
       "\"Time:      7  15   30\"\n",
       "\"Distance:  9  40  200\"\n"
      ]
     },
     "execution_count": 2,
     "metadata": {},
     "output_type": "execute_result"
    }
   ],
   "source": [
    "i:read0`:test1.txt\n",
    "i"
   ]
  },
  {
   "cell_type": "code",
   "execution_count": 6,
   "id": "5c609223",
   "metadata": {},
   "outputs": [
    {
     "data": {
      "text/plain": [
       "7 15 30 \n",
       "9 40 200\n"
      ]
     },
     "execution_count": 6,
     "metadata": {},
     "output_type": "execute_result"
    }
   ],
   "source": [
    "inp:('[;]/[(get;last;\":\"vs)]'[i])\n",
    "inp\n",
    "T:inp 0\n",
    "R:inp 1"
   ]
  },
  {
   "cell_type": "code",
   "execution_count": 7,
   "id": "587bb003",
   "metadata": {},
   "outputs": [
    {
     "data": {
      "text/plain": [
       "1.697224 5.302776\n"
      ]
     },
     "execution_count": 7,
     "metadata": {},
     "output_type": "execute_result"
    }
   ],
   "source": [
    "roots:{[t;r] 0.5*(t-rd;t+rd:sqrt (t*t)-4*r)}\n",
    "roots[7;9]"
   ]
  },
  {
   "cell_type": "code",
   "execution_count": 11,
   "id": "c1e4db77",
   "metadata": {},
   "outputs": [
    {
     "data": {
      "text/plain": [
       "6 10 12 12 10 6\n"
      ]
     },
     "execution_count": 11,
     "metadata": {},
     "output_type": "execute_result"
    }
   ],
   "source": [
    "dist:{[t;x]x*t-x}\n",
    "dist[7] 1 2 3 4 5 6"
   ]
  },
  {
   "cell_type": "code",
   "execution_count": 28,
   "id": "02f754cb",
   "metadata": {},
   "outputs": [
    {
     "data": {
      "text/plain": [
       "4\n"
      ]
     },
     "execution_count": 28,
     "metadata": {},
     "output_type": "execute_result"
    }
   ],
   "source": [
    "winways:{[t;r]\n",
    "    hr:(t-1)&floor 0.5*t+rd:sqrt (t*t)-4*r;\n",
    "    lr:0|ceiling 0.5*t-rd;\n",
    "    if[r=dist[t;hr];hr-:1]; / respect boundaries\n",
    "    if[r=dist[t;lr];lr+:1];\n",
    "    1+hr-lr\n",
    " }\n",
    "winways[7;9]"
   ]
  },
  {
   "cell_type": "code",
   "execution_count": 32,
   "id": "9c6b57c8",
   "metadata": {},
   "outputs": [
    {
     "data": {
      "text/plain": [
       "500346\n"
      ]
     },
     "execution_count": 32,
     "metadata": {},
     "output_type": "execute_result"
    }
   ],
   "source": [
    "/ part 1\n",
    "inp:('[;]/[(get;last;\":\"vs)]'[read0`:input.txt])\n",
    "prd winways'[inp 0;inp 1]"
   ]
  },
  {
   "cell_type": "code",
   "execution_count": 36,
   "id": "7584f862",
   "metadata": {},
   "outputs": [
    {
     "data": {
      "text/plain": [
       "42515755\n"
      ]
     },
     "execution_count": 36,
     "metadata": {},
     "output_type": "execute_result"
    }
   ],
   "source": [
    "/ part 2\n",
    "inp:('[;]/[(get;last;\":\"vs)]'[(read0`:input.txt) except\\: \" \"])\n",
    "prd winways'[inp 0;inp 1]"
   ]
  },
  {
   "cell_type": "code",
   "execution_count": null,
   "id": "9bf6b692",
   "metadata": {},
   "outputs": [],
   "source": []
  }
 ],
 "metadata": {
  "kernelspec": {
   "display_name": "Q (kdb+)",
   "language": "q",
   "name": "qpk"
  },
  "language_info": {
   "file_extension": ".q",
   "mimetype": "text/x-q",
   "name": "q",
   "version": "4.0"
  }
 },
 "nbformat": 4,
 "nbformat_minor": 5
}
