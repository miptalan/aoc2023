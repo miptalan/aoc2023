{
 "cells": [
  {
   "cell_type": "code",
   "execution_count": 147,
   "id": "c7cb1ac8",
   "metadata": {},
   "outputs": [
    {
     "data": {
      "text/plain": [
       "0  3  6  9  12 15\n",
       "1  3  6  10 15 21\n",
       "10 13 16 21 30 45\n"
      ]
     },
     "execution_count": 147,
     "metadata": {},
     "output_type": "execute_result"
    }
   ],
   "source": [
    "i:get'[read0`:test1.txt]\n",
    "i"
   ]
  },
  {
   "cell_type": "markdown",
   "id": "a1617796",
   "metadata": {},
   "source": [
    "# Part 1"
   ]
  },
  {
   "cell_type": "code",
   "execution_count": 148,
   "id": "f1199f27",
   "metadata": {},
   "outputs": [
    {
     "data": {
      "text/plain": [
       "0 3 3 3 3 3\n"
      ]
     },
     "execution_count": 148,
     "metadata": {},
     "output_type": "execute_result"
    }
   ],
   "source": [
    "deltas i 0"
   ]
  },
  {
   "cell_type": "code",
   "execution_count": 149,
   "id": "68347682",
   "metadata": {},
   "outputs": [
    {
     "data": {
      "text/plain": [
       "1b\n"
      ]
     },
     "execution_count": 149,
     "metadata": {},
     "output_type": "execute_result"
    },
    {
     "data": {
      "text/plain": [
       "124 131632\n"
      ]
     },
     "execution_count": 149,
     "metadata": {},
     "output_type": "execute_result"
    },
    {
     "data": {
      "text/plain": [
       "33 16928\n"
      ]
     },
     "execution_count": 149,
     "metadata": {},
     "output_type": "execute_result"
    }
   ],
   "source": [
    "n:10000#0\n",
    "{0<>sum abs x}[n]~{not all not x}[n]\n",
    "\\ts:10000 {0<>sum abs x} n\n",
    "\\ts:10000 {not all 0=x} n\n",
    "wfn:{not all not x}"
   ]
  },
  {
   "cell_type": "code",
   "execution_count": 150,
   "id": "ed3a5c65",
   "metadata": {},
   "outputs": [
    {
     "data": {
      "text/plain": [
       "0 3 6 9 12 15\n",
       "3 3 3 3 3\n",
       "0 0 0 0\n"
      ]
     },
     "execution_count": 150,
     "metadata": {},
     "output_type": "execute_result"
    }
   ],
   "source": [
    "/ \"while\" not all 0s\n",
    "dfn:{1_deltas x}\n",
    "wfn dfn\\i 0"
   ]
  },
  {
   "cell_type": "code",
   "execution_count": 123,
   "id": "96c2b5af",
   "metadata": {},
   "outputs": [
    {
     "data": {
      "text/plain": [
       "15 3 0\n"
      ]
     },
     "execution_count": 123,
     "metadata": {},
     "output_type": "execute_result"
    }
   ],
   "source": [
    "/ sequence of last elements to propagate\n",
    "last each wfn dfn\\i 0"
   ]
  },
  {
   "cell_type": "code",
   "execution_count": 151,
   "id": "ef4461cd",
   "metadata": {},
   "outputs": [
    {
     "data": {
      "text/plain": [
       "18\n"
      ]
     },
     "execution_count": 151,
     "metadata": {},
     "output_type": "execute_result"
    }
   ],
   "source": [
    "/ answer\n",
    "sum last@'wfn dfn\\i 0"
   ]
  },
  {
   "cell_type": "code",
   "execution_count": 152,
   "id": "4f4b1ffc",
   "metadata": {},
   "outputs": [
    {
     "data": {
      "text/plain": [
       "(0 3 6 9 12 15;3 3 3 3 3;0 0 0 0)\n",
       "(1 3 6 10 15 21;2 3 4 5 6;1 1 1 1;0 0 0)\n",
       "(10 13 16 21 30 45;3 3 5 9 15;0 2 4 6;2 2 2;0 0)\n"
      ]
     },
     "execution_count": 152,
     "metadata": {},
     "output_type": "execute_result"
    },
    {
     "data": {
      "text/plain": [
       "15 3 0\n",
       "21 6 1 0\n",
       "45 15 6 2 0\n"
      ]
     },
     "execution_count": 152,
     "metadata": {},
     "output_type": "execute_result"
    },
    {
     "data": {
      "text/plain": [
       "114\n"
      ]
     },
     "execution_count": 152,
     "metadata": {},
     "output_type": "execute_result"
    }
   ],
   "source": [
    "/ for all lines\n",
    "wfn dfn\\'i\n",
    "last@''wfn dfn\\'i\n",
    "sum sum@'last@''wfn dfn\\'i"
   ]
  },
  {
   "cell_type": "code",
   "execution_count": 139,
   "id": "728ec3f0",
   "metadata": {},
   "outputs": [
    {
     "data": {
      "text/plain": [
       "1696140818\n"
      ]
     },
     "execution_count": 139,
     "metadata": {},
     "output_type": "execute_result"
    }
   ],
   "source": [
    "/p1 \n",
    "sum sum@'last@''{not all not x}{1_deltas x}\\'get@'read0`:input.txt"
   ]
  },
  {
   "cell_type": "markdown",
   "id": "8027f5fa",
   "metadata": {},
   "source": [
    "# Part 2"
   ]
  },
  {
   "cell_type": "code",
   "execution_count": 153,
   "id": "ba7e4764",
   "metadata": {},
   "outputs": [
    {
     "data": {
      "text/plain": [
       "45 30 21 16 13 10\n",
       "-15 -9 -5 -3 -3\n",
       "6 4 2 0\n",
       "-2 -2 -2\n",
       "0 0\n"
      ]
     },
     "execution_count": 153,
     "metadata": {},
     "output_type": "execute_result"
    }
   ],
   "source": [
    "/ reverse to exptrapolate backwards\n",
    "wfn dfn\\reverse i 2"
   ]
  },
  {
   "cell_type": "code",
   "execution_count": 154,
   "id": "07a60026",
   "metadata": {},
   "outputs": [
    {
     "data": {
      "text/plain": [
       "5\n"
      ]
     },
     "execution_count": 154,
     "metadata": {},
     "output_type": "execute_result"
    }
   ],
   "source": [
    "sum last@'wfn dfn\\reverse i 2"
   ]
  },
  {
   "cell_type": "code",
   "execution_count": 155,
   "id": "d16fd171",
   "metadata": {},
   "outputs": [
    {
     "name": "stdout",
     "output_type": "stream",
     "text": [
      "-3 0 5\n"
     ]
    },
    {
     "data": {
      "text/plain": [
       "2\n"
      ]
     },
     "execution_count": 155,
     "metadata": {},
     "output_type": "execute_result"
    }
   ],
   "source": [
    "sum 0N!sum@'last@''wfn dfn\\'reverse@'i"
   ]
  },
  {
   "cell_type": "code",
   "execution_count": 144,
   "id": "622295ae",
   "metadata": {},
   "outputs": [
    {
     "data": {
      "text/plain": [
       "1152\n"
      ]
     },
     "execution_count": 144,
     "metadata": {},
     "output_type": "execute_result"
    }
   ],
   "source": [
    "/p2\n",
    "sum sum@'last@''{not all not x}{1_deltas x}\\'reverse@'get@'read0`:input.txt"
   ]
  },
  {
   "cell_type": "code",
   "execution_count": null,
   "id": "5adf2cbf",
   "metadata": {},
   "outputs": [],
   "source": []
  }
 ],
 "metadata": {
  "kernelspec": {
   "display_name": "Q (kdb+)",
   "language": "q",
   "name": "qpk"
  },
  "language_info": {
   "file_extension": ".q",
   "mimetype": "text/x-q",
   "name": "q",
   "version": "4.0"
  }
 },
 "nbformat": 4,
 "nbformat_minor": 5
}
