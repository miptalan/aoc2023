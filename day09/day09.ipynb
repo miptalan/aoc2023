{
 "cells": [
  {
   "cell_type": "code",
   "execution_count": 74,
   "id": "d1d5bfb0",
   "metadata": {},
   "outputs": [
    {
     "data": {
      "text/plain": [
       "0  3  6  9  12 15\n",
       "1  3  6  10 15 21\n",
       "10 13 16 21 30 45\n"
      ]
     },
     "execution_count": 74,
     "metadata": {},
     "output_type": "execute_result"
    }
   ],
   "source": [
    "i:get'[read0`:test1.txt]\n",
    "i"
   ]
  },
  {
   "cell_type": "markdown",
   "id": "64ae9848",
   "metadata": {},
   "source": [
    "# Part 1"
   ]
  },
  {
   "cell_type": "code",
   "execution_count": 75,
   "id": "333c616b",
   "metadata": {},
   "outputs": [
    {
     "data": {
      "text/plain": [
       "0 3 3 3 3 3\n"
      ]
     },
     "execution_count": 75,
     "metadata": {},
     "output_type": "execute_result"
    }
   ],
   "source": [
    "deltas i 0"
   ]
  },
  {
   "cell_type": "code",
   "execution_count": 133,
   "id": "07d1e003",
   "metadata": {},
   "outputs": [
    {
     "data": {
      "text/plain": [
       "1b\n"
      ]
     },
     "execution_count": 133,
     "metadata": {},
     "output_type": "execute_result"
    },
    {
     "data": {
      "text/plain": [
       "125 131632\n"
      ]
     },
     "execution_count": 133,
     "metadata": {},
     "output_type": "execute_result"
    },
    {
     "data": {
      "text/plain": [
       "35 16928\n"
      ]
     },
     "execution_count": 133,
     "metadata": {},
     "output_type": "execute_result"
    }
   ],
   "source": [
    "n:10000#0\n",
    "{0<>sum abs x}[n]~{not all not x}[n]\n",
    "\\ts:10000 {0<>sum abs x} n\n",
    "\\ts:10000 {not all 0=x} n\n",
    "wfn:{not all not x}"
   ]
  },
  {
   "cell_type": "code",
   "execution_count": 122,
   "id": "3beec830",
   "metadata": {},
   "outputs": [
    {
     "data": {
      "text/plain": [
       "0 3 6 9 12 15\n",
       "3 3 3 3 3\n",
       "0 0 0 0\n"
      ]
     },
     "execution_count": 122,
     "metadata": {},
     "output_type": "execute_result"
    }
   ],
   "source": [
    "/ \"while\" not all 0s\n",
    "wfn{1_deltas x}\\i 0"
   ]
  },
  {
   "cell_type": "code",
   "execution_count": 123,
   "id": "1d87d8ba",
   "metadata": {},
   "outputs": [
    {
     "data": {
      "text/plain": [
       "15 3 0\n"
      ]
     },
     "execution_count": 123,
     "metadata": {},
     "output_type": "execute_result"
    }
   ],
   "source": [
    "/ sequence of last elements to propagate\n",
    "last each wfn{1_deltas x}\\i 0"
   ]
  },
  {
   "cell_type": "code",
   "execution_count": 124,
   "id": "4d8c8b36",
   "metadata": {},
   "outputs": [
    {
     "data": {
      "text/plain": [
       "18\n"
      ]
     },
     "execution_count": 124,
     "metadata": {},
     "output_type": "execute_result"
    }
   ],
   "source": [
    "/ answer\n",
    "sum last@'wfn{1_deltas x}\\i 0"
   ]
  },
  {
   "cell_type": "code",
   "execution_count": 126,
   "id": "e70a7baa",
   "metadata": {},
   "outputs": [
    {
     "data": {
      "text/plain": [
       "(0 3 6 9 12 15;3 3 3 3 3;0 0 0 0)\n",
       "(1 3 6 10 15 21;2 3 4 5 6;1 1 1 1;0 0 0)\n",
       "(10 13 16 21 30 45;3 3 5 9 15;0 2 4 6;2 2 2;0 0)\n"
      ]
     },
     "execution_count": 126,
     "metadata": {},
     "output_type": "execute_result"
    },
    {
     "data": {
      "text/plain": [
       "15 3 0\n",
       "21 6 1 0\n",
       "45 15 6 2 0\n"
      ]
     },
     "execution_count": 126,
     "metadata": {},
     "output_type": "execute_result"
    },
    {
     "data": {
      "text/plain": [
       "114\n"
      ]
     },
     "execution_count": 126,
     "metadata": {},
     "output_type": "execute_result"
    }
   ],
   "source": [
    "/ for all lines\n",
    "wfn{1_deltas x}\\'i\n",
    "last@''wfn{1_deltas x}\\'i\n",
    "sum sum@'last@''wfn{1_deltas x}\\'i"
   ]
  },
  {
   "cell_type": "code",
   "execution_count": 127,
   "id": "3c8795bc",
   "metadata": {},
   "outputs": [
    {
     "data": {
      "text/plain": [
       "1696140818\n"
      ]
     },
     "execution_count": 127,
     "metadata": {},
     "output_type": "execute_result"
    }
   ],
   "source": [
    "/p1 \n",
    "sum sum@'last@''{not all not x}{1_deltas x}\\'get@'read0`:input.txt"
   ]
  },
  {
   "cell_type": "markdown",
   "id": "3f7c5b5e",
   "metadata": {},
   "source": [
    "# Part 2"
   ]
  },
  {
   "cell_type": "code",
   "execution_count": 128,
   "id": "bf080513",
   "metadata": {},
   "outputs": [
    {
     "data": {
      "text/plain": [
       "45 30 21 16 13 10\n",
       "-15 -9 -5 -3 -3\n",
       "6 4 2 0\n",
       "-2 -2 -2\n",
       "0 0\n"
      ]
     },
     "execution_count": 128,
     "metadata": {},
     "output_type": "execute_result"
    }
   ],
   "source": [
    "/ reverse to exptrapolate backwards\n",
    "wfn{1_deltas x}\\reverse i 2"
   ]
  },
  {
   "cell_type": "code",
   "execution_count": 129,
   "id": "e5d11984",
   "metadata": {},
   "outputs": [
    {
     "data": {
      "text/plain": [
       "5\n"
      ]
     },
     "execution_count": 129,
     "metadata": {},
     "output_type": "execute_result"
    }
   ],
   "source": [
    "sum last@'wfn{1_deltas x}\\reverse i 2"
   ]
  },
  {
   "cell_type": "code",
   "execution_count": 130,
   "id": "66488561",
   "metadata": {},
   "outputs": [
    {
     "name": "stdout",
     "output_type": "stream",
     "text": [
      "-3 0 5\n"
     ]
    },
    {
     "data": {
      "text/plain": [
       "2\n"
      ]
     },
     "execution_count": 130,
     "metadata": {},
     "output_type": "execute_result"
    }
   ],
   "source": [
    "sum 0N!sum@'last@''wfn{1_deltas x}\\'reverse@'i"
   ]
  },
  {
   "cell_type": "code",
   "execution_count": 132,
   "id": "4be6aea5",
   "metadata": {},
   "outputs": [
    {
     "data": {
      "text/plain": [
       "1152\n"
      ]
     },
     "execution_count": 132,
     "metadata": {},
     "output_type": "execute_result"
    }
   ],
   "source": [
    "/p2\n",
    "sum sum@'last@''{not all not x}{1_deltas x}\\'reverse@'get@'read0`:input.txt"
   ]
  },
  {
   "cell_type": "code",
   "execution_count": null,
   "id": "386ba36c",
   "metadata": {},
   "outputs": [],
   "source": []
  }
 ],
 "metadata": {
  "kernelspec": {
   "display_name": "Q (kdb+)",
   "language": "q",
   "name": "qpk"
  },
  "language_info": {
   "file_extension": ".q",
   "mimetype": "text/x-q",
   "name": "q",
   "version": "4.0"
  }
 },
 "nbformat": 4,
 "nbformat_minor": 5
}
