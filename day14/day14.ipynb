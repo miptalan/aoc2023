{
 "cells": [
  {
   "cell_type": "code",
   "execution_count": 23,
   "id": "407c49ee",
   "metadata": {},
   "outputs": [
    {
     "data": {
      "text/plain": [
       "\"O....#....\"\n",
       "\"O.OO#....#\"\n",
       "\".....##...\"\n",
       "\"OO.#O....O\"\n",
       "\".O.....O#.\"\n",
       "\"O.#..O.#.#\"\n",
       "\"..O..#O..O\"\n",
       "\".......O..\"\n",
       "\"#....###..\"\n",
       "\"#OO..#....\"\n"
      ]
     },
     "execution_count": 23,
     "metadata": {},
     "output_type": "execute_result"
    }
   ],
   "source": [
    "i:read0`:test1.txt\n",
    "i"
   ]
  },
  {
   "cell_type": "markdown",
   "id": "68eeb27d",
   "metadata": {},
   "source": [
    "# Part 1"
   ]
  },
  {
   "cell_type": "code",
   "execution_count": 2,
   "id": "e641a34f",
   "metadata": {},
   "outputs": [
    {
     "data": {
      "text/plain": [
       "\"OO.O.O..##\"\n",
       "\"...OO....O\"\n",
       "\".O...#O..O\"\n",
       "\".O.#......\"\n",
       "\".#.O......\"\n",
       "\"#.#..O#.##\"\n",
       "\"..#...O.#.\"\n",
       "\"....O#.O#.\"\n",
       "\"....#.....\"\n",
       "\".#.O.#O...\"\n"
      ]
     },
     "execution_count": 2,
     "metadata": {},
     "output_type": "execute_result"
    }
   ],
   "source": [
    "/ turn north to face left\n",
    "flip i"
   ]
  },
  {
   "cell_type": "code",
   "execution_count": 4,
   "id": "2720cf2c",
   "metadata": {},
   "outputs": [
    {
     "data": {
      "text/plain": [
       "\"OO.O.O..##\"\n"
      ]
     },
     "execution_count": 4,
     "metadata": {},
     "output_type": "execute_result"
    }
   ],
   "source": [
    "l:first flip i\n",
    "l"
   ]
  },
  {
   "cell_type": "code",
   "execution_count": 8,
   "id": "01d7f349",
   "metadata": {},
   "outputs": [
    {
     "data": {
      "text/plain": [
       "0 1 3 5\n"
      ]
     },
     "execution_count": 8,
     "metadata": {},
     "output_type": "execute_result"
    }
   ],
   "source": [
    "/ go over each index of rounded rock\n",
    "where l=\"O\""
   ]
  },
  {
   "cell_type": "code",
   "execution_count": 19,
   "id": "8d22c854",
   "metadata": {},
   "outputs": [
    {
     "data": {
      "text/plain": [
       "2\n"
      ]
     },
     "execution_count": 19,
     "metadata": {},
     "output_type": "execute_result"
    }
   ],
   "source": [
    "/ where can we move\n",
    "ifn:{y&0|1+max occupied where y>occupied:where x in \"O#\"}\n",
    "ifn[l;3]"
   ]
  },
  {
   "cell_type": "code",
   "execution_count": 20,
   "id": "bdb9e31e",
   "metadata": {},
   "outputs": [
    {
     "data": {
      "text/plain": [
       "\"OO.O.O..##\"\n",
       "\"OO.O.O..##\"\n",
       "\"OOO..O..##\"\n",
       "\"OOOO....##\"\n"
      ]
     },
     "execution_count": 20,
     "metadata": {},
     "output_type": "execute_result"
    }
   ],
   "source": [
    "/ accumulate changes with amendAt\n",
    "mfn:{@[x;(y;ifn[x;y]);:;\".O\"]}\n",
    "mfn\\[l;where l=\"O\"]"
   ]
  },
  {
   "cell_type": "code",
   "execution_count": 21,
   "id": "fed11ba4",
   "metadata": {},
   "outputs": [
    {
     "data": {
      "text/plain": [
       "136\n"
      ]
     },
     "execution_count": 21,
     "metadata": {},
     "output_type": "execute_result"
    }
   ],
   "source": [
    "/ calculate result - assumes north facing left\n",
    "crfn:{sum sum@'count[x]-('[where;\"O\"=]'[x])}\n",
    "crfn {mfn/[x;where x=\"O\"]} each flip i"
   ]
  },
  {
   "cell_type": "code",
   "execution_count": 22,
   "id": "59ad8f29",
   "metadata": {},
   "outputs": [
    {
     "data": {
      "text/plain": [
       "108792\n"
      ]
     },
     "execution_count": 22,
     "metadata": {},
     "output_type": "execute_result"
    }
   ],
   "source": [
    "/ real input\n",
    "crfn {mfn/[x;where x=\"O\"]} each flip read0`:input.txt"
   ]
  },
  {
   "cell_type": "markdown",
   "id": "40f98f26",
   "metadata": {},
   "source": [
    "# Part 2"
   ]
  },
  {
   "cell_type": "code",
   "execution_count": 26,
   "id": "e4d46bbd",
   "metadata": {},
   "outputs": [
    {
     "data": {
      "text/plain": [
       "\"OOOO.#.O..\"\n",
       "\"OO..#....#\"\n",
       "\"OO..O##..O\"\n",
       "\"O..#.OO...\"\n",
       "\"........#.\"\n",
       "\"..#....#.#\"\n",
       "\"..O..#.O.O\"\n",
       "\"..O.......\"\n",
       "\"#....###..\"\n",
       "\"#....#....\"\n"
      ]
     },
     "execution_count": 26,
     "metadata": {},
     "output_type": "execute_result"
    }
   ],
   "source": [
    "fn:{{mfn/[x;where x=\"O\"]} each x}\n",
    "flip fn flip i / flip-tilt-unflip"
   ]
  },
  {
   "cell_type": "code",
   "execution_count": 29,
   "id": "bde11525",
   "metadata": {},
   "outputs": [
    {
     "data": {
      "text/plain": [
       "\"OOOO.#.O..\"\n",
       "\"OO..#....#\"\n",
       "\"OO..O##..O\"\n",
       "\"O..#.OO...\"\n",
       "\"........#.\"\n",
       "\"..#....#.#\"\n",
       "\"..O..#.O.O\"\n",
       "\"..O.......\"\n",
       "\"#....###..\"\n",
       "\"#....#....\"\n"
      ]
     },
     "execution_count": 29,
     "metadata": {},
     "output_type": "execute_result"
    },
    {
     "data": {
      "text/plain": [
       "\"OOOO.#O...\"\n",
       "\"OO..#....#\"\n",
       "\"OOO..##O..\"\n",
       "\"O..#OO....\"\n",
       "\"........#.\"\n",
       "\"..#....#.#\"\n",
       "\"O....#OO..\"\n",
       "\"O.........\"\n",
       "\"#....###..\"\n",
       "\"#....#....\"\n"
      ]
     },
     "execution_count": 29,
     "metadata": {},
     "output_type": "execute_result"
    },
    {
     "data": {
      "text/plain": [
       "\".....#....\"\n",
       "\"....#.O..#\"\n",
       "\"O..O.##...\"\n",
       "\"O.O#......\"\n",
       "\"O.O....O#.\"\n",
       "\"O.#..O.#.#\"\n",
       "\"O....#....\"\n",
       "\"OO....OO..\"\n",
       "\"#O...###..\"\n",
       "\"#O..O#....\"\n"
      ]
     },
     "execution_count": 29,
     "metadata": {},
     "output_type": "execute_result"
    },
    {
     "data": {
      "text/plain": [
       "\".....#....\"\n",
       "\"....#...O#\"\n",
       "\"...OO##...\"\n",
       "\".OO#......\"\n",
       "\".....OOO#.\"\n",
       "\".O#...O#.#\"\n",
       "\"....O#....\"\n",
       "\"......OOOO\"\n",
       "\"#...O###..\"\n",
       "\"#..OO#....\"\n"
      ]
     },
     "execution_count": 29,
     "metadata": {},
     "output_type": "execute_result"
    }
   ],
   "source": [
    "/ \"turn\" to face left, tilt, \"unturn\" \n",
    "res:{z fn y x}\\[i;(flip;::;{reverse each flip x};reverse each);(flip;::;{flip reverse each x};reverse each)]\n",
    "res 0\n",
    "res 1\n",
    "res 2\n",
    "res 3"
   ]
  },
  {
   "cell_type": "code",
   "execution_count": 33,
   "id": "2fb4d417",
   "metadata": {},
   "outputs": [
    {
     "data": {
      "text/plain": [
       "\".....#....\"\n",
       "\"....#...O#\"\n",
       "\"...OO##...\"\n",
       "\".OO#......\"\n",
       "\".....OOO#.\"\n",
       "\".O#...O#.#\"\n",
       "\"....O#....\"\n",
       "\"......OOOO\"\n",
       "\"#...O###..\"\n",
       "\"#..OO#....\"\n"
      ]
     },
     "execution_count": 33,
     "metadata": {},
     "output_type": "execute_result"
    },
    {
     "data": {
      "text/plain": [
       "\".....#....\"\n",
       "\"....#...O#\"\n",
       "\".....##...\"\n",
       "\"..O#......\"\n",
       "\".....OOO#.\"\n",
       "\".O#...O#.#\"\n",
       "\"....O#...O\"\n",
       "\".......OOO\"\n",
       "\"#..OO###..\"\n",
       "\"#.OOO#...O\"\n"
      ]
     },
     "execution_count": 33,
     "metadata": {},
     "output_type": "execute_result"
    },
    {
     "data": {
      "text/plain": [
       "\".....#....\"\n",
       "\"....#...O#\"\n",
       "\".....##...\"\n",
       "\"..O#......\"\n",
       "\".....OOO#.\"\n",
       "\".O#...O#.#\"\n",
       "\"....O#...O\"\n",
       "\".......OOO\"\n",
       "\"#...O###.O\"\n",
       "\"#.OOO#...O\"\n"
      ]
     },
     "execution_count": 33,
     "metadata": {},
     "output_type": "execute_result"
    }
   ],
   "source": [
    "cfn:{{z fn y x}/[x;(flip;::;{reverse each flip x};reverse each);(flip;::;{flip reverse each x};reverse each)]}\n",
    "/ 1 cycle\n",
    "cfn i\n",
    "/ 2 cycles\n",
    "cfn cfn i\n",
    "/ 3 cycles\n",
    "cfn/[3;i]"
   ]
  },
  {
   "cell_type": "code",
   "execution_count": 35,
   "id": "da619939",
   "metadata": {},
   "outputs": [
    {
     "data": {
      "text/plain": [
       "10000000000000000000000000000000000000000000000000000000000000000000000000000..\n",
       "01000000000000000000000000000000000000000000000000000000000000000000000000000..\n",
       "00100000000000000000000000000000000000000000000000000000000000000000000000000..\n",
       "00010000001000000100000010000001000000100000010000001000000100000010000001000..\n",
       "00001000000100000010000001000000100000010000001000000100000010000001000000100..\n",
       "00000100000010000001000000100000010000001000000100000010000001000000100000010..\n",
       "00000010000001000000100000010000001000000100000010000001000000100000010000001..\n",
       "00000001000000100000010000001000000100000010000001000000100000010000001000000..\n",
       "00000000100000010000001000000100000010000001000000100000010000001000000100000..\n",
       "00000000010000001000000100000010000001000000100000010000001000000100000010000..\n",
       "00010000001000000100000010000001000000100000010000001000000100000010000001000..\n",
       "00001000000100000010000001000000100000010000001000000100000010000001000000100..\n",
       "00000100000010000001000000100000010000001000000100000010000001000000100000010..\n",
       "00000010000001000000100000010000001000000100000010000001000000100000010000001..\n",
       "00000001000000100000010000001000000100000010000001000000100000010000001000000..\n",
       "00000000100000010000001000000100000010000001000000100000010000001000000100000..\n",
       "00000000010000001000000100000010000001000000100000010000001000000100000010000..\n",
       "00010000001000000100000010000001000000100000010000001000000100000010000001000..\n",
       "00001000000100000010000001000000100000010000001000000100000010000001000000100..\n",
       "00000100000010000001000000100000010000001000000100000010000001000000100000010..\n",
       "00000010000001000000100000010000001000000100000010000001000000100000010000001..\n",
       "00000001000000100000010000001000000100000010000001000000100000010000001000000..\n",
       "..\n"
      ]
     },
     "execution_count": 35,
     "metadata": {},
     "output_type": "execute_result"
    }
   ],
   "source": [
    "/ 1000000000 is too much - must have repeating pattern inside\n",
    "res:cfn\\[100;i]\n",
    "{res~\\:x} each res / repeated pattern of length 7 starting step 4"
   ]
  },
  {
   "cell_type": "code",
   "execution_count": 36,
   "id": "008ce8a8",
   "metadata": {},
   "outputs": [
    {
     "data": {
      "text/plain": [
       "3\n"
      ]
     },
     "execution_count": 36,
     "metadata": {},
     "output_type": "execute_result"
    }
   ],
   "source": [
    "startCycle:first where 1<sum each {res~\\:x} each res\n",
    "startCycle"
   ]
  },
  {
   "cell_type": "code",
   "execution_count": 37,
   "id": "542fa1a1",
   "metadata": {},
   "outputs": [
    {
     "data": {
      "text/plain": [
       "7\n"
      ]
     },
     "execution_count": 37,
     "metadata": {},
     "output_type": "execute_result"
    }
   ],
   "source": [
    "cycleLength:first 1_where startCycle _ res~\\:res startCycle\n",
    "cycleLength"
   ]
  },
  {
   "cell_type": "code",
   "execution_count": 39,
   "id": "7493b233",
   "metadata": {},
   "outputs": [
    {
     "data": {
      "text/plain": [
       "1b\n"
      ]
     },
     "execution_count": 39,
     "metadata": {},
     "output_type": "execute_result"
    },
    {
     "data": {
      "text/plain": [
       "1b\n"
      ]
     },
     "execution_count": 39,
     "metadata": {},
     "output_type": "execute_result"
    },
    {
     "data": {
      "text/plain": [
       "1b\n"
      ]
     },
     "execution_count": 39,
     "metadata": {},
     "output_type": "execute_result"
    }
   ],
   "source": [
    "/ confirm repeatition\n",
    "r:cfn/[startCycle;i]\n",
    "r~cfn/[cycleLength;r]\n",
    "r~cfn/[2*cycleLength;r]\n",
    "r~cfn/[100*cycleLength;r]"
   ]
  },
  {
   "cell_type": "code",
   "execution_count": 41,
   "id": "71b35f42",
   "metadata": {},
   "outputs": [
    {
     "data": {
      "text/plain": [
       "64\n"
      ]
     },
     "execution_count": 41,
     "metadata": {},
     "output_type": "execute_result"
    }
   ],
   "source": [
    "/ only need to do remainder\n",
    "crfn flip cfn/[(1000000000-startCycle)mod cycleLength;r]"
   ]
  },
  {
   "cell_type": "code",
   "execution_count": 46,
   "id": "3928d2a1",
   "metadata": {},
   "outputs": [
    {
     "data": {
      "text/plain": [
       "83\n"
      ]
     },
     "execution_count": 46,
     "metadata": {},
     "output_type": "execute_result"
    },
    {
     "data": {
      "text/plain": [
       "72\n"
      ]
     },
     "execution_count": 46,
     "metadata": {},
     "output_type": "execute_result"
    }
   ],
   "source": [
    "/ real input\n",
    "res:cfn\\[200;i:read0`:input.txt]\n",
    "startCycle:first where 1<sum each {res~\\:x} each res\n",
    "startCycle\n",
    "cycleLength:first 1_where startCycle _ res~\\:res startCycle\n",
    "cycleLength"
   ]
  },
  {
   "cell_type": "code",
   "execution_count": 47,
   "id": "49870c4d",
   "metadata": {},
   "outputs": [
    {
     "data": {
      "text/plain": [
       "99118\n"
      ]
     },
     "execution_count": 47,
     "metadata": {},
     "output_type": "execute_result"
    }
   ],
   "source": [
    "crfn flip cfn/[(1000000000-startCycle)mod cycleLength;cfn/[startCycle;i]]"
   ]
  },
  {
   "cell_type": "code",
   "execution_count": null,
   "id": "e20a2a62",
   "metadata": {},
   "outputs": [],
   "source": []
  }
 ],
 "metadata": {
  "kernelspec": {
   "display_name": "Q (kdb+)",
   "language": "q",
   "name": "qpk"
  },
  "language_info": {
   "file_extension": ".q",
   "mimetype": "text/x-q",
   "name": "q",
   "version": "4.0"
  }
 },
 "nbformat": 4,
 "nbformat_minor": 5
}
