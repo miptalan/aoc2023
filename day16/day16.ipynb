{
 "cells": [
  {
   "cell_type": "code",
   "execution_count": 90,
   "id": "e2dd345d",
   "metadata": {},
   "outputs": [
    {
     "data": {
      "text/plain": [
       "\"            \"\n",
       "\" .|...\\\\.... \"\n",
       "\" |.-.\\\\..... \"\n",
       "\" .....|-... \"\n",
       "\" ........|. \"\n",
       "\" .......... \"\n",
       "\" .........\\\\ \"\n",
       "\" ..../.\\\\\\\\.. \"\n",
       "\" .-.-/..|.. \"\n",
       "\" .|....-|.\\\\ \"\n",
       "\" ..//.|.... \"\n",
       "\"            \"\n"
      ]
     },
     "execution_count": 90,
     "metadata": {},
     "output_type": "execute_result"
    }
   ],
   "source": [
    "raw:read0`:test1.txt\n",
    "nCraw:count first raw\n",
    "nC:nCraw+2\n",
    "i:raze l,{\" \",x,\" \"}'[raw],l:nC#\" \" / add border to ease overflow detection\n",
    "nC cut i"
   ]
  },
  {
   "cell_type": "code",
   "execution_count": 91,
   "id": "ca88f656",
   "metadata": {},
   "outputs": [
    {
     "data": {
      "text/plain": [
       "1b\n"
      ]
     },
     "execution_count": 91,
     "metadata": {},
     "output_type": "execute_result"
    }
   ],
   "source": [
    "/ note escaping\n",
    "\"\\\\\"=i 18"
   ]
  },
  {
   "cell_type": "code",
   "execution_count": 92,
   "id": "56c5e95a",
   "metadata": {},
   "outputs": [],
   "source": [
    "/ direction steps\n",
    "dirs:`r`l`d`u!(1;-1;nC;neg nC)"
   ]
  },
  {
   "cell_type": "code",
   "execution_count": 93,
   "id": "dcd62e9e",
   "metadata": {},
   "outputs": [],
   "source": [
    "/ makes a step - returns list of next states\n",
    "step:{[f;s] / field and state    \n",
    "    / state - (current index;dirSym)\n",
    "    currentIdx:first s;\n",
    "    d:last s;\n",
    "    newIdx:currentIdx+dirs d;\n",
    "\n",
    "    if[(d in et newIdx);\n",
    "        / already came to this tile from this direction - return empty list\n",
    "        :()\n",
    "     ];\n",
    "\n",
    "    t:f newIdx; / next tile\n",
    "    if[t=\" \";\n",
    "        / went out of bounds\n",
    "        :()\n",
    "     ];\n",
    "\n",
    "    s[0]:newIdx; / move to next index\n",
    "    et[newIdx],:d; / energize next tile\n",
    "    if[t=\"|\";\n",
    "        if[d in `r`l;\n",
    "            / coming from flat side - return 2 up-down states            \n",
    "            :(@[s;1;:;`u];@[s;1;:;`d])\n",
    "         ];\n",
    "     ];\n",
    "    if[t=\"-\";\n",
    "        if[d in `u`d;\n",
    "            / coming from flat side - return 2 left-right states            \n",
    "            :(@[s;1;:;`l];@[s;1;:;`r])\n",
    "         ];\n",
    "     ];\n",
    "    if[t=\"/\";\n",
    "        :enlist @[s;1;:;(`r`l`u`d!`u`d`r`l) d]\n",
    "     ];\n",
    "    if[t=\"\\\\\";\n",
    "        :enlist @[s;1;:;(`r`l`u`d!`d`u`l`r) d]\n",
    "     ];\n",
    "    / passthrough  - empty space or pointy splitter side\n",
    "    :enlist s\n",
    " }"
   ]
  },
  {
   "cell_type": "code",
   "execution_count": 94,
   "id": "cdd9f2c0",
   "metadata": {},
   "outputs": [
    {
     "data": {
      "text/plain": [
       "13 `r\n"
      ]
     },
     "execution_count": 94,
     "metadata": {},
     "output_type": "execute_result"
    },
    {
     "data": {
      "text/plain": [
       "0 | r\n",
       "13| r\n"
      ]
     },
     "execution_count": 94,
     "metadata": {},
     "output_type": "execute_result"
    }
   ],
   "source": [
    "et:enlist[0]!enlist enlist `r\n",
    "step[i;(nC;`r)]\n",
    "et"
   ]
  },
  {
   "cell_type": "code",
   "execution_count": 95,
   "id": "644af519",
   "metadata": {},
   "outputs": [
    {
     "name": "stdout",
     "output_type": "stream",
     "text": [
      "\"            \"\n",
      "\" .......... \"\n",
      "\" .......... \"\n",
      "\" .......... \"\n",
      "\" .......... \"\n",
      "\" .......... \"\n",
      "\" .......... \"\n",
      "\" .......... \"\n",
      "\" .......... \"\n",
      "\" .......... \"\n",
      "\" .......... \"\n",
      "\"            \"\n",
      "\"\"\n",
      "\"            \"\n",
      "\" ##........ \"\n",
      "\" .#........ \"\n",
      "\" .......... \"\n",
      "\" .......... \"\n",
      "\" .......... \"\n",
      "\" .......... \"\n",
      "\" .......... \"\n",
      "\" .......... \"\n",
      "\" .......... \"\n",
      "\" .......... \"\n",
      "\"            \"\n",
      "\"\"\n",
      "\"            \"\n",
      "\" ##........ \"\n",
      "\" .#........ \"\n",
      "\" .#........ \"\n",
      "\" .#........ \"\n",
      "\" .#........ \"\n",
      "\" .......... \"\n",
      "\" .......... \"\n",
      "\" .......... \"\n",
      "\" .......... \"\n",
      "\" .......... \"\n",
      "\"            \"\n",
      "\"\"\n",
      "\"            \"\n",
      "\" ##........ \"\n",
      "\" .#........ \"\n",
      "\" .#........ \"\n",
      "\" .#........ \"\n",
      "\" .#........ \"\n",
      "\" .#........ \"\n",
      "\" .#........ \"\n",
      "\" .#........ \"\n",
      "\" .......... \"\n",
      "\" .......... \"\n",
      "\"            \"\n",
      "\"\"\n",
      "\"            \"\n",
      "\" ##........ \"\n",
      "\" .#........ \"\n",
      "\" .#........ \"\n",
      "\" .#........ \"\n",
      "\" .#........ \"\n",
      "\" .#........ \"\n",
      "\" .#........ \"\n",
      "\" ####...... \"\n",
      "\" .......... \"\n",
      "\" .......... \"\n",
      "\"            \"\n",
      "\"\"\n"
     ]
    },
    {
     "data": {
      "text/plain": [
       "101 `u\n"
      ]
     },
     "execution_count": 95,
     "metadata": {},
     "output_type": "execute_result"
    }
   ],
   "source": [
    "showet:{\n",
    "    f:nC cut @[count[i]#\".\";key x;:;\"#\"];\n",
    "    f[0]:nC#\" \";\n",
    "    f[-1+count f]:nC#\" \";\n",
    "    f[;0]:count[f]#\" \";\n",
    "    f[;nC-1]:count[f]#\" \";\n",
    "    f\n",
    " }\n",
    "et:()!()\n",
    "{\n",
    "    if[0=count[et] mod 3;        \n",
    "        show showet[et];show\"\";\n",
    "     ];\n",
    "    raze step[x] each y\n",
    " }[i]/[12;enlist (nC;`r)]"
   ]
  },
  {
   "cell_type": "code",
   "execution_count": 96,
   "id": "9b4ca6f8",
   "metadata": {},
   "outputs": [
    {
     "data": {
      "text/plain": []
     },
     "execution_count": 96,
     "metadata": {},
     "output_type": "execute_result"
    },
    {
     "data": {
      "text/plain": [
       "\"            \"\n",
       "\" ######.... \"\n",
       "\" .#...#.... \"\n",
       "\" .#...##### \"\n",
       "\" .#...##... \"\n",
       "\" .#...##... \"\n",
       "\" .#...##... \"\n",
       "\" .#..####.. \"\n",
       "\" ########.. \"\n",
       "\" .#######.. \"\n",
       "\" .#...#.#.. \"\n",
       "\"            \"\n"
      ]
     },
     "execution_count": 96,
     "metadata": {},
     "output_type": "execute_result"
    },
    {
     "data": {
      "text/plain": [
       "46\n"
      ]
     },
     "execution_count": 96,
     "metadata": {},
     "output_type": "execute_result"
    }
   ],
   "source": [
    "et:()!()\n",
    "{raze step[x] each y}[i]/[enlist (nC;`r)]\n",
    "showet[et]\n",
    "count key et"
   ]
  },
  {
   "cell_type": "code",
   "execution_count": 98,
   "id": "f9beac88",
   "metadata": {},
   "outputs": [
    {
     "data": {
      "text/plain": []
     },
     "execution_count": 98,
     "metadata": {},
     "output_type": "execute_result"
    },
    {
     "data": {
      "text/plain": [
       "8098\n"
      ]
     },
     "execution_count": 98,
     "metadata": {},
     "output_type": "execute_result"
    }
   ],
   "source": [
    "/ p1 combined\n",
    "raw:read0`:input.txt\n",
    "nCraw:count first raw\n",
    "nC:nCraw+2\n",
    "i:raze l,{\" \",x,\" \"}'[raw],l:nC#\" \" / add border to ease overflow detection\n",
    "\n",
    "dirs:`r`l`u`d!(1;-1;neg nC;nC)\n",
    "et:()!()\n",
    "{raze step[x] each y}[i]/[enlist (nC;`r)]\n",
    "count key et"
   ]
  },
  {
   "cell_type": "code",
   "execution_count": 111,
   "id": "58da33bd",
   "metadata": {},
   "outputs": [
    {
     "data": {
      "text/plain": [
       "8335\n"
      ]
     },
     "execution_count": 111,
     "metadata": {},
     "output_type": "execute_result"
    }
   ],
   "source": [
    "/ p2\n",
    "/ starting points\n",
    "downs:til[nC],\\:`d\n",
    "rights:(nC*til nC),\\:`r\n",
    "ups:(til[nC]+nC*nC-1),\\:`u\n",
    "lefts:(nC-1-nC*til nC),\\:`l\n",
    "\n",
    "max {\n",
    "    et::()!();\n",
    "    {raze step[x] each y}[i]/[enlist x];\n",
    "    count key et\n",
    " } each downs,rights,ups,lefts"
   ]
  },
  {
   "cell_type": "code",
   "execution_count": null,
   "id": "2623aa64",
   "metadata": {},
   "outputs": [],
   "source": []
  }
 ],
 "metadata": {
  "kernelspec": {
   "display_name": "Q (kdb+)",
   "language": "q",
   "name": "qpk"
  },
  "language_info": {
   "file_extension": ".q",
   "mimetype": "text/x-q",
   "name": "q",
   "version": "4.0"
  }
 },
 "nbformat": 4,
 "nbformat_minor": 5
}
