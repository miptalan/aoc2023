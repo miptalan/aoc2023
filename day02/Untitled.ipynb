{
 "cells": [
  {
   "cell_type": "markdown",
   "id": "7dede343",
   "metadata": {},
   "source": [
    "# Part 1"
   ]
  },
  {
   "cell_type": "code",
   "execution_count": 60,
   "id": "ee1a00b8",
   "metadata": {},
   "outputs": [
    {
     "data": {
      "text/plain": [
       "\"Game 1: 3 blue, 4 red; 1 red, 2 green, 6 blue; 2 green\"\n",
       "\"Game 2: 1 blue, 2 green; 3 green, 4 blue, 1 red; 1 green, 1 blue\"\n",
       "\"Game 3: 8 green, 6 blue, 20 red; 5 blue, 4 red, 13 green; 5 green, 1 red\"\n",
       "\"Game 4: 1 green, 3 red, 6 blue; 3 green, 6 red; 3 green, 15 blue, 14 red\"\n",
       "\"Game 5: 6 red, 1 blue, 3 green; 2 blue, 1 red, 2 green\"\n"
      ]
     },
     "execution_count": 60,
     "metadata": {},
     "output_type": "execute_result"
    }
   ],
   "source": [
    "inp:read0`:test1.txt\n",
    "inp"
   ]
  },
  {
   "cell_type": "code",
   "execution_count": 35,
   "id": "965500db",
   "metadata": {},
   "outputs": [],
   "source": [
    "/ maximums\n",
    "maxc:`red`green`blue!12 13 14"
   ]
  },
  {
   "cell_type": "code",
   "execution_count": 27,
   "id": "b9ec6a3c",
   "metadata": {},
   "outputs": [
    {
     "name": "stdout",
     "output_type": "stream",
     "text": [
      "`a`b!10b\n"
     ]
    },
    {
     "data": {
      "text/plain": [
       "a| 1\n",
       "b| 3\n",
       "c| 1\n",
       "d| 3\n"
      ]
     },
     "execution_count": 27,
     "metadata": {},
     "output_type": "execute_result"
    },
    {
     "data": {
      "text/plain": [
       "1b\n"
      ]
     },
     "execution_count": 27,
     "metadata": {},
     "output_type": "execute_result"
    }
   ],
   "source": [
    "/ max of dict values\n",
    "max (`a`b!1 2;`b`c`d!3 1 3)\n",
    "/ dict value comparison\n",
    "any 0N!(`a`b!1 2)<`a`b!2 2"
   ]
  },
  {
   "cell_type": "code",
   "execution_count": 22,
   "id": "81a471fc",
   "metadata": {},
   "outputs": [
    {
     "name": "stdout",
     "output_type": "stream",
     "text": [
      "((,\"1\";\"blue\");(,\"2\";\"green\"))\n"
     ]
    },
    {
     "data": {
      "text/plain": [
       "blue | 1\n",
       "green| 2\n"
      ]
     },
     "execution_count": 22,
     "metadata": {},
     "output_type": "execute_result"
    }
   ],
   "source": [
    "/ parse set\n",
    "ps:0N!2 cut \" \" vs \"1 blue, 2 green\" except \",\"\n",
    "$[`;ps[;1]]!\"J\"$ps[;0]"
   ]
  },
  {
   "cell_type": "code",
   "execution_count": 54,
   "id": "71628a45",
   "metadata": {},
   "outputs": [
    {
     "data": {
      "text/plain": [
       "1\n",
       "`blue`red`green!6 4 2\n"
      ]
     },
     "execution_count": 54,
     "metadata": {},
     "output_type": "execute_result"
    }
   ],
   "source": [
    "/ parse game\n",
    "pg:{[g]\n",
    "    gv:\": \" vs g;\n",
    "    gn:\"J\"$last \" \" vs gv 0; / game number\n",
    "    gs:\"; \" vs gv 1; / sets\n",
    "    pgs:{[s] ps:2 cut \" \" vs s except \",\";$[`;ps[;1]]!\"J\"$ps[;0]} each gs;\n",
    "    (gn;max pgs)\n",
    " };\n",
    "\n",
    "pg \"Game 1: 3 blue, 4 red; 1 red, 2 green, 6 blue; 2 green\""
   ]
  },
  {
   "cell_type": "code",
   "execution_count": 63,
   "id": "f13668b4",
   "metadata": {},
   "outputs": [
    {
     "data": {
      "text/plain": [
       "1 `blue`red`green!6 4 2  \n",
       "2 `blue`green`red!4 3 1  \n",
       "3 `green`blue`red!13 6 20\n",
       "4 `green`red`blue!3 14 15\n",
       "5 `red`blue`green!6 2 3  \n"
      ]
     },
     "execution_count": 63,
     "metadata": {},
     "output_type": "execute_result"
    }
   ],
   "source": [
    "games:pg each inp\n",
    "games"
   ]
  },
  {
   "cell_type": "code",
   "execution_count": 64,
   "id": "104cb8a3",
   "metadata": {},
   "outputs": [
    {
     "data": {
      "text/plain": [
       "red green blue\n",
       "--------------\n",
       "1   1     1   \n",
       "1   1     1   \n",
       "0   1     1   \n",
       "0   1     0   \n",
       "1   1     1   \n"
      ]
     },
     "execution_count": 64,
     "metadata": {},
     "output_type": "execute_result"
    },
    {
     "data": {
      "text/plain": [
       "11001b\n"
      ]
     },
     "execution_count": 64,
     "metadata": {},
     "output_type": "execute_result"
    }
   ],
   "source": [
    "/ each left dict is smaller or equals\n",
    "games[;1]<=\\:maxc\n",
    "\n",
    "/ games 3 4 are imposible\n",
    "all each games[;1]<=\\:maxc"
   ]
  },
  {
   "cell_type": "code",
   "execution_count": 65,
   "id": "0e86cc27",
   "metadata": {},
   "outputs": [
    {
     "data": {
      "text/plain": [
       "8\n"
      ]
     },
     "execution_count": 65,
     "metadata": {},
     "output_type": "execute_result"
    }
   ],
   "source": [
    "/ sum game IDs\n",
    "sum games[;0] where all each games[;1]<=\\:maxc"
   ]
  },
  {
   "cell_type": "markdown",
   "id": "ef04ce86",
   "metadata": {},
   "source": [
    "# Part 2"
   ]
  },
  {
   "cell_type": "code",
   "execution_count": 70,
   "id": "65e98a88",
   "metadata": {},
   "outputs": [
    {
     "name": "stdout",
     "output_type": "stream",
     "text": [
      "(6 4 2;4 3 1;13 6 20;3 14 15;6 2 3)\n"
     ]
    },
    {
     "data": {
      "text/plain": [
       "2286\n"
      ]
     },
     "execution_count": 70,
     "metadata": {},
     "output_type": "execute_result"
    }
   ],
   "source": [
    "/ just sum products of all dict values\n",
    "sum prd each 0N!value each games[;1]"
   ]
  },
  {
   "cell_type": "code",
   "execution_count": 74,
   "id": "4ad9eacd",
   "metadata": {},
   "outputs": [
    {
     "data": {
      "text/plain": [
       "2286\n"
      ]
     },
     "execution_count": 74,
     "metadata": {},
     "output_type": "execute_result"
    }
   ],
   "source": [
    "/ shorter with composition\n",
    "sum['[prd;value]'[games[;1]]]"
   ]
  },
  {
   "cell_type": "code",
   "execution_count": 75,
   "id": "c043baf2",
   "metadata": {},
   "outputs": [
    {
     "data": {
      "text/plain": [
       "79315\n"
      ]
     },
     "execution_count": 75,
     "metadata": {},
     "output_type": "execute_result"
    }
   ],
   "source": [
    "sum['[prd;value]'[games1[;1]]]"
   ]
  },
  {
   "cell_type": "code",
   "execution_count": null,
   "id": "044598a3",
   "metadata": {},
   "outputs": [],
   "source": []
  }
 ],
 "metadata": {
  "kernelspec": {
   "display_name": "Q (kdb+)",
   "language": "q",
   "name": "qpk"
  },
  "language_info": {
   "file_extension": ".q",
   "mimetype": "text/x-q",
   "name": "q",
   "version": "4.0"
  }
 },
 "nbformat": 4,
 "nbformat_minor": 5
}
