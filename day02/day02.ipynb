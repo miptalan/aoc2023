{
 "cells": [
  {
   "cell_type": "markdown",
   "id": "be83d082",
   "metadata": {},
   "source": [
    "# Part 1"
   ]
  },
  {
   "cell_type": "code",
   "execution_count": 60,
   "id": "ee1a00b8",
   "metadata": {},
   "outputs": [
    {
     "data": {
      "text/plain": [
       "\"Game 1: 3 blue, 4 red; 1 red, 2 green, 6 blue; 2 green\"\n",
       "\"Game 2: 1 blue, 2 green; 3 green, 4 blue, 1 red; 1 green, 1 blue\"\n",
       "\"Game 3: 8 green, 6 blue, 20 red; 5 blue, 4 red, 13 green; 5 green, 1 red\"\n",
       "\"Game 4: 1 green, 3 red, 6 blue; 3 green, 6 red; 3 green, 15 blue, 14 red\"\n",
       "\"Game 5: 6 red, 1 blue, 3 green; 2 blue, 1 red, 2 green\"\n"
      ]
     },
     "execution_count": 60,
     "metadata": {},
     "output_type": "execute_result"
    }
   ],
   "source": [
    "inp:read0`:test1.txt\n",
    "inp"
   ]
  },
  {
   "cell_type": "code",
   "execution_count": 35,
   "id": "b4198cdf",
   "metadata": {},
   "outputs": [],
   "source": [
    "/ maximums\n",
    "maxc:`red`green`blue!12 13 14"
   ]
  },
  {
   "cell_type": "code",
   "execution_count": 110,
   "id": "dc57c16f",
   "metadata": {},
   "outputs": [
    {
     "name": "stdout",
     "output_type": "stream",
     "text": [
      "`a`b!10b\n"
     ]
    },
    {
     "data": {
      "text/plain": [
       "a| 1\n",
       "b| 3\n",
       "c| 1\n",
       "d| 3\n"
      ]
     },
     "execution_count": 110,
     "metadata": {},
     "output_type": "execute_result"
    },
    {
     "data": {
      "text/plain": [
       "1b\n"
      ]
     },
     "execution_count": 110,
     "metadata": {},
     "output_type": "execute_result"
    }
   ],
   "source": [
    "/ max of dict values\n",
    "max (`a`b!1 2;`b`c`d!3 1 3)\n",
    "/ dict value comparison\n",
    "any 0N!(`a`b!1 2)<`a`b!2 2"
   ]
  },
  {
   "cell_type": "code",
   "execution_count": 22,
   "id": "f12a7337",
   "metadata": {},
   "outputs": [
    {
     "name": "stdout",
     "output_type": "stream",
     "text": [
      "((,\"1\";\"blue\");(,\"2\";\"green\"))\n"
     ]
    },
    {
     "data": {
      "text/plain": [
       "blue | 1\n",
       "green| 2\n"
      ]
     },
     "execution_count": 22,
     "metadata": {},
     "output_type": "execute_result"
    }
   ],
   "source": [
    "/ parse set\n",
    "ps:0N!2 cut \" \" vs \"1 blue, 2 green\" except \",\"\n",
    "$[`;ps[;1]]!\"J\"$ps[;0]"
   ]
  },
  {
   "cell_type": "code",
   "execution_count": 54,
   "id": "cdc61abe",
   "metadata": {},
   "outputs": [
    {
     "data": {
      "text/plain": [
       "1\n",
       "`blue`red`green!6 4 2\n"
      ]
     },
     "execution_count": 54,
     "metadata": {},
     "output_type": "execute_result"
    }
   ],
   "source": [
    "/ parse game\n",
    "pg:{[g]\n",
    "    gv:\": \" vs g;\n",
    "    gn:\"J\"$last \" \" vs gv 0; / game number\n",
    "    gs:\"; \" vs gv 1; / sets\n",
    "    pgs:{[s] ps:2 cut \" \" vs s except \",\";$[`;ps[;1]]!\"J\"$ps[;0]} each gs;\n",
    "    (gn;max pgs)\n",
    " };\n",
    "\n",
    "pg \"Game 1: 3 blue, 4 red; 1 red, 2 green, 6 blue; 2 green\""
   ]
  },
  {
   "cell_type": "code",
   "execution_count": 63,
   "id": "8482e617",
   "metadata": {},
   "outputs": [
    {
     "data": {
      "text/plain": [
       "1 `blue`red`green!6 4 2  \n",
       "2 `blue`green`red!4 3 1  \n",
       "3 `green`blue`red!13 6 20\n",
       "4 `green`red`blue!3 14 15\n",
       "5 `red`blue`green!6 2 3  \n"
      ]
     },
     "execution_count": 63,
     "metadata": {},
     "output_type": "execute_result"
    }
   ],
   "source": [
    "games:pg each inp\n",
    "games"
   ]
  },
  {
   "cell_type": "code",
   "execution_count": 64,
   "id": "cb3d2123",
   "metadata": {},
   "outputs": [
    {
     "data": {
      "text/plain": [
       "red green blue\n",
       "--------------\n",
       "1   1     1   \n",
       "1   1     1   \n",
       "0   1     1   \n",
       "0   1     0   \n",
       "1   1     1   \n"
      ]
     },
     "execution_count": 64,
     "metadata": {},
     "output_type": "execute_result"
    },
    {
     "data": {
      "text/plain": [
       "11001b\n"
      ]
     },
     "execution_count": 64,
     "metadata": {},
     "output_type": "execute_result"
    }
   ],
   "source": [
    "/ each left dict is smaller or equals\n",
    "games[;1]<=\\:maxc\n",
    "\n",
    "/ games 3 4 are imposible\n",
    "all each games[;1]<=\\:maxc"
   ]
  },
  {
   "cell_type": "code",
   "execution_count": 65,
   "id": "856bdaed",
   "metadata": {},
   "outputs": [
    {
     "data": {
      "text/plain": [
       "8\n"
      ]
     },
     "execution_count": 65,
     "metadata": {},
     "output_type": "execute_result"
    }
   ],
   "source": [
    "/ sum game IDs\n",
    "sum games[;0] where all each games[;1]<=\\:maxc"
   ]
  },
  {
   "cell_type": "markdown",
   "id": "f2540fe8",
   "metadata": {},
   "source": [
    "# Part 2"
   ]
  },
  {
   "cell_type": "code",
   "execution_count": 70,
   "id": "98629549",
   "metadata": {},
   "outputs": [
    {
     "name": "stdout",
     "output_type": "stream",
     "text": [
      "(6 4 2;4 3 1;13 6 20;3 14 15;6 2 3)\n"
     ]
    },
    {
     "data": {
      "text/plain": [
       "2286\n"
      ]
     },
     "execution_count": 70,
     "metadata": {},
     "output_type": "execute_result"
    }
   ],
   "source": [
    "/ just sum products of all dict values\n",
    "sum prd each 0N!value each games[;1]"
   ]
  },
  {
   "cell_type": "code",
   "execution_count": 74,
   "id": "31fafa66",
   "metadata": {},
   "outputs": [
    {
     "data": {
      "text/plain": [
       "2286\n"
      ]
     },
     "execution_count": 74,
     "metadata": {},
     "output_type": "execute_result"
    }
   ],
   "source": [
    "/ shorter with composition\n",
    "sum['[prd;value]'[games[;1]]]"
   ]
  },
  {
   "cell_type": "markdown",
   "id": "d483b79d",
   "metadata": {},
   "source": [
    "# Better parsing"
   ]
  },
  {
   "cell_type": "code",
   "execution_count": 134,
   "id": "a69add00",
   "metadata": {},
   "outputs": [
    {
     "data": {
      "text/plain": [
       "((\"Game\";,\"1\");(,\"3\";\"blue\");(,\"4\";\"red\");(,\"1\";\"red\");(,\"2\";\"green\");(,\"6\";\"..\n",
       "((\"Game\";,\"2\");(,\"1\";\"blue\");(,\"2\";\"green\");(,\"3\";\"green\");(,\"4\";\"blue\");(,\"1..\n",
       "((\"Game\";,\"3\");(,\"8\";\"green\");(,\"6\";\"blue\");(\"20\";\"red\");(,\"5\";\"blue\");(,\"4\";..\n",
       "((\"Game\";,\"4\");(,\"1\";\"green\");(,\"3\";\"red\");(,\"6\";\"blue\");(,\"3\";\"green\");(,\"6\"..\n",
       "((\"Game\";,\"5\");(,\"6\";\"red\");(,\"1\";\"blue\");(,\"3\";\"green\");(,\"2\";\"blue\");(,\"1\";..\n"
      ]
     },
     "execution_count": 134,
     "metadata": {},
     "output_type": "execute_result"
    }
   ],
   "source": [
    "/ we only need running max by colour\n",
    "/ so can use the fact that data is in pairs - remove all punctuation and cut by 2\n",
    "(2 cut) each (\" \" vs) each inp except\\:\";:,\""
   ]
  },
  {
   "cell_type": "code",
   "execution_count": 135,
   "id": "62ef29b5",
   "metadata": {},
   "outputs": [
    {
     "data": {
      "text/plain": [
       "((\"Game\";,\"1\");(,\"3\";\"blue\");(,\"4\";\"red\");(,\"1\";\"red\");(,\"2\";\"green\");(,\"6\";\"..\n",
       "((\"Game\";,\"2\");(,\"1\";\"blue\");(,\"2\";\"green\");(,\"3\";\"green\");(,\"4\";\"blue\");(,\"1..\n",
       "((\"Game\";,\"3\");(,\"8\";\"green\");(,\"6\";\"blue\");(\"20\";\"red\");(,\"5\";\"blue\");(,\"4\";..\n",
       "((\"Game\";,\"4\");(,\"1\";\"green\");(,\"3\";\"red\");(,\"6\";\"blue\");(,\"3\";\"green\");(,\"6\"..\n",
       "((\"Game\";,\"5\");(,\"6\";\"red\");(,\"1\";\"blue\");(,\"3\";\"green\");(,\"2\";\"blue\");(,\"1\";..\n"
      ]
     },
     "execution_count": 135,
     "metadata": {},
     "output_type": "execute_result"
    }
   ],
   "source": [
    "/ shorter with composition\n",
    "ggg:('[2 cut;\" \" vs]'[inp except\\:\";:,\"])\n",
    "ggg"
   ]
  },
  {
   "cell_type": "code",
   "execution_count": 143,
   "id": "ca251e76",
   "metadata": {},
   "outputs": [
    {
     "data": {
      "text/plain": [
       ",\"3\" \"blue\" \n",
       ",\"4\" \"red\"  \n",
       ",\"1\" \"red\"  \n",
       ",\"2\" \"green\"\n",
       ",\"6\" \"blue\" \n",
       ",\"2\" \"green\"\n"
      ]
     },
     "execution_count": 143,
     "metadata": {},
     "output_type": "execute_result"
    },
    {
     "data": {
      "text/plain": [
       ",\"3\"   ,\"4\"  ,\"1\"  ,\"2\"    ,\"6\"   ,\"2\"   \n",
       "\"blue\" \"red\" \"red\" \"green\" \"blue\" \"green\"\n"
      ]
     },
     "execution_count": 143,
     "metadata": {},
     "output_type": "execute_result"
    },
    {
     "data": {
      "text/plain": [
       "3    4   1   2     6    2    \n",
       "blue red red green blue green\n"
      ]
     },
     "execution_count": 143,
     "metadata": {},
     "output_type": "execute_result"
    }
   ],
   "source": [
    "/ parse single game results\n",
    "1_first ggg"
   ]
  },
  {
   "cell_type": "code",
   "execution_count": null,
   "id": "003c1518",
   "metadata": {},
   "outputs": [],
   "source": [
    "/ flip to uniform lists\n",
    "flip 1_first ggg"
   ]
  },
  {
   "cell_type": "code",
   "execution_count": 144,
   "id": "be43ea98",
   "metadata": {},
   "outputs": [
    {
     "data": {
      "text/plain": [
       "3    4   1   2     6    2    \n",
       "blue red red green blue green\n"
      ]
     },
     "execution_count": 144,
     "metadata": {},
     "output_type": "execute_result"
    }
   ],
   "source": [
    "/ convert first to long, second to sym - use each both\n",
    "$'[(\"J\";`);flip 1_first ggg]"
   ]
  },
  {
   "cell_type": "code",
   "execution_count": 145,
   "id": "9f7b545d",
   "metadata": {},
   "outputs": [
    {
     "data": {
      "text/plain": [
       "3| blue\n",
       "4| red\n",
       "1| red\n",
       "2| green\n",
       "6| blue\n",
       "2| green\n"
      ]
     },
     "execution_count": 145,
     "metadata": {},
     "output_type": "execute_result"
    }
   ],
   "source": [
    "/ build dict\n",
    "(!).$'[(\"J\";`);flip 1_first ggg]"
   ]
  },
  {
   "cell_type": "code",
   "execution_count": 146,
   "id": "796588ed",
   "metadata": {},
   "outputs": [
    {
     "data": {
      "text/plain": [
       "blue | 3 6\n",
       "red  | 4 1\n",
       "green| 2 2\n"
      ]
     },
     "execution_count": 146,
     "metadata": {},
     "output_type": "execute_result"
    }
   ],
   "source": [
    "/ now the trick - use group to inverse\n",
    "group (!).$'[(\"J\";`);flip 1_first ggg]"
   ]
  },
  {
   "cell_type": "code",
   "execution_count": 148,
   "id": "e4bee56d",
   "metadata": {},
   "outputs": [
    {
     "data": {
      "text/plain": [
       "blue | 6\n",
       "red  | 4\n",
       "green| 2\n"
      ]
     },
     "execution_count": 148,
     "metadata": {},
     "output_type": "execute_result"
    }
   ],
   "source": [
    "/ now can use max to get each colour max\n",
    "max each group (!).$'[(\"J\";`);flip 1_first ggg]"
   ]
  },
  {
   "cell_type": "code",
   "execution_count": 154,
   "id": "f43fcd5c",
   "metadata": {},
   "outputs": [
    {
     "data": {
      "text/plain": [
       "1 `blue`red`green!6 4 2  \n",
       "2 `blue`green`red!4 3 1  \n",
       "3 `green`blue`red!13 6 20\n",
       "4 `green`red`blue!3 14 15\n",
       "5 `red`blue`green!6 2 3  \n"
      ]
     },
     "execution_count": 154,
     "metadata": {},
     "output_type": "execute_result"
    }
   ],
   "source": [
    "/ combining\n",
    "games:{(\"J\"$x[0;1];max each group (!).$'[(\"J\";`);flip 1_x])} each ('[2 cut;\" \" vs]'[inp except\\:\";:,\"])\n",
    "games"
   ]
  },
  {
   "cell_type": "code",
   "execution_count": 152,
   "id": "d1c26387",
   "metadata": {},
   "outputs": [
    {
     "data": {
      "text/plain": [
       "8\n"
      ]
     },
     "execution_count": 152,
     "metadata": {},
     "output_type": "execute_result"
    }
   ],
   "source": [
    "/ p1\n",
    "sum games[;0] where all each games[;1]<=\\:maxc"
   ]
  },
  {
   "cell_type": "code",
   "execution_count": 153,
   "id": "1de1cc2e",
   "metadata": {},
   "outputs": [
    {
     "data": {
      "text/plain": [
       "2286\n"
      ]
     },
     "execution_count": 153,
     "metadata": {},
     "output_type": "execute_result"
    }
   ],
   "source": [
    "/ p2\n",
    "sum['[prd;value]'[games[;1]]]"
   ]
  }
 ],
 "metadata": {
  "kernelspec": {
   "display_name": "Q (kdb+)",
   "language": "q",
   "name": "qpk"
  },
  "language_info": {
   "file_extension": ".q",
   "mimetype": "text/x-q",
   "name": "q",
   "version": "4.0"
  }
 },
 "nbformat": 4,
 "nbformat_minor": 5
}
