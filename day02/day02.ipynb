{
 "cells": [
  {
   "cell_type": "markdown",
   "id": "412559b8",
   "metadata": {},
   "source": [
    "# Part 1"
   ]
  },
  {
   "cell_type": "code",
   "execution_count": 168,
   "id": "ee1a00b8",
   "metadata": {},
   "outputs": [
    {
     "data": {
      "text/plain": [
       "\"Game 1: 3 blue, 4 red; 1 red, 2 green, 6 blue; 2 green\"\n",
       "\"Game 2: 1 blue, 2 green; 3 green, 4 blue, 1 red; 1 green, 1 blue\"\n",
       "\"Game 3: 8 green, 6 blue, 20 red; 5 blue, 4 red, 13 green; 5 green, 1 red\"\n",
       "\"Game 4: 1 green, 3 red, 6 blue; 3 green, 6 red; 3 green, 15 blue, 14 red\"\n",
       "\"Game 5: 6 red, 1 blue, 3 green; 2 blue, 1 red, 2 green\"\n"
      ]
     },
     "execution_count": 168,
     "metadata": {},
     "output_type": "execute_result"
    }
   ],
   "source": [
    "inp:read0`:test1.txt\n",
    "inp"
   ]
  },
  {
   "cell_type": "code",
   "execution_count": 169,
   "id": "8dc3a06b",
   "metadata": {},
   "outputs": [],
   "source": [
    "/ maximums\n",
    "maxc:`red`green`blue!12 13 14"
   ]
  },
  {
   "cell_type": "code",
   "execution_count": 170,
   "id": "11180144",
   "metadata": {},
   "outputs": [
    {
     "name": "stdout",
     "output_type": "stream",
     "text": [
      "`a`b!10b\n"
     ]
    },
    {
     "data": {
      "text/plain": [
       "a| 1\n",
       "b| 3\n",
       "c| 1\n",
       "d| 3\n"
      ]
     },
     "execution_count": 170,
     "metadata": {},
     "output_type": "execute_result"
    },
    {
     "data": {
      "text/plain": [
       "1b\n"
      ]
     },
     "execution_count": 170,
     "metadata": {},
     "output_type": "execute_result"
    }
   ],
   "source": [
    "/ max of dict values\n",
    "max (`a`b!1 2;`b`c`d!3 1 3)\n",
    "/ dict value comparison\n",
    "any 0N!(`a`b!1 2)<`a`b!2 2"
   ]
  },
  {
   "cell_type": "code",
   "execution_count": 171,
   "id": "35f52df7",
   "metadata": {},
   "outputs": [
    {
     "name": "stdout",
     "output_type": "stream",
     "text": [
      "((,\"1\";\"blue\");(,\"2\";\"green\"))\n"
     ]
    },
    {
     "data": {
      "text/plain": [
       "blue | 1\n",
       "green| 2\n"
      ]
     },
     "execution_count": 171,
     "metadata": {},
     "output_type": "execute_result"
    }
   ],
   "source": [
    "/ parse set\n",
    "ps:0N!2 cut \" \" vs \"1 blue, 2 green\" except \",\"\n",
    "$[`;ps[;1]]!\"J\"$ps[;0]"
   ]
  },
  {
   "cell_type": "code",
   "execution_count": 172,
   "id": "444376d1",
   "metadata": {},
   "outputs": [
    {
     "data": {
      "text/plain": [
       "1\n",
       "`blue`red`green!6 4 2\n"
      ]
     },
     "execution_count": 172,
     "metadata": {},
     "output_type": "execute_result"
    }
   ],
   "source": [
    "/ parse game\n",
    "pg:{[g]\n",
    "    gv:\": \" vs g;\n",
    "    gn:\"J\"$last \" \" vs gv 0; / game number\n",
    "    gs:\"; \" vs gv 1; / sets\n",
    "    pgs:{[s] ps:2 cut \" \" vs s except \",\";$[`;ps[;1]]!\"J\"$ps[;0]} each gs;\n",
    "    (gn;max pgs)\n",
    " };\n",
    "\n",
    "pg \"Game 1: 3 blue, 4 red; 1 red, 2 green, 6 blue; 2 green\""
   ]
  },
  {
   "cell_type": "code",
   "execution_count": 173,
   "id": "11af403a",
   "metadata": {},
   "outputs": [
    {
     "data": {
      "text/plain": [
       "1 `blue`red`green!6 4 2  \n",
       "2 `blue`green`red!4 3 1  \n",
       "3 `green`blue`red!13 6 20\n",
       "4 `green`red`blue!3 14 15\n",
       "5 `red`blue`green!6 2 3  \n"
      ]
     },
     "execution_count": 173,
     "metadata": {},
     "output_type": "execute_result"
    }
   ],
   "source": [
    "games:pg each inp\n",
    "games"
   ]
  },
  {
   "cell_type": "code",
   "execution_count": 174,
   "id": "2fdd1686",
   "metadata": {},
   "outputs": [
    {
     "data": {
      "text/plain": [
       "red green blue\n",
       "--------------\n",
       "1   1     1   \n",
       "1   1     1   \n",
       "0   1     1   \n",
       "0   1     0   \n",
       "1   1     1   \n"
      ]
     },
     "execution_count": 174,
     "metadata": {},
     "output_type": "execute_result"
    },
    {
     "data": {
      "text/plain": [
       "11001b\n"
      ]
     },
     "execution_count": 174,
     "metadata": {},
     "output_type": "execute_result"
    }
   ],
   "source": [
    "/ each left dict is smaller or equals\n",
    "games[;1]<=\\:maxc\n",
    "\n",
    "/ games 3 4 are imposible\n",
    "all each games[;1]<=\\:maxc"
   ]
  },
  {
   "cell_type": "code",
   "execution_count": 175,
   "id": "560d7885",
   "metadata": {},
   "outputs": [
    {
     "data": {
      "text/plain": [
       "8\n"
      ]
     },
     "execution_count": 175,
     "metadata": {},
     "output_type": "execute_result"
    }
   ],
   "source": [
    "/ sum game IDs\n",
    "sum games[;0] where all each games[;1]<=\\:maxc"
   ]
  },
  {
   "cell_type": "markdown",
   "id": "5bd568af",
   "metadata": {},
   "source": [
    "# Part 2"
   ]
  },
  {
   "cell_type": "code",
   "execution_count": 176,
   "id": "d70eb6fe",
   "metadata": {},
   "outputs": [
    {
     "name": "stdout",
     "output_type": "stream",
     "text": [
      "(6 4 2;4 3 1;13 6 20;3 14 15;6 2 3)\n"
     ]
    },
    {
     "data": {
      "text/plain": [
       "2286\n"
      ]
     },
     "execution_count": 176,
     "metadata": {},
     "output_type": "execute_result"
    }
   ],
   "source": [
    "/ just sum products of all dict values\n",
    "sum prd each 0N!value each games[;1]"
   ]
  },
  {
   "cell_type": "code",
   "execution_count": 177,
   "id": "117363a0",
   "metadata": {},
   "outputs": [
    {
     "data": {
      "text/plain": [
       "2286\n"
      ]
     },
     "execution_count": 177,
     "metadata": {},
     "output_type": "execute_result"
    }
   ],
   "source": [
    "/ shorter with composition\n",
    "sum['[prd;value]'[games[;1]]]"
   ]
  },
  {
   "cell_type": "markdown",
   "id": "9ccae77d",
   "metadata": {},
   "source": [
    "# Better parsing"
   ]
  },
  {
   "cell_type": "code",
   "execution_count": 178,
   "id": "a0b56081",
   "metadata": {},
   "outputs": [
    {
     "data": {
      "text/plain": [
       "((\"Game\";,\"1\");(,\"3\";\"blue\");(,\"4\";\"red\");(,\"1\";\"red\");(,\"2\";\"green\");(,\"6\";\"..\n",
       "((\"Game\";,\"2\");(,\"1\";\"blue\");(,\"2\";\"green\");(,\"3\";\"green\");(,\"4\";\"blue\");(,\"1..\n",
       "((\"Game\";,\"3\");(,\"8\";\"green\");(,\"6\";\"blue\");(\"20\";\"red\");(,\"5\";\"blue\");(,\"4\";..\n",
       "((\"Game\";,\"4\");(,\"1\";\"green\");(,\"3\";\"red\");(,\"6\";\"blue\");(,\"3\";\"green\");(,\"6\"..\n",
       "((\"Game\";,\"5\");(,\"6\";\"red\");(,\"1\";\"blue\");(,\"3\";\"green\");(,\"2\";\"blue\");(,\"1\";..\n"
      ]
     },
     "execution_count": 178,
     "metadata": {},
     "output_type": "execute_result"
    }
   ],
   "source": [
    "/ we only need running max by colour\n",
    "/ so can use the fact that data is in pairs - remove all punctuation and cut by 2\n",
    "(2 cut) each (\" \" vs) each inp except\\:\";:,\""
   ]
  },
  {
   "cell_type": "code",
   "execution_count": 179,
   "id": "c6726cb1",
   "metadata": {},
   "outputs": [
    {
     "data": {
      "text/plain": [
       "((\"Game\";,\"1\");(,\"3\";\"blue\");(,\"4\";\"red\");(,\"1\";\"red\");(,\"2\";\"green\");(,\"6\";\"..\n",
       "((\"Game\";,\"2\");(,\"1\";\"blue\");(,\"2\";\"green\");(,\"3\";\"green\");(,\"4\";\"blue\");(,\"1..\n",
       "((\"Game\";,\"3\");(,\"8\";\"green\");(,\"6\";\"blue\");(\"20\";\"red\");(,\"5\";\"blue\");(,\"4\";..\n",
       "((\"Game\";,\"4\");(,\"1\";\"green\");(,\"3\";\"red\");(,\"6\";\"blue\");(,\"3\";\"green\");(,\"6\"..\n",
       "((\"Game\";,\"5\");(,\"6\";\"red\");(,\"1\";\"blue\");(,\"3\";\"green\");(,\"2\";\"blue\");(,\"1\";..\n"
      ]
     },
     "execution_count": 179,
     "metadata": {},
     "output_type": "execute_result"
    }
   ],
   "source": [
    "/ shorter with composition\n",
    "ggg:('[2 cut;\" \" vs]'[inp except\\:\";:,\"])\n",
    "ggg"
   ]
  },
  {
   "cell_type": "code",
   "execution_count": 180,
   "id": "d2e34a29",
   "metadata": {},
   "outputs": [
    {
     "data": {
      "text/plain": [
       ",\"3\" \"blue\" \n",
       ",\"4\" \"red\"  \n",
       ",\"1\" \"red\"  \n",
       ",\"2\" \"green\"\n",
       ",\"6\" \"blue\" \n",
       ",\"2\" \"green\"\n"
      ]
     },
     "execution_count": 180,
     "metadata": {},
     "output_type": "execute_result"
    }
   ],
   "source": [
    "/ parse single game results\n",
    "1_first ggg"
   ]
  },
  {
   "cell_type": "code",
   "execution_count": 181,
   "id": "d045b47c",
   "metadata": {},
   "outputs": [
    {
     "data": {
      "text/plain": [
       ",\"3\"   ,\"4\"  ,\"1\"  ,\"2\"    ,\"6\"   ,\"2\"   \n",
       "\"blue\" \"red\" \"red\" \"green\" \"blue\" \"green\"\n"
      ]
     },
     "execution_count": 181,
     "metadata": {},
     "output_type": "execute_result"
    }
   ],
   "source": [
    "/ flip to uniform lists\n",
    "flip 1_first ggg"
   ]
  },
  {
   "cell_type": "code",
   "execution_count": 182,
   "id": "483e896e",
   "metadata": {},
   "outputs": [
    {
     "data": {
      "text/plain": [
       "3    4   1   2     6    2    \n",
       "blue red red green blue green\n"
      ]
     },
     "execution_count": 182,
     "metadata": {},
     "output_type": "execute_result"
    }
   ],
   "source": [
    "/ convert first to long, second to sym - use each both\n",
    "$'[(\"J\";`);flip 1_first ggg]"
   ]
  },
  {
   "cell_type": "code",
   "execution_count": 183,
   "id": "efb728ee",
   "metadata": {},
   "outputs": [
    {
     "data": {
      "text/plain": [
       "3| blue\n",
       "4| red\n",
       "1| red\n",
       "2| green\n",
       "6| blue\n",
       "2| green\n"
      ]
     },
     "execution_count": 183,
     "metadata": {},
     "output_type": "execute_result"
    }
   ],
   "source": [
    "/ build dict\n",
    "(!).$'[(\"J\";`);flip 1_first ggg]"
   ]
  },
  {
   "cell_type": "code",
   "execution_count": 184,
   "id": "68624fc6",
   "metadata": {},
   "outputs": [
    {
     "data": {
      "text/plain": [
       "blue | 3 6\n",
       "red  | 4 1\n",
       "green| 2 2\n"
      ]
     },
     "execution_count": 184,
     "metadata": {},
     "output_type": "execute_result"
    }
   ],
   "source": [
    "/ now the trick - use group to inverse\n",
    "group (!).$'[(\"J\";`);flip 1_first ggg]"
   ]
  },
  {
   "cell_type": "code",
   "execution_count": 185,
   "id": "5e1d9b5b",
   "metadata": {},
   "outputs": [
    {
     "data": {
      "text/plain": [
       "blue | 6\n",
       "red  | 4\n",
       "green| 2\n"
      ]
     },
     "execution_count": 185,
     "metadata": {},
     "output_type": "execute_result"
    }
   ],
   "source": [
    "/ now can use max to get each colour max\n",
    "max each group (!).$'[(\"J\";`);flip 1_first ggg]"
   ]
  },
  {
   "cell_type": "code",
   "execution_count": 186,
   "id": "7a97448d",
   "metadata": {},
   "outputs": [
    {
     "data": {
      "text/plain": [
       "1 `blue`red`green!6 4 2  \n",
       "2 `blue`green`red!4 3 1  \n",
       "3 `green`blue`red!13 6 20\n",
       "4 `green`red`blue!3 14 15\n",
       "5 `red`blue`green!6 2 3  \n"
      ]
     },
     "execution_count": 186,
     "metadata": {},
     "output_type": "execute_result"
    }
   ],
   "source": [
    "/ combining\n",
    "games:{(\"J\"$x[0;1];max'[group (!).$'[(\"J\";`);flip 1_x]])}'['[2 cut;\" \" vs]'[inp except\\:\";:,\"]]\n",
    "games"
   ]
  },
  {
   "cell_type": "code",
   "execution_count": 187,
   "id": "f39dfbab",
   "metadata": {},
   "outputs": [
    {
     "data": {
      "text/plain": [
       "8\n"
      ]
     },
     "execution_count": 187,
     "metadata": {},
     "output_type": "execute_result"
    }
   ],
   "source": [
    "/ p1\n",
    "sum games[;0] where all each games[;1]<=\\:maxc"
   ]
  },
  {
   "cell_type": "code",
   "execution_count": 188,
   "id": "4d3b61d9",
   "metadata": {},
   "outputs": [
    {
     "data": {
      "text/plain": [
       "2286\n"
      ]
     },
     "execution_count": 188,
     "metadata": {},
     "output_type": "execute_result"
    }
   ],
   "source": [
    "/ p2\n",
    "sum['[prd;value]'[games[;1]]]"
   ]
  },
  {
   "cell_type": "code",
   "execution_count": null,
   "id": "32737450",
   "metadata": {},
   "outputs": [],
   "source": []
  }
 ],
 "metadata": {
  "kernelspec": {
   "display_name": "Q (kdb+)",
   "language": "q",
   "name": "qpk"
  },
  "language_info": {
   "file_extension": ".q",
   "mimetype": "text/x-q",
   "name": "q",
   "version": "4.0"
  }
 },
 "nbformat": 4,
 "nbformat_minor": 5
}
