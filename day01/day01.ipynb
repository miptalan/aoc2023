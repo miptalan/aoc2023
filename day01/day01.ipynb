{
 "cells": [
  {
   "cell_type": "markdown",
   "id": "8188a77c",
   "metadata": {},
   "source": [
    "# Part 1"
   ]
  },
  {
   "cell_type": "code",
   "execution_count": 92,
   "id": "5a0cb37d",
   "metadata": {},
   "outputs": [
    {
     "name": "stdout",
     "output_type": "stream",
     "text": [
      "(\"1abc2\";\"pqr3stu8vwx\";\"a1b2c3d4e5f\";\"treb7uchet\")\n"
     ]
    }
   ],
   "source": [
    "inp1:0N!read0`:test1.txt"
   ]
  },
  {
   "cell_type": "code",
   "execution_count": 60,
   "id": "7878f36d",
   "metadata": {},
   "outputs": [
    {
     "data": {
      "text/plain": [
       "\"12\"\n",
       "\"38\"\n",
       "\"12345\"\n",
       ",\"7\"\n"
      ]
     },
     "execution_count": 60,
     "metadata": {},
     "output_type": "execute_result"
    }
   ],
   "source": [
    "/ only digits\n",
    "inp1 inter\\:.Q.n"
   ]
  },
  {
   "cell_type": "code",
   "execution_count": 61,
   "id": "dffd8eb2",
   "metadata": {},
   "outputs": [
    {
     "data": {
      "text/plain": [
       "\"13\"\n"
      ]
     },
     "execution_count": 61,
     "metadata": {},
     "output_type": "execute_result"
    },
    {
     "data": {
      "text/plain": [
       "\"11\"\n"
      ]
     },
     "execution_count": 61,
     "metadata": {},
     "output_type": "execute_result"
    }
   ],
   "source": [
    "/ use first and last in one go - allows atom char\n",
    "(first;last)@\\:\"123\"\n",
    "(first;last)@\\:\"1\""
   ]
  },
  {
   "cell_type": "code",
   "execution_count": 62,
   "id": "ab3dc872",
   "metadata": {},
   "outputs": [
    {
     "data": {
      "text/plain": [
       "\"12\"\n",
       "\"38\"\n",
       "\"15\"\n",
       "\"77\"\n"
      ]
     },
     "execution_count": 62,
     "metadata": {},
     "output_type": "execute_result"
    }
   ],
   "source": [
    "/ each right - to apply for each line in input\n",
    "(first;last)@\\:/:inp1 inter\\:.Q.n"
   ]
  },
  {
   "cell_type": "code",
   "execution_count": 63,
   "id": "c96c6016",
   "metadata": {},
   "outputs": [
    {
     "data": {
      "text/plain": [
       "142\n"
      ]
     },
     "execution_count": 63,
     "metadata": {},
     "output_type": "execute_result"
    }
   ],
   "source": [
    "/ convert to long and sum\n",
    "f1:{sum \"J\"$(first;last)@\\:/:x inter\\:.Q.n}\n",
    "f1 inp1"
   ]
  },
  {
   "cell_type": "markdown",
   "id": "6db8e9ff",
   "metadata": {},
   "source": [
    "# Part 2"
   ]
  },
  {
   "cell_type": "code",
   "execution_count": 64,
   "id": "c4f7661f",
   "metadata": {},
   "outputs": [
    {
     "name": "stdout",
     "output_type": "stream",
     "text": [
      "(\"two1nine\";\"eightwothree\";\"abcone2threexyz\";\"xtwone3four\";\"4nineeightseven2\";\"zoneight234\";\"7pqrstsixteen\")\n"
     ]
    }
   ],
   "source": [
    "inp2:0N!read0`:test2.txt"
   ]
  },
  {
   "cell_type": "code",
   "execution_count": 65,
   "id": "fdb70a22",
   "metadata": {},
   "outputs": [
    {
     "name": "stdout",
     "output_type": "stream",
     "text": [
      "\"123456789\"\n"
     ]
    }
   ],
   "source": [
    "/ worded digits\n",
    "w:(\"one\";\"two\";\"three\";\"four\";\"five\";\"six\";\"seven\";\"eight\";\"nine\")\n",
    "/ and their replacements\n",
    "d:0N!1_.Q.n"
   ]
  },
  {
   "cell_type": "code",
   "execution_count": 100,
   "id": "4dba46d3",
   "metadata": {},
   "outputs": [
    {
     "data": {
      "text/plain": [
       "\"eigh23\"\n"
      ]
     },
     "execution_count": 100,
     "metadata": {},
     "output_type": "execute_result"
    }
   ],
   "source": [
    "/ try on single line\n",
    "l:\"eightwothree\"\n",
    "ssr/[l;w;d]\n",
    "/ doesn't work as words are overlayed - should be 823"
   ]
  },
  {
   "cell_type": "code",
   "execution_count": 71,
   "id": "f9655f72",
   "metadata": {},
   "outputs": [
    {
     "data": {
      "text/plain": [
       "`long$()\n",
       ",4\n",
       ",7\n",
       "`long$()\n",
       "`long$()\n",
       "`long$()\n",
       "`long$()\n",
       ",0\n",
       "`long$()\n"
      ]
     },
     "execution_count": 71,
     "metadata": {},
     "output_type": "execute_result"
    },
    {
     "data": {
      "text/plain": [
       "0N 4 7 0N 0N 0N 0N 0 0N\n"
      ]
     },
     "execution_count": 71,
     "metadata": {},
     "output_type": "execute_result"
    },
    {
     "data": {
      "text/plain": [
       "7 1 2 0 3 4 5 6 8\n"
      ]
     },
     "execution_count": 71,
     "metadata": {},
     "output_type": "execute_result"
    },
    {
     "data": {
      "text/plain": [
       "\"eight\"\n"
      ]
     },
     "execution_count": 71,
     "metadata": {},
     "output_type": "execute_result"
    }
   ],
   "source": [
    "l ss/:w / find first ocurrence\n",
    "(l ss/:w)[;0] / extract index of first occurrence\n",
    "iasc 0W^(l ss/:w)[;0] / fill nulls with inf and indexate for asc\n",
    "w first iasc 0W^(l ss/:w)[;0] / first occuring digit"
   ]
  },
  {
   "cell_type": "code",
   "execution_count": 72,
   "id": "0bca455a",
   "metadata": {},
   "outputs": [
    {
     "data": {
      "text/plain": [
       "\"three\"\n"
      ]
     },
     "execution_count": 72,
     "metadata": {},
     "output_type": "execute_result"
    }
   ],
   "source": [
    "/ same but from end - need to reverse all\n",
    "w first iasc 0W^(reverse[l] ss/:reverse each w)[;0] / first occuring digit"
   ]
  },
  {
   "cell_type": "code",
   "execution_count": 88,
   "id": "5382f2f8",
   "metadata": {},
   "outputs": [],
   "source": [
    "/ replace first and last worded digits, then apply part 1\n",
    "f2:{\n",
    "    id:d first iasc 0W^idx:(x ss/:w)[;0]; / digit to put\n",
    "    i:min idx; / index to put digit on\n",
    "    if[i=0W;:x]; / no worded digits\n",
    "    x[i]:id;\n",
    "    id:d first iasc 0W^idx:(reverse[x] ss/:reverse each w)[;0]; / same for last\n",
    "    i:min idx; / index to put digit on\n",
    "    if[i=0W;:x]; / no worded digits\n",
    "    x[count[x]-i+1]:id;\n",
    "    x\n",
    " }"
   ]
  },
  {
   "cell_type": "code",
   "execution_count": 89,
   "id": "787bc013",
   "metadata": {},
   "outputs": [
    {
     "data": {
      "text/plain": [
       "\"8ightwothre3\"\n"
      ]
     },
     "execution_count": 89,
     "metadata": {},
     "output_type": "execute_result"
    }
   ],
   "source": [
    "f2 l"
   ]
  },
  {
   "cell_type": "code",
   "execution_count": 90,
   "id": "dd14f1de",
   "metadata": {},
   "outputs": [
    {
     "data": {
      "text/plain": [
       "\"2wo1nin9\"\n",
       "\"8ightwothre3\"\n",
       "\"abc1ne2thre3xyz\"\n",
       "\"x2wone3fou4\"\n",
       "\"49ineeightseve72\"\n",
       "\"z1neigh8234\"\n",
       "\"7pqrst6ixteen\"\n"
      ]
     },
     "execution_count": 90,
     "metadata": {},
     "output_type": "execute_result"
    }
   ],
   "source": [
    "/ transform\n",
    "f2 each inp2"
   ]
  },
  {
   "cell_type": "code",
   "execution_count": 91,
   "id": "3d3871bc",
   "metadata": {},
   "outputs": [
    {
     "data": {
      "text/plain": [
       "281\n"
      ]
     },
     "execution_count": 91,
     "metadata": {},
     "output_type": "execute_result"
    }
   ],
   "source": [
    "/ apply 1\n",
    "f1 f2 each inp2"
   ]
  },
  {
   "cell_type": "markdown",
   "id": "27d07f8c",
   "metadata": {},
   "source": [
    "# Part 2 - after amend-at eureka"
   ]
  },
  {
   "cell_type": "code",
   "execution_count": 101,
   "id": "17c4fdfa",
   "metadata": {},
   "outputs": [
    {
     "data": {
      "text/plain": [
       "`long$()\n",
       "4 16\n",
       "7 19\n",
       "`long$()\n",
       "`long$()\n",
       "`long$()\n",
       "`long$()\n",
       "0 12\n",
       "`long$()\n"
      ]
     },
     "execution_count": 101,
     "metadata": {},
     "output_type": "execute_result"
    },
    {
     "data": {
      "text/plain": [
       "\"8igh2wo3hree8igh2wo3hree\"\n"
      ]
     },
     "execution_count": 101,
     "metadata": {},
     "output_type": "execute_result"
    }
   ],
   "source": [
    "/ just replace indexes of found words with digits\n",
    "/ preserving length and not ruining overlayed words, even with repeating words\n",
    "l2:l,l\n",
    "l2 ss/:w\n",
    "@[l2;l2 ss/:w;:;d] / amend-at can work with non-plain indexes!"
   ]
  },
  {
   "cell_type": "code",
   "execution_count": 105,
   "id": "90af9f7d",
   "metadata": {},
   "outputs": [
    {
     "data": {
      "text/plain": [
       "281\n"
      ]
     },
     "execution_count": 105,
     "metadata": {},
     "output_type": "execute_result"
    }
   ],
   "source": [
    "f2new:{@[x;x ss/:w;:;d]}\n",
    "f1 f2new each inp2"
   ]
  },
  {
   "cell_type": "code",
   "execution_count": 106,
   "id": "2bb29c47",
   "metadata": {},
   "outputs": [
    {
     "data": {
      "text/plain": [
       "51 1616\n"
      ]
     },
     "execution_count": 106,
     "metadata": {},
     "output_type": "execute_result"
    },
    {
     "data": {
      "text/plain": [
       "16 1040\n"
      ]
     },
     "execution_count": 106,
     "metadata": {},
     "output_type": "execute_result"
    }
   ],
   "source": [
    "/ much faster as well!\n",
    "\\ts:1000 f2 each inp2\n",
    "\\ts:1000 f2new each inp2"
   ]
  },
  {
   "cell_type": "code",
   "execution_count": null,
   "id": "37a74345",
   "metadata": {},
   "outputs": [],
   "source": []
  }
 ],
 "metadata": {
  "kernelspec": {
   "display_name": "Q (kdb+)",
   "language": "q",
   "name": "qpk"
  },
  "language_info": {
   "file_extension": ".q",
   "mimetype": "text/x-q",
   "name": "q",
   "version": "4.0"
  }
 },
 "nbformat": 4,
 "nbformat_minor": 5
}
