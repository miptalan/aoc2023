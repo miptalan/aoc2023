{
 "cells": [
  {
   "cell_type": "markdown",
   "id": "f332eb2c",
   "metadata": {},
   "source": [
    "# Part 1"
   ]
  },
  {
   "cell_type": "code",
   "execution_count": 92,
   "id": "476e9c72",
   "metadata": {},
   "outputs": [
    {
     "name": "stdout",
     "output_type": "stream",
     "text": [
      "(\"1abc2\";\"pqr3stu8vwx\";\"a1b2c3d4e5f\";\"treb7uchet\")\n"
     ]
    }
   ],
   "source": [
    "inp1:0N!read0`:test1.txt"
   ]
  },
  {
   "cell_type": "code",
   "execution_count": 60,
   "id": "2f1d6012",
   "metadata": {},
   "outputs": [
    {
     "data": {
      "text/plain": [
       "\"12\"\n",
       "\"38\"\n",
       "\"12345\"\n",
       ",\"7\"\n"
      ]
     },
     "execution_count": 60,
     "metadata": {},
     "output_type": "execute_result"
    }
   ],
   "source": [
    "/ only digits\n",
    "inp1 inter\\:.Q.n"
   ]
  },
  {
   "cell_type": "code",
   "execution_count": 61,
   "id": "59535bcf",
   "metadata": {},
   "outputs": [
    {
     "data": {
      "text/plain": [
       "\"13\"\n"
      ]
     },
     "execution_count": 61,
     "metadata": {},
     "output_type": "execute_result"
    },
    {
     "data": {
      "text/plain": [
       "\"11\"\n"
      ]
     },
     "execution_count": 61,
     "metadata": {},
     "output_type": "execute_result"
    }
   ],
   "source": [
    "/ use first and last in one go - allows atom char\n",
    "(first;last)@\\:\"123\"\n",
    "(first;last)@\\:\"1\""
   ]
  },
  {
   "cell_type": "code",
   "execution_count": 62,
   "id": "0333bb65",
   "metadata": {},
   "outputs": [
    {
     "data": {
      "text/plain": [
       "\"12\"\n",
       "\"38\"\n",
       "\"15\"\n",
       "\"77\"\n"
      ]
     },
     "execution_count": 62,
     "metadata": {},
     "output_type": "execute_result"
    }
   ],
   "source": [
    "/ each right - to apply for each line in input\n",
    "(first;last)@\\:/:inp1 inter\\:.Q.n"
   ]
  },
  {
   "cell_type": "code",
   "execution_count": 63,
   "id": "6ef0d87f",
   "metadata": {},
   "outputs": [
    {
     "data": {
      "text/plain": [
       "142\n"
      ]
     },
     "execution_count": 63,
     "metadata": {},
     "output_type": "execute_result"
    }
   ],
   "source": [
    "/ convert to long and sum\n",
    "f1:{sum \"J\"$(first;last)@\\:/:x inter\\:.Q.n}\n",
    "f1 inp1"
   ]
  },
  {
   "cell_type": "markdown",
   "id": "9b5db153",
   "metadata": {},
   "source": [
    "# Part 2"
   ]
  },
  {
   "cell_type": "code",
   "execution_count": 64,
   "id": "47eaca44",
   "metadata": {},
   "outputs": [
    {
     "name": "stdout",
     "output_type": "stream",
     "text": [
      "(\"two1nine\";\"eightwothree\";\"abcone2threexyz\";\"xtwone3four\";\"4nineeightseven2\";\"zoneight234\";\"7pqrstsixteen\")\n"
     ]
    }
   ],
   "source": [
    "inp2:0N!read0`:test2.txt"
   ]
  },
  {
   "cell_type": "code",
   "execution_count": 65,
   "id": "e2767296",
   "metadata": {},
   "outputs": [
    {
     "name": "stdout",
     "output_type": "stream",
     "text": [
      "\"123456789\"\n"
     ]
    }
   ],
   "source": [
    "/ worded digits\n",
    "w:(\"one\";\"two\";\"three\";\"four\";\"five\";\"six\";\"seven\";\"eight\";\"nine\")\n",
    "/ and their replacements\n",
    "d:0N!1_.Q.n"
   ]
  },
  {
   "cell_type": "code",
   "execution_count": 100,
   "id": "cbd6441f",
   "metadata": {},
   "outputs": [
    {
     "data": {
      "text/plain": [
       "\"eigh23\"\n"
      ]
     },
     "execution_count": 100,
     "metadata": {},
     "output_type": "execute_result"
    }
   ],
   "source": [
    "/ try on single line\n",
    "l:\"eightwothree\"\n",
    "ssr/[l;w;d]\n",
    "/ doesn't work as words are overlayed - should be 823"
   ]
  },
  {
   "cell_type": "code",
   "execution_count": 71,
   "id": "5ac730ac",
   "metadata": {},
   "outputs": [
    {
     "data": {
      "text/plain": [
       "`long$()\n",
       ",4\n",
       ",7\n",
       "`long$()\n",
       "`long$()\n",
       "`long$()\n",
       "`long$()\n",
       ",0\n",
       "`long$()\n"
      ]
     },
     "execution_count": 71,
     "metadata": {},
     "output_type": "execute_result"
    },
    {
     "data": {
      "text/plain": [
       "0N 4 7 0N 0N 0N 0N 0 0N\n"
      ]
     },
     "execution_count": 71,
     "metadata": {},
     "output_type": "execute_result"
    },
    {
     "data": {
      "text/plain": [
       "7 1 2 0 3 4 5 6 8\n"
      ]
     },
     "execution_count": 71,
     "metadata": {},
     "output_type": "execute_result"
    },
    {
     "data": {
      "text/plain": [
       "\"eight\"\n"
      ]
     },
     "execution_count": 71,
     "metadata": {},
     "output_type": "execute_result"
    }
   ],
   "source": [
    "l ss/:w / find first ocurrence\n",
    "(l ss/:w)[;0] / extract index of first occurrence\n",
    "iasc 0W^(l ss/:w)[;0] / fill nulls with inf and indexate for asc\n",
    "w first iasc 0W^(l ss/:w)[;0] / first occuring digit"
   ]
  },
  {
   "cell_type": "code",
   "execution_count": 72,
   "id": "5f2b428c",
   "metadata": {},
   "outputs": [
    {
     "data": {
      "text/plain": [
       "\"three\"\n"
      ]
     },
     "execution_count": 72,
     "metadata": {},
     "output_type": "execute_result"
    }
   ],
   "source": [
    "/ same but from end - need to reverse all\n",
    "w first iasc 0W^(reverse[l] ss/:reverse each w)[;0] / first occuring digit"
   ]
  },
  {
   "cell_type": "code",
   "execution_count": 111,
   "id": "0ff45b06",
   "metadata": {},
   "outputs": [],
   "source": [
    "/ replace first and last worded digits, then apply part 1\n",
    "f2:{\n",
    "    id:d first iasc 0W^idx:(x ss/:w)[;0]; / digit to put\n",
    "    i:min idx; / index to put digit on\n",
    "    if[i=0W;:x]; / no worded digits\n",
    "    x[i]:id;\n",
    "    id:d first iasc 0W^idx:(reverse[x] ss/:reverse each w)[;0]; / same for last\n",
    "    i:min idx; / index to put digit on\n",
    "    if[i=0W;:x]; / no worded digits\n",
    "    x[count[x]-i+count w d?id]:id;\n",
    "    x\n",
    " }"
   ]
  },
  {
   "cell_type": "code",
   "execution_count": 112,
   "id": "869d8810",
   "metadata": {},
   "outputs": [
    {
     "data": {
      "text/plain": [
       "\"8ightwo3hree\"\n"
      ]
     },
     "execution_count": 112,
     "metadata": {},
     "output_type": "execute_result"
    }
   ],
   "source": [
    "f2 l"
   ]
  },
  {
   "cell_type": "code",
   "execution_count": 113,
   "id": "4f46e061",
   "metadata": {},
   "outputs": [
    {
     "data": {
      "text/plain": [
       "\"2wo19ine\"\n",
       "\"8ightwo3hree\"\n",
       "\"abc1ne23hreexyz\"\n",
       "\"x2wone34our\"\n",
       "\"49ineeight7even2\"\n",
       "\"z1n8ight234\"\n",
       "\"7pqrst6ixteen\"\n"
      ]
     },
     "execution_count": 113,
     "metadata": {},
     "output_type": "execute_result"
    }
   ],
   "source": [
    "/ transform\n",
    "f2 each inp2"
   ]
  },
  {
   "cell_type": "code",
   "execution_count": 114,
   "id": "d7600849",
   "metadata": {},
   "outputs": [
    {
     "data": {
      "text/plain": [
       "281\n"
      ]
     },
     "execution_count": 114,
     "metadata": {},
     "output_type": "execute_result"
    }
   ],
   "source": [
    "/ apply 1\n",
    "f1 f2 each inp2"
   ]
  },
  {
   "cell_type": "markdown",
   "id": "e4a486b4",
   "metadata": {},
   "source": [
    "# Part 2 - after amend-at eureka"
   ]
  },
  {
   "cell_type": "code",
   "execution_count": 115,
   "id": "f0029502",
   "metadata": {},
   "outputs": [
    {
     "data": {
      "text/plain": [
       "`long$()\n",
       "4 16\n",
       "7 19\n",
       "`long$()\n",
       "`long$()\n",
       "`long$()\n",
       "`long$()\n",
       "0 12\n",
       "`long$()\n"
      ]
     },
     "execution_count": 115,
     "metadata": {},
     "output_type": "execute_result"
    },
    {
     "data": {
      "text/plain": [
       "\"8igh2wo3hree8igh2wo3hree\"\n"
      ]
     },
     "execution_count": 115,
     "metadata": {},
     "output_type": "execute_result"
    }
   ],
   "source": [
    "/ just replace indexes of found words with digits\n",
    "/ preserving length and not ruining overlayed words, even with repeating words\n",
    "l2:l,l\n",
    "l2 ss/:w\n",
    "@[l2;l2 ss/:w;:;d] / amend-at can work with non-plain indexes!"
   ]
  },
  {
   "cell_type": "code",
   "execution_count": 116,
   "id": "06c2cafd",
   "metadata": {},
   "outputs": [
    {
     "data": {
      "text/plain": [
       "281\n"
      ]
     },
     "execution_count": 116,
     "metadata": {},
     "output_type": "execute_result"
    }
   ],
   "source": [
    "f2new:{@[x;x ss/:w;:;d]}\n",
    "f1 f2new each inp2"
   ]
  },
  {
   "cell_type": "code",
   "execution_count": 117,
   "id": "1d4ab5e8",
   "metadata": {},
   "outputs": [
    {
     "data": {
      "text/plain": [
       "53 1616\n"
      ]
     },
     "execution_count": 117,
     "metadata": {},
     "output_type": "execute_result"
    },
    {
     "data": {
      "text/plain": [
       "16 1040\n"
      ]
     },
     "execution_count": 117,
     "metadata": {},
     "output_type": "execute_result"
    }
   ],
   "source": [
    "/ much faster as well!\n",
    "\\ts:1000 f2 each inp2\n",
    "\\ts:1000 f2new each inp2"
   ]
  },
  {
   "cell_type": "code",
   "execution_count": null,
   "id": "a0e73c20",
   "metadata": {},
   "outputs": [],
   "source": []
  }
 ],
 "metadata": {
  "kernelspec": {
   "display_name": "Q (kdb+)",
   "language": "q",
   "name": "qpk"
  },
  "language_info": {
   "file_extension": ".q",
   "mimetype": "text/x-q",
   "name": "q",
   "version": "4.0"
  }
 },
 "nbformat": 4,
 "nbformat_minor": 5
}
